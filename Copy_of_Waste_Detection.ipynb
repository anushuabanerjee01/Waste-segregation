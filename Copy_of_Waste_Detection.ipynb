{
  "nbformat": 4,
  "nbformat_minor": 0,
  "metadata": {
    "colab": {
      "name": "Copy of Waste_Detection.ipynb",
      "provenance": []
    },
    "kernelspec": {
      "name": "python3",
      "display_name": "Python 3"
    },
    "accelerator": "GPU"
  },
  "cells": [
    {
      "cell_type": "code",
      "metadata": {
        "id": "YRzgqDlkqrQM",
        "colab": {
          "base_uri": "https://localhost:8080/",
          "height": 121
        },
        "outputId": "4be80d5e-1c7c-4cbe-9fb1-09e3d9b6b9a2"
      },
      "source": [
        "from google.colab import drive \n",
        "drive.mount('/content/drive')"
      ],
      "execution_count": null,
      "outputs": [
        {
          "output_type": "stream",
          "text": [
            "Go to this URL in a browser: https://accounts.google.com/o/oauth2/auth?client_id=947318989803-6bn6qk8qdgf4n4g3pfee6491hc0brc4i.apps.googleusercontent.com&redirect_uri=urn%3aietf%3awg%3aoauth%3a2.0%3aoob&response_type=code&scope=email%20https%3a%2f%2fwww.googleapis.com%2fauth%2fdocs.test%20https%3a%2f%2fwww.googleapis.com%2fauth%2fdrive%20https%3a%2f%2fwww.googleapis.com%2fauth%2fdrive.photos.readonly%20https%3a%2f%2fwww.googleapis.com%2fauth%2fpeopleapi.readonly\n",
            "\n",
            "Enter your authorization code:\n",
            "··········\n",
            "Mounted at /content/drive\n"
          ],
          "name": "stdout"
        }
      ]
    },
    {
      "cell_type": "code",
      "metadata": {
        "id": "Fv1A0w0Aq8Tq",
        "colab": {
          "base_uri": "https://localhost:8080/",
          "height": 151
        },
        "outputId": "ab8a97d2-4f28-40bc-a21d-b4907264989e"
      },
      "source": [
        "! git clone https://github.com/Tessellate-Imaging/Monk_Object_Detection.git "
      ],
      "execution_count": null,
      "outputs": [
        {
          "output_type": "stream",
          "text": [
            "Cloning into 'Monk_Object_Detection'...\n",
            "remote: Enumerating objects: 18, done.\u001b[K\n",
            "remote: Counting objects: 100% (18/18), done.\u001b[K\n",
            "remote: Compressing objects: 100% (14/14), done.\u001b[K\n",
            "remote: Total 4996 (delta 9), reused 8 (delta 4), pack-reused 4978\u001b[K\n",
            "Receiving objects: 100% (4996/4996), 153.99 MiB | 13.15 MiB/s, done.\n",
            "Resolving deltas: 100% (1439/1439), done.\n",
            "Checking out files: 100% (4675/4675), done.\n"
          ],
          "name": "stdout"
        }
      ]
    },
    {
      "cell_type": "code",
      "metadata": {
        "id": "bNST6bdrq_Rf",
        "colab": {
          "base_uri": "https://localhost:8080/",
          "height": 927
        },
        "outputId": "e13d8d80-ed07-4496-c05f-c7a4ff81cf3f"
      },
      "source": [
        "# For colab use the command below\n",
        "! cd Monk_Object_Detection/5_pytorch_retinanet/installation && cat requirements_colab.txt | xargs -n 1 -L 1 pip install\n",
        "\n",
        "# For Local systems and cloud select the other file\n",
        "#! cd Monk_Object_Detection/5_pytorch_retinanet/installation && cat requirements.txt | xargs -n 1 -L 1 pip install"
      ],
      "execution_count": null,
      "outputs": [
        {
          "output_type": "stream",
          "text": [
            "Requirement already satisfied: scikit-learn in /usr/local/lib/python3.6/dist-packages (0.22.2.post1)\n",
            "Requirement already satisfied: scipy>=0.17.0 in /usr/local/lib/python3.6/dist-packages (from scikit-learn) (1.4.1)\n",
            "Requirement already satisfied: numpy>=1.11.0 in /usr/local/lib/python3.6/dist-packages (from scikit-learn) (1.18.5)\n",
            "Requirement already satisfied: joblib>=0.11 in /usr/local/lib/python3.6/dist-packages (from scikit-learn) (0.16.0)\n",
            "Requirement already satisfied: scikit-image in /usr/local/lib/python3.6/dist-packages (0.16.2)\n",
            "Requirement already satisfied: imageio>=2.3.0 in /usr/local/lib/python3.6/dist-packages (from scikit-image) (2.4.1)\n",
            "Requirement already satisfied: pillow>=4.3.0 in /usr/local/lib/python3.6/dist-packages (from scikit-image) (7.0.0)\n",
            "Requirement already satisfied: matplotlib!=3.0.0,>=2.0.0 in /usr/local/lib/python3.6/dist-packages (from scikit-image) (3.2.2)\n",
            "Requirement already satisfied: scipy>=0.19.0 in /usr/local/lib/python3.6/dist-packages (from scikit-image) (1.4.1)\n",
            "Requirement already satisfied: networkx>=2.0 in /usr/local/lib/python3.6/dist-packages (from scikit-image) (2.4)\n",
            "Requirement already satisfied: PyWavelets>=0.4.0 in /usr/local/lib/python3.6/dist-packages (from scikit-image) (1.1.1)\n",
            "Requirement already satisfied: numpy in /usr/local/lib/python3.6/dist-packages (from imageio>=2.3.0->scikit-image) (1.18.5)\n",
            "Requirement already satisfied: python-dateutil>=2.1 in /usr/local/lib/python3.6/dist-packages (from matplotlib!=3.0.0,>=2.0.0->scikit-image) (2.8.1)\n",
            "Requirement already satisfied: pyparsing!=2.0.4,!=2.1.2,!=2.1.6,>=2.0.1 in /usr/local/lib/python3.6/dist-packages (from matplotlib!=3.0.0,>=2.0.0->scikit-image) (2.4.7)\n",
            "Requirement already satisfied: cycler>=0.10 in /usr/local/lib/python3.6/dist-packages (from matplotlib!=3.0.0,>=2.0.0->scikit-image) (0.10.0)\n",
            "Requirement already satisfied: kiwisolver>=1.0.1 in /usr/local/lib/python3.6/dist-packages (from matplotlib!=3.0.0,>=2.0.0->scikit-image) (1.2.0)\n",
            "Requirement already satisfied: decorator>=4.3.0 in /usr/local/lib/python3.6/dist-packages (from networkx>=2.0->scikit-image) (4.4.2)\n",
            "Requirement already satisfied: six>=1.5 in /usr/local/lib/python3.6/dist-packages (from python-dateutil>=2.1->matplotlib!=3.0.0,>=2.0.0->scikit-image) (1.15.0)\n",
            "Collecting efficientnet_pytorch\n",
            "  Downloading https://files.pythonhosted.org/packages/b8/cb/0309a6e3d404862ae4bc017f89645cf150ac94c14c88ef81d215c8e52925/efficientnet_pytorch-0.6.3.tar.gz\n",
            "Requirement already satisfied: torch in /usr/local/lib/python3.6/dist-packages (from efficientnet_pytorch) (1.5.1+cu101)\n",
            "Requirement already satisfied: numpy in /usr/local/lib/python3.6/dist-packages (from torch->efficientnet_pytorch) (1.18.5)\n",
            "Requirement already satisfied: future in /usr/local/lib/python3.6/dist-packages (from torch->efficientnet_pytorch) (0.16.0)\n",
            "Building wheels for collected packages: efficientnet-pytorch\n",
            "  Building wheel for efficientnet-pytorch (setup.py) ... \u001b[?25l\u001b[?25hdone\n",
            "  Created wheel for efficientnet-pytorch: filename=efficientnet_pytorch-0.6.3-cp36-none-any.whl size=12422 sha256=8930cc0b125fb8a9f6393b2a85815f63c61768519c96a2d3a42554b8c2ca9404\n",
            "  Stored in directory: /root/.cache/pip/wheels/42/1e/a9/2a578ba9ad04e776e80bf0f70d8a7f4c29ec0718b92d8f6ccd\n",
            "Successfully built efficientnet-pytorch\n",
            "Installing collected packages: efficientnet-pytorch\n",
            "Successfully installed efficientnet-pytorch-0.6.3\n",
            "Requirement already satisfied: pycocotools from git+https://github.com/abhi-kumar/cocoapi.git#egg=pycocotools&subdirectory=PythonAPI in /usr/local/lib/python3.6/dist-packages (2.0.1)\n",
            "Requirement already satisfied: matplotlib>=2.1.0 in /usr/local/lib/python3.6/dist-packages (from pycocotools) (3.2.2)\n",
            "Requirement already satisfied: cython>=0.27.3 in /usr/local/lib/python3.6/dist-packages (from pycocotools) (0.29.21)\n",
            "Requirement already satisfied: setuptools>=18.0 in /usr/local/lib/python3.6/dist-packages (from pycocotools) (49.1.0)\n",
            "Requirement already satisfied: pyparsing!=2.0.4,!=2.1.2,!=2.1.6,>=2.0.1 in /usr/local/lib/python3.6/dist-packages (from matplotlib>=2.1.0->pycocotools) (2.4.7)\n",
            "Requirement already satisfied: kiwisolver>=1.0.1 in /usr/local/lib/python3.6/dist-packages (from matplotlib>=2.1.0->pycocotools) (1.2.0)\n",
            "Requirement already satisfied: python-dateutil>=2.1 in /usr/local/lib/python3.6/dist-packages (from matplotlib>=2.1.0->pycocotools) (2.8.1)\n",
            "Requirement already satisfied: numpy>=1.11 in /usr/local/lib/python3.6/dist-packages (from matplotlib>=2.1.0->pycocotools) (1.18.5)\n",
            "Requirement already satisfied: cycler>=0.10 in /usr/local/lib/python3.6/dist-packages (from matplotlib>=2.1.0->pycocotools) (0.10.0)\n",
            "Requirement already satisfied: six>=1.5 in /usr/local/lib/python3.6/dist-packages (from python-dateutil>=2.1->matplotlib>=2.1.0->pycocotools) (1.15.0)\n",
            "Collecting dicttoxml\n",
            "  Downloading https://files.pythonhosted.org/packages/74/36/534db111db9e7610a41641a1f6669a964aacaf51858f466de264cc8dcdd9/dicttoxml-1.7.4.tar.gz\n",
            "Building wheels for collected packages: dicttoxml\n",
            "  Building wheel for dicttoxml (setup.py) ... \u001b[?25l\u001b[?25hdone\n",
            "  Created wheel for dicttoxml: filename=dicttoxml-1.7.4-cp36-none-any.whl size=17452 sha256=1c55b019bd1523df8028dc3b5cbbd01229b7a19b56dc71a985287311ae87a4ac\n",
            "  Stored in directory: /root/.cache/pip/wheels/62/4f/a3/afd4a68f5add45a668c14efa53b64d5cffb2be6bacf993c151\n",
            "Successfully built dicttoxml\n",
            "Installing collected packages: dicttoxml\n",
            "Successfully installed dicttoxml-1.7.4\n",
            "Collecting xmltodict\n",
            "  Downloading https://files.pythonhosted.org/packages/28/fd/30d5c1d3ac29ce229f6bdc40bbc20b28f716e8b363140c26eff19122d8a5/xmltodict-0.12.0-py2.py3-none-any.whl\n",
            "Installing collected packages: xmltodict\n",
            "Successfully installed xmltodict-0.12.0\n"
          ],
          "name": "stdout"
        }
      ]
    },
    {
      "cell_type": "code",
      "metadata": {
        "id": "RAtlSb_urS9n"
      },
      "source": [
        "import os\n",
        "os.chdir('/content/drive/My Drive')"
      ],
      "execution_count": null,
      "outputs": []
    },
    {
      "cell_type": "code",
      "metadata": {
        "id": "tiXXtj0jreco",
        "colab": {
          "base_uri": "https://localhost:8080/",
          "height": 35
        },
        "outputId": "afdfc6dc-2335-433a-eec6-98b1967efd49"
      },
      "source": [
        "!pip install xmltodict"
      ],
      "execution_count": null,
      "outputs": [
        {
          "output_type": "stream",
          "text": [
            "Requirement already satisfied: xmltodict in /usr/local/lib/python3.6/dist-packages (0.12.0)\n"
          ],
          "name": "stdout"
        }
      ]
    },
    {
      "cell_type": "code",
      "metadata": {
        "id": "SUG20QgmrhaS"
      },
      "source": [
        "import os\n",
        "import sys\n",
        "import numpy as np\n",
        "import pandas as pd\n",
        "\n",
        "import xmltodict\n",
        "import json\n",
        "from tqdm.notebook import tqdm\n",
        "\n",
        "from pycocotools.coco import COCO"
      ],
      "execution_count": null,
      "outputs": []
    },
    {
      "cell_type": "code",
      "metadata": {
        "id": "cKIi6MGdrlJZ"
      },
      "source": [
        "root_dir = \"Waste_Dataset/\";\n",
        "img_dir = \"Images_merged/\";\n",
        "anno_dir = \"Annotations_merged/\";"
      ],
      "execution_count": null,
      "outputs": []
    },
    {
      "cell_type": "code",
      "metadata": {
        "id": "sqrTy_lhrxnj",
        "colab": {
          "base_uri": "https://localhost:8080/",
          "height": 55
        },
        "outputId": "5d236d7c-610f-4741-a8ee-f48d8db7c660"
      },
      "source": [
        " files = os.listdir(root_dir + anno_dir);\n",
        " print(files)"
      ],
      "execution_count": null,
      "outputs": [
        {
          "output_type": "stream",
          "text": [
            "['image1.xml', 'image2.xml', 'image3.xml', 'image4.xml', 'image5.xml', 'image6.xml', 'image7.xml', 'image8.xml', 'image9.xml', 'image10.xml', 'image11.xml', 'image12.xml', 'image13.xml', 'image14.xml', 'image15.xml', 'image16.xml', 'image17.xml', 'image18.xml', 'image19.xml', 'image20.xml', 'image21.xml', 'image22.xml', 'image23.xml', 'image24.xml', 'image25.xml', 'image26.xml', 'image27.xml', 'image28.xml', 'image29.xml', 'image30.xml', 'image31.xml', 'image32.xml', 'image33.xml', 'image34.xml', 'image35.xml', 'image36.xml', 'image37.xml', 'image38.xml', 'image39.xml', 'image40.xml', 'image41.xml', 'image42.xml', 'image43.xml', 'image44.xml', 'image45.xml', 'image46.xml', 'image47.xml', 'image48.xml', 'image49.xml', 'image50.xml', 'image51.xml', 'image52.xml', 'image53.xml', 'image54.xml', 'image55.xml', 'image56.xml', 'image57.xml', 'image58.xml', 'image59.xml', 'image60.xml', 'image61.xml', 'image62.xml', 'image63.xml', 'image64.xml', 'image65.xml', 'image66.xml', 'image67.xml', 'image68.xml', 'image69.xml', 'image70.xml', 'image71.xml', 'image72.xml', 'image73.xml', 'image74.xml', 'image75.xml', 'image76.xml', 'image77.xml', 'image78.xml', 'image79.xml', 'image80.xml', 'image81.xml', 'image82.xml', 'image83.xml', 'image84.xml', 'image85.xml', 'image86.xml', 'image87.xml', 'image88.xml', 'image89.xml', 'image90.xml', 'image91.xml', 'image92.xml', 'image93.xml', 'image94.xml', 'image95.xml', 'image96.xml', 'image97.xml', 'image98.xml', 'image99.xml', 'image100.xml', 'image102.xml', 'image103.xml', 'image104.xml', 'image105.xml', 'image106.xml', 'image107.xml', 'image108.xml', 'image109.xml', 'image110.xml', 'image111.xml', 'image112.xml', 'image113.xml', 'image114.xml', 'image115.xml', 'image116.xml', 'image117.xml', 'image118.xml', 'image119.xml', 'image120.xml', 'metal1.xml', 'metal5.xml', 'metal6.xml', 'metal7.xml', 'metal8.xml', 'metal9.xml', 'metal10.xml', 'metal11.xml', 'metal12.xml', 'metal13.xml', 'metal14.xml', 'metal15.xml', 'metal16.xml', 'metal17.xml', 'metal18.xml', 'metal48.xml', 'metal49.xml', 'metal50.xml', 'metal51.xml', 'metal52.xml', 'metal53.xml', 'metal54.xml', 'metal55.xml', 'metal56.xml', 'metal57.xml', 'metal58.xml', 'metal59.xml', 'metal60.xml', 'metal61.xml', 'metal62.xml', 'metal63.xml', 'metal64.xml', 'metal65.xml', 'metal66.xml', 'metal67.xml', 'metal68.xml', 'metal69.xml', 'metal70.xml', 'metal71.xml', 'metal72.xml', 'metal73.xml', 'metal74.xml', 'metal75.xml', 'metal76.xml', 'metal77.xml', 'metal78.xml', 'metal79.xml', 'metal80.xml', 'metal81.xml', 'metal82.xml', 'metal83.xml', 'metal84.xml', 'metal85.xml', 'metal86.xml', 'metal87.xml', 'metal88.xml', 'metal89.xml', 'metal90.xml', 'metal91.xml', 'metal92.xml', 'metal93.xml', 'metal94.xml', 'metal95.xml', 'metal96.xml', 'metal97.xml', 'metal98.xml', 'metal99.xml', 'metal100.xml', 'metal101.xml', 'metal102.xml', 'metal103.xml', 'metal104.xml', 'metal105.xml', 'metal106.xml', 'metal107.xml', 'metal108.xml', 'metal109.xml', 'metal110.xml', 'metal111.xml', 'metal112.xml', 'metal113.xml', 'metal114.xml', 'metal115.xml', 'metal116.xml', 'metal117.xml', 'metal118.xml', 'metal119.xml', 'metal120.xml', 'metal121.xml', 'metal122.xml', 'metal123.xml', 'metal124.xml', 'metal125.xml', 'metal126.xml', 'metal127.xml', 'metal128.xml', 'metal129.xml', 'metal130.xml', 'metal131.xml', 'metal132.xml', 'metal133.xml', 'metal134.xml', 'metal135.xml', 'metal136.xml', 'metal137.xml', 'metal138.xml', 'metal139.xml', 'metal140.xml', 'metal141.xml', 'metal142.xml', 'metal143.xml', 'metal144.xml', 'metal145.xml', 'metal146.xml', 'metal147.xml', 'metal148.xml', 'metal149.xml', 'metal150.xml', 'metal151.xml', 'metal152.xml', 'metal153.xml', 'metal154.xml', 'metal155.xml', 'metal156.xml', 'metal157.xml', 'metal158.xml', 'metal159.xml', 'metal160.xml', 'metal161.xml', 'metal162.xml', 'metal163.xml', 'metal164.xml', 'metal165.xml', 'metal166.xml', 'metal167.xml', 'metal168.xml', 'metal169.xml', 'metal170.xml', 'metal171.xml', 'metal172.xml', 'metal173.xml', 'metal174.xml', 'metal175.xml', 'metal176.xml', 'metal177.xml', 'metal178.xml', 'metal179.xml', 'metal180.xml', 'plastic1.xml', 'plastic2.xml', 'plastic3.xml', 'plastic4.xml', 'plastic5.xml', 'plastic6.xml', 'plastic7.xml', 'plastic8.xml', 'plastic9.xml', 'plastic10.xml', 'plastic11.xml', 'plastic12.xml', 'plastic13.xml', 'plastic14.xml', 'plastic15.xml', 'plastic16.xml', 'plastic17.xml', 'plastic18.xml', 'plastic19.xml', 'plastic20.xml', 'plastic21.xml', 'plastic22.xml', 'plastic23.xml', 'plastic24.xml', 'plastic25.xml', 'plastic26.xml', 'plastic27.xml', 'plastic28.xml', 'plastic29.xml', 'plastic30.xml', 'plastic31.xml', 'plastic32.xml', 'plastic33.xml', 'plastic34.xml', 'plastic35.xml', 'plastic36.xml', 'plastic37.xml', 'plastic38.xml', 'plastic39.xml', 'plastic40.xml', 'plastic41.xml', 'plastic42.xml', 'plastic43.xml', 'plastic44.xml', 'plastic45.xml', 'plastic46.xml', 'plastic47.xml', 'plastic48.xml', 'plastic49.xml', 'plastic50.xml', 'plastic51.xml', 'plastic52.xml', 'plastic53.xml', 'plastic54.xml', 'plastic55.xml', 'plastic56.xml', 'plastic57.xml', 'plastic58.xml', 'plastic59.xml', 'plastic60.xml', 'plastic61.xml', 'plastic62.xml', 'plastic63.xml', 'plastic64.xml', 'plastic65.xml', 'plastic66.xml', 'plastic67.xml', 'plastic68.xml', 'plastic69.xml', 'plastic70.xml', 'plastic71.xml', 'plastic72.xml', 'plastic73.xml', 'plastic74.xml', 'plastic75.xml', 'plastic76.xml', 'plastic77.xml', 'plastic78.xml', 'plastic79.xml', 'plastic80.xml', 'plastic81.xml', 'plastic82.xml', 'plastic83.xml', 'plastic84.xml', 'plastic85.xml', 'plastic86.xml', 'plastic87.xml', 'plastic88.xml', 'plastic89.xml', 'plastic90.xml', 'plastic91.xml', 'plastic92.xml', 'plastic93.xml', 'plastic94.xml', 'plastic100.xml', 'plastic101.xml', 'plastic102.xml', 'plastic103.xml', 'plastic104.xml', 'plastic105.xml', 'plastic106.xml', 'plastic107.xml', 'plastic108.xml', 'plastic109.xml', 'plastic110.xml', 'plastic111.xml', 'plastic112.xml', 'plastic113.xml', 'plastic114.xml', 'plastic115.xml', 'plastic116.xml', 'plastic117.xml', 'plastic118.xml', 'plastic119.xml', 'plastic120.xml', 'plastic121.xml', 'plastic122.xml', 'plastic123.xml', 'plastic124.xml', 'plastic125.xml', 'plastic126.xml', 'plastic127.xml', 'plastic128.xml', 'plastic129.xml', 'plastic130.xml', 'plastic131.xml', 'plastic132.xml', 'plastic133.xml', 'plastic134.xml', 'plastic135.xml', 'plastic136.xml', 'plastic137.xml', 'plastic138.xml', 'plastic139.xml', 'plastic140.xml', 'plastic141.xml', 'plastic142.xml', 'plastic143.xml', 'plastic144.xml', 'plastic145.xml', 'plastic146.xml', 'plastic147.xml', 'plastic148.xml', 'plastic149.xml', 'plastic150.xml', 'plastic151.xml', 'plastic152.xml', 'plastic153.xml', 'plastic154.xml', 'plastic155.xml', 'plastic156.xml', 'plastic157.xml', 'O_1.xml', 'O_2.xml', 'O_3.xml', 'O_4.xml', 'O_5.xml', 'O_6.xml', 'O_7.xml', 'O_8.xml', 'O_9.xml', 'O_10.xml', 'O_11.xml', 'O_12.xml', 'O_13.xml', 'O_14.xml', 'O_15.xml', 'O_16.xml', 'O_17.xml', 'O_18.xml', 'O_19.xml', 'O_20.xml', 'O_21.xml', 'O_22.xml', 'O_23.xml', 'O_24.xml', 'O_25.xml', 'O_26.xml', 'O_27.xml', 'O_28.xml', 'O_29.xml', 'O_30.xml', 'O_31.xml', 'O_32.xml', 'O_33.xml', 'O_34.xml', 'O_35.xml', 'O_36.xml', 'O_37.xml', 'O_38.xml', 'O_39.xml', 'O_40.xml', 'O_41.xml', 'O_42.xml', 'O_43.xml', 'O_44.xml', 'O_45.xml', 'O_46.xml', 'O_47.xml', 'O_48.xml', 'O_49.xml', 'O_50.xml', 'O_51.xml', 'O_52.xml', 'O_53.xml', 'O_54.xml', 'O_55.xml', 'O_56.xml', 'O_57.xml', 'O_58.xml', 'O_59.xml', 'O_60.xml', 'O_61.xml', 'O_62.xml', 'O_63.xml', 'O_64.xml', 'O_65.xml', 'O_66.xml', 'O_67.xml', 'O_68.xml', 'O_69.xml', 'O_70.xml', 'O_71.xml', 'O_72.xml', 'O_73.xml', 'O_74.xml', 'O_75.xml', 'O_76.xml', 'O_77.xml', 'O_78.xml', 'O_79.xml', 'O_80.xml', 'O_81.xml', 'O_83.xml', 'O_84.xml', 'O_85.xml', 'O_86.xml', 'O_87.xml', 'O_88.xml', 'O_89.xml', 'O_91.xml', 'O_92.xml', 'O_93.xml', 'O_94.xml', 'O_95.xml', 'O_96.xml', 'O_97.xml', 'O_98.xml', 'O_99.xml', 'O_100.xml', 'O_371.xml', 'O_372.xml', 'O_375.xml', 'O_376.xml', 'O_380.xml', 'O_386.xml', 'O_387.xml', 'O_389.xml', 'O_391.xml', 'O_392.xml', 'O_393.xml', 'O_394.xml', 'O_395.xml', 'O_401.xml', 'O_403.xml', 'O_405.xml', 'O_407.xml', 'O_408.xml', 'O_409.xml', 'O_410.xml', 'O_412.xml', 'O_413.xml', 'O_414.xml', 'O_416.xml', 'O_417.xml', 'O_418.xml', 'O_419.xml', 'O_420.xml', 'O_421.xml', 'O_423.xml', 'O_425.xml', 'O_426.xml', 'O_427.xml', 'O_428.xml', 'O_429.xml', 'O_432.xml', 'O_433.xml', 'O_437.xml', 'O_438.xml', 'O_441.xml', 'O_444.xml', 'O_447.xml', 'O_448.xml', 'O_450.xml', 'O_451.xml', 'O_461.xml', 'O_462.xml', 'O_463.xml', 'O_464.xml', 'O_465.xml', 'O_466.xml', 'O_467.xml', 'O_469.xml', 'O_470.xml', 'O_13603.xml', 'O_13604.xml', 'O_13605.xml', 'O_13606.xml', 'O_13607.xml', 'O_13608.xml', 'O_13609.xml', 'O_13610.xml', 'O_13611.xml', 'O_13612.xml', 'O_13613.xml', 'O_13614.xml', 'O_13615.xml', 'O_13616.xml', 'O_13617.xml', 'O_13618.xml', 'O_13619.xml', 'O_13620.xml', 'O_13621.xml', 'O_13622.xml', 'O_13623.xml', 'O_13624.xml', 'O_13625.xml', 'O_13626.xml', 'O_13627.xml', 'O_13628.xml', 'O_13629.xml', 'O_13630.xml', 'O_13631.xml', 'O_13632.xml', 'O_13633.xml', 'O_13634.xml', 'O_13635.xml', 'O_13636.xml', 'O_13637.xml', 'O_13638.xml', 'O_13639.xml', 'O_13640.xml', 'O_13641.xml', 'O_13642.xml', 'O_13643.xml', 'O_13644.xml', 'O_13645.xml', 'O_13646.xml', 'O_13648.xml', 'O_13649.xml', 'O_13650.xml', 'O_13651.xml', 'O_13652.xml', 'O_13653.xml', 'O_13654.xml', 'O_13655.xml', 'O_13656.xml', 'O_13658.xml', 'O_13659.xml', 'O_13660.xml', 'O_13661.xml', 'O_13662.xml', 'O_13663.xml', 'O_13664.xml', 'O_13665.xml', 'O_13666.xml', 'O_13667.xml', 'O_13668.xml', 'O_13669.xml', 'O_13670.xml', 'O_13671.xml', 'O_13672.xml', 'O_13673.xml', 'O_13674.xml', 'O_13675.xml', 'O_13676.xml', 'O_13677.xml', 'O_13678.xml', 'O_13679.xml', 'O_13680.xml', 'O_13681.xml', 'O_13682.xml', 'plastic158.xml', 'plastic159.xml', 'plastic160.xml', 'plastic161.xml', 'plastic162.xml', 'plastic163.xml', 'plastic164.xml', 'plastic165.xml', 'plastic166.xml', 'plastic167.xml', 'plastic168.xml', 'plastic169.xml', 'plastic170.xml', 'plastic171.xml', 'plastic172.xml', 'plastic173.xml', 'plastic174.xml', 'plastic175.xml', 'plastic176.xml', 'plastic177.xml', 'plastic178.xml', 'plastic179.xml', 'plastic180.xml', 'plastic181.xml', 'plastic182.xml', 'plastic183.xml', 'plastic184.xml', 'plastic185.xml', 'plastic186.xml', 'plastic187.xml', 'plastic188.xml', 'plastic189.xml', 'plastic190.xml', 'plastic191.xml', 'plastic192.xml', 'plastic193.xml', 'plastic194.xml', 'plastic195.xml', 'plastic196.xml', 'plastic197.xml', 'plastic198.xml', 'plastic199.xml', 'plastic200.xml', 'plastic201.xml', 'plastic202.xml', 'plastic203.xml', 'plastic204.xml', 'plastic205.xml', 'plastic206.xml', 'plastic207.xml', 'plastic208.xml', 'plastic209.xml', 'plastic210.xml', 'plastic211.xml', 'plastic212.xml', 'plastic213.xml', 'plastic214.xml', 'plastic215.xml', 'plastic216.xml', 'plastic217.xml', 'plastic218.xml', 'plastic219.xml', 'plastic220.xml', 'plastic221.xml', 'plastic222.xml', 'plastic223.xml', 'plastic224.xml', 'plastic225.xml', 'plastic226.xml', 'plastic227.xml', 'plastic228.xml', 'plastic229.xml', 'plastic230.xml', 'plastic231.xml', 'plastic232.xml', 'plastic233.xml', 'plastic234.xml', 'plastic235.xml', 'plastic236.xml', 'plastic237.xml', 'plastic238.xml', 'plastic239.xml', 'plastic240.xml', 'plastic241.xml', 'plastic242.xml', 'plastic243.xml', 'plastic244.xml', 'plastic245.xml', 'plastic246.xml', 'plastic247.xml', 'plastic248.xml', 'plastic249.xml', 'plastic250.xml', 'plastic251.xml', 'plastic252.xml', 'plastic253.xml', 'plastic254.xml', 'plastic255.xml', 'plastic257.xml', 'plastic258.xml', 'O_12869.xml', 'download 1.xml', 'download 2.xml', 'image_01.xml', 'image_010.xml', 'image_02.xml', 'image_03.xml', 'image_04.xml', 'image_05.xml', 'image_06.xml', 'image_07.xml', 'image_08.xml', 'image_09.xml', 'image_11.xml', 'image_12.xml', 'image_13.xml', 'image_14.xml', 'image_15.xml', 'image_16.xml', 'image_17.xml', 'image_18.xml', 'image_19.xml', 'image_20.xml', 'image_21.xml', 'image_22.xml', 'image_23.xml', 'image_24.xml', 'image_25.xml', 'image_26.xml', 'image_27.xml', 'image_28.xml', 'image_29.xml', 'image_30.xml', 'image_31.xml', 'image_32.xml', 'image_33.xml', 'image_34.xml', 'image_35.xml', 'image_36.xml', 'image_37.xml', 'image_38.xml', 'image_39.xml', 'image_40.xml', 'image_41.xml', 'image_42.xml', 'image_43.xml', 'image_44.xml', 'image_45.xml', 'image_46.xml', 'image_47.xml', 'image_48.xml']\n"
          ],
          "name": "stdout"
        }
      ]
    },
    {
      "cell_type": "code",
      "metadata": {
        "id": "KDvA0Qn3r8G1"
      },
      "source": [
        "combined = [];\n",
        "for i in tqdm(range(len(files))):\n",
        "    annoFile = root_dir + \"/\" + anno_dir + \"/\" + files[i];\n",
        "    f = open(annoFile, 'r');\n",
        "    my_xml = f.read();\n",
        "    anno = dict(dict(xmltodict.parse(my_xml))[\"annotation\"])\n",
        "    fname = anno[\"filename\"];\n",
        "    label_str = \"\";\n",
        "    if(type(anno[\"object\"]) == list ):\n",
        "        for j in range(len(anno[\"object\"])):\n",
        "            obj = dict(anno[\"object\"][j]);\n",
        "            label = anno[\"object\"][j][\"name\"];\n",
        "            bbox = dict(anno[\"object\"][j][\"bndbox\"])\n",
        "            x1 = bbox[\"xmin\"];\n",
        "            y1 = bbox[\"ymin\"];\n",
        "            x2 = bbox[\"xmax\"];\n",
        "            y2 = bbox[\"ymax\"];\n",
        "            if(j == len(anno[\"object\"])-1):\n",
        "                label_str += x1 + \" \" + y1 + \" \" + x2 + \" \" + y2 + \" \" + label;\n",
        "            else:        \n",
        "                label_str += x1 + \" \" + y1 + \" \" + x2 + \" \" + y2 + \" \" + label + \" \";\n",
        "    else:\n",
        "        obj = dict(anno[\"object\"]);\n",
        "        label = anno[\"object\"][\"name\"];\n",
        "        bbox = dict(anno[\"object\"][\"bndbox\"])\n",
        "        x1 = bbox[\"xmin\"];\n",
        "        y1 = bbox[\"ymin\"];\n",
        "        x2 = bbox[\"xmax\"];\n",
        "        y2 = bbox[\"ymax\"];\n",
        "        \n",
        "        label_str += x1 + \" \" + y1 + \" \" + x2 + \" \" + y2 + \" \" + label;\n",
        "    \n",
        "    \n",
        "    combined.append([fname, label_str])"
      ],
      "execution_count": null,
      "outputs": []
    },
    {
      "cell_type": "code",
      "metadata": {
        "id": "JlShGSYwtMDO",
        "colab": {
          "base_uri": "https://localhost:8080/",
          "height": 55
        },
        "outputId": "cb4a092e-4188-43a5-e466-02979cd064d3"
      },
      "source": [
        "print(combined)"
      ],
      "execution_count": null,
      "outputs": [
        {
          "output_type": "stream",
          "text": [
            "[['image1.jpg', '77 82 164 151 wet_waste'], ['image2.jpg', '10 17 268 174 wet_waste'], ['image3.jpg', '3 10 214 207 wet_waste'], ['image4.jpg', '58 24 198 79 wet_waste'], ['image5.jpg', '47 78 116 152 wet_waste'], ['image6.jpg', '1 1 176 264 wet_waste'], ['image7.jpg', '213 5 285 163 wet_waste'], ['image8.jpg', '132 10 208 79 wet_waste'], ['image9.jpg', '116 68 233 164 wet_waste'], ['image10.jpg', '17 1 293 170 wet_waste'], ['image11.jpg', '114 2 246 77 wet_waste'], ['image12.jpg', '27 18 236 162 wet_waste'], ['image13.jpg', '1 2 150 162 wet_waste'], ['image14.jpg', '45 4 258 161 wet_waste'], ['image15.jpg', '160 61 218 160 wet_waste'], ['image16.jpg', '2 2 262 168 wet_waste'], ['image17.jpg', '1 2 273 169 wet_waste'], ['image18.jpg', '138 32 192 80 wet_waste'], ['image19.jpg', '121 51 180 108 wet_waste'], ['image20.jpg', '22 33 198 217 wet_waste'], ['image21.jpg', '1 38 222 200 wet_waste'], ['image22.jpg', '83 19 176 121 wet_waste'], ['image23.jpg', '35 6 249 167 wet_waste'], ['image24.jpg', '31 2 266 161 wet_waste'], ['image25.jpg', '46 2 284 164 wet_waste'], ['image26.jpg', '13 1 274 174 wet_waste'], ['image27.jpg', '1 2 274 181 wet_waste'], ['image28.jpg', '109 104 175 174 wet_waste'], ['image29.jpg', '124 44 237 158 wet_waste'], ['image30.jpg', '66 36 211 144 wet_waste'], ['image31.jpg', '10 24 224 172 wet_waste'], ['image32.jpg', '4 32 257 165 wet_waste'], ['image33.jpg', '17 7 285 158 wet_waste'], ['image34.jpg', '67 69 229 158 wet_waste'], ['image35.jpg', '1 2 252 183 wet_waste'], ['image36.jpg', '51 47 124 120 wet_waste'], ['image37.jpg', '7 179 174 259 wet_waste'], ['image38.jpg', '4 43 197 133 wet_waste'], ['image39.jpg', '25 5 276 168 wet_waste'], ['image40.jpg', '132 7 246 154 wet_waste'], ['image41.jpg', '9 53 214 176 wet_waste'], ['image42.jpg', '67 30 130 155 wet_waste'], ['image43.jpg', '9 8 268 176 wet_waste'], ['image44.jpg', '29 5 264 173 wet_waste'], ['image45.jpg', '28 43 174 160 wet_waste'], ['image46.jpg', '37 7 263 177 wet_waste'], ['image47.jpg', '128 33 265 176 wet_waste'], ['image48.jpg', '50 50 209 159 wet_waste'], ['image49.jpg', '102 71 199 137 wet_waste'], ['image50.jpg', '75 50 243 128 wet_waste'], ['image51.jpg', '14 23 259 177 wet_waste'], ['image52.jpg', '87 7 246 127 wet_waste'], ['image53.jpg', '111 98 242 152 wet_waste'], ['image54.jpg', '33 18 238 177 wet_waste'], ['image55.jpg', '86 3 224 82 wet_waste'], ['image56.jpg', '2 41 275 181 wet_waste'], ['image57.jpg', '73 1 242 162 wet_waste'], ['image58.jpg', '12 49 212 181 wet_waste'], ['image59.jpg', '25 5 231 183 wet_waste'], ['image60.jpg', '6 4 116 96 wet_waste'], ['image61.jpg', '1 3 274 179 wet_waste'], ['image62.jpg', '63 2 236 115 wet_waste'], ['image63.jpg', '5 97 166 176 wet_waste'], ['image64.jpg', '1 80 158 159 wet_waste'], ['image65.jpg', '38 25 264 173 wet_waste'], ['image66.jpg', '24 22 207 199 wet_waste'], ['image67.jpg', '135 20 274 159 wet_waste'], ['image68.jpg', '7 1 219 217 wet_waste'], ['image69.jpg', '15 25 205 193 wet_waste'], ['image70.jpg', '59 48 247 161 wet_waste'], ['image71.jpg', '40 82 171 193 wet_waste'], ['image72.jpg', '1 2 183 236 wet_waste'], ['image73.jpg', '3 1 258 191 wet_waste'], ['image74.jpg', '92 45 236 190 wet_waste'], ['image75.jpg', '16 13 251 169 wet_waste'], ['image76.jpg', '22 19 255 163 wet_waste'], ['image77.jpg', '67 94 148 156 wet_waste'], ['image78.jpg', '4 2 286 166 wet_waste'], ['image79.jpg', '5 71 212 161 wet_waste'], ['image80.jpg', '8 49 218 194 wet_waste'], ['image81.jpg', '24 32 264 182 wet_waste'], ['image82.jpg', '14 61 214 173 wet_waste'], ['image83.jpg', '15 1 130 113 wet_waste'], ['image84.jpg', '131 36 266 158 wet_waste'], ['image85.jpg', '33 61 255 162 wet_waste'], ['image86.jpg', '8 42 119 156 wet_waste'], ['image87.jpg', '1 1 275 180 wet_waste'], ['image88.jpg', '1 1 274 182 wet_waste'], ['image89.jpg', '10 40 253 174 wet_waste'], ['image90.jpg', '26 1 158 174 wet_waste'], ['image91.jpg', '5 27 229 212 wet_waste'], ['image92.jpg', '74 113 139 183 wet_waste'], ['image93.jpg', '41 7 265 170 wet_waste'], ['image94.jpg', '40 26 228 170 wet_waste'], ['image95.jpg', '59 34 261 170 wet_waste'], ['image96.jpg', '1 3 252 187 wet_waste'], ['image97.jpg', '18 125 176 199 wet_waste'], ['image98.jpg', '12 47 130 176 wet_waste'], ['image99.jpg', '9 1 253 188 wet_waste'], ['image100.jpg', '9 11 270 173 wet_waste'], ['image102.jpg', '17 47 133 150 wet_waste'], ['image103.jpg', '76 51 189 165 wet_waste'], ['image104.jpg', '43 2 235 183 wet_waste'], ['image105.jpg', '143 17 259 104 wet_waste'], ['image106.jpg', '1 1 257 178 wet_waste'], ['image107.jpg', '35 12 249 173 wet_waste'], ['image108.jpg', '62 63 110 140 wet_waste'], ['image109.jpg', '95 37 217 149 wet_waste'], ['image110.jpg', '5 23 140 180 wet_waste'], ['image111.jpg', '105 24 258 174 wet_waste'], ['image112.jpg', '19 97 113 225 wet_waste'], ['image113.jpg', '23 1 288 159 wet_waste'], ['image114.jpg', '24 17 257 179 wet_waste'], ['image115.jpg', '11 14 258 186 wet_waste'], ['image116.jpg', '8 7 283 175 wet_waste'], ['image117.jpg', '48 13 238 163 wet_waste'], ['image118.jpg', '113 3 199 95 wet_waste'], ['image119.jpg', '47 63 133 149 wet_waste'], ['image120.jpg', '25 23 233 156 wet_waste'], ['metal1.jpg', '1 1 329 292 dry_waste'], ['metal5.jpg', '35 18 457 384 dry_waste'], ['metal6.jpg', '174 123 307 230 dry_waste'], ['metal7.jpg', '128 53 338 293 dry_waste'], ['metal8.jpg', '111 84 341 317 dry_waste'], ['metal9.jpg', '137 112 327 279 dry_waste'], ['metal10.jpg', '240 1 512 383 dry_waste'], ['metal11.jpg', '1 2 512 379 dry_waste'], ['metal12.jpg', '1 99 511 381 dry_waste'], ['metal13.jpg', '215 42 511 382 dry_waste'], ['metal14.jpg', '122 21 511 378 dry_waste'], ['metal15.jpg', '62 123 433 334 dry_waste'], ['metal16.jpg', '2 45 511 378 dry_waste'], ['metal17.jpg', '75 10 363 304 dry_waste'], ['metal18.jpg', '102 137 373 275 dry_waste'], ['metal48.jpg', '184 124 324 258 dry_waste'], ['metal49.jpg', '137 1 512 338 dry_waste'], ['metal50.jpg', '5 18 510 384 dry_waste'], ['metal51.jpg', '168 77 420 316 dry_waste'], ['metal52.jpg', '18 1 498 379 dry_waste'], ['metal53.jpg', '84 1 390 272 dry_waste'], ['metal54.jpg', '9 2 482 382 dry_waste'], ['metal55.jpg', '1 119 512 383 dry_waste'], ['metal56.jpg', '131 124 452 383 dry_waste'], ['metal57.jpg', '104 79 387 324 dry_waste'], ['metal58.jpg', '143 103 489 383 dry_waste'], ['metal59.jpg', '184 133 510 382 dry_waste'], ['metal60.jpg', '40 71 378 358 dry_waste'], ['metal61.jpg', '14 1 509 382 dry_waste'], ['metal62.jpg', '69 102 421 320 dry_waste'], ['metal63.jpg', '151 67 509 381 dry_waste'], ['metal64.jpg', '1 30 385 370 dry_waste'], ['metal65.jpg', '125 9 489 377 dry_waste'], ['metal66.jpg', '135 106 396 381 dry_waste'], ['metal67.jpg', '148 123 407 384 dry_waste'], ['metal68.jpg', '93 100 441 383 dry_waste'], ['metal69.jpg', '102 121 359 266 dry_waste'], ['metal70.jpg', '54 106 444 332 dry_waste'], ['metal71.jpg', '141 22 509 382 dry_waste'], ['metal72.jpg', '127 1 510 381 dry_waste'], ['metal73.jpg', '204 145 511 384 dry_waste'], ['metal74.jpg', '3 129 429 384 dry_waste'], ['metal75.jpg', '17 84 510 384 dry_waste'], ['metal76.jpg', '27 40 511 379 dry_waste'], ['metal77.jpg', '1 1 459 382 dry_waste'], ['metal78.jpg', '130 84 411 384 dry_waste'], ['metal79.jpg', '13 115 480 375 dry_waste'], ['metal80.jpg', '67 1 459 349 dry_waste'], ['metal81.jpg', '52 146 509 383 dry_waste'], ['metal82.jpg', '97 61 332 299 dry_waste'], ['metal83.jpg', '22 28 509 382 dry_waste'], ['metal84.jpg', '113 1 511 384 dry_waste'], ['metal85.jpg', '48 192 483 384 dry_waste'], ['metal86.jpg', '129 44 452 384 dry_waste'], ['metal87.jpg', '161 2 511 382 dry_waste'], ['metal88.jpg', '2 36 509 383 dry_waste'], ['metal89.jpg', '34 10 502 380 dry_waste'], ['metal90.jpg', '151 90 425 313 dry_waste'], ['metal91.jpg', '179 93 327 233 dry_waste'], ['metal92.jpg', '161 66 356 286 dry_waste'], ['metal93.jpg', '115 81 510 382 dry_waste'], ['metal94.jpg', '1 97 511 384 dry_waste'], ['metal95.jpg', '124 1 437 246 dry_waste'], ['metal96.jpg', '123 169 414 384 dry_waste'], ['metal97.jpg', '30 3 371 335 dry_waste'], ['metal98.jpg', '107 1 367 290 dry_waste'], ['metal99.jpg', '124 49 464 380 dry_waste'], ['metal100.jpg', '78 12 438 350 dry_waste'], ['metal101.jpg', '159 106 489 357 dry_waste'], ['metal102.jpg', '156 73 374 336 dry_waste'], ['metal103.jpg', '117 97 380 303 dry_waste'], ['metal104.jpg', '178 1 448 288 dry_waste'], ['metal105.jpg', '67 70 507 379 dry_waste'], ['metal106.jpg', '115 105 447 384 dry_waste'], ['metal107.jpg', '81 52 367 325 dry_waste'], ['metal108.jpg', '1 49 510 382 dry_waste'], ['metal109.jpg', '227 2 512 327 dry_waste'], ['metal110.jpg', '20 101 379 362 dry_waste'], ['metal111.jpg', '66 3 510 382 dry_waste'], ['metal112.jpg', '105 50 509 383 dry_waste'], ['metal113.jpg', '183 61 512 377 dry_waste'], ['metal114.jpg', '2 49 512 380 dry_waste'], ['metal115.jpg', '1 1 512 254 dry_waste'], ['metal116.jpg', '124 97 378 339 dry_waste'], ['metal117.jpg', '97 14 454 356 dry_waste'], ['metal118.jpg', '1 1 512 356 dry_waste'], ['metal119.jpg', '136 47 401 308 dry_waste'], ['metal120.jpg', '8 26 506 368 dry_waste'], ['metal121.jpg', '88 115 512 382 dry_waste'], ['metal122.jpg', '95 83 374 321 dry_waste'], ['metal123.jpg', '137 1 512 327 dry_waste'], ['metal124.jpg', '126 104 371 279 dry_waste'], ['metal125.jpg', '74 106 463 274 dry_waste'], ['metal126.jpg', '9 3 462 384 dry_waste'], ['metal127.jpg', '117 1 459 326 dry_waste'], ['metal128.jpg', '139 1 346 384 dry_waste'], ['metal129.jpg', '115 74 338 384 dry_waste'], ['metal130.jpg', '150 69 455 384 dry_waste'], ['metal131.jpg', '148 98 376 320 dry_waste'], ['metal132.jpg', '28 32 512 329 dry_waste'], ['metal133.jpg', '184 42 495 343 dry_waste'], ['metal134.jpg', '80 73 510 384 dry_waste'], ['metal135.jpg', '105 103 512 383 dry_waste'], ['metal136.jpg', '170 168 442 384 dry_waste'], ['metal137.jpg', '60 109 512 344 dry_waste'], ['metal138.jpg', '131 68 406 344 dry_waste'], ['metal139.jpg', '237 1 512 381 dry_waste'], ['metal140.jpg', '102 4 434 321 dry_waste'], ['metal141.jpg', '180 1 512 383 dry_waste'], ['metal142.jpg', '111 1 504 384 dry_waste'], ['metal143.jpg', '50 88 477 384 dry_waste'], ['metal144.jpg', '2 72 504 384 dry_waste'], ['metal145.jpg', '127 53 447 338 dry_waste'], ['metal146.jpg', '105 90 398 384 dry_waste'], ['metal147.jpg', '101 41 483 336 dry_waste'], ['metal148.jpg', '170 139 284 250 dry_waste'], ['metal149.jpg', '145 111 300 286 dry_waste'], ['metal150.jpg', '55 122 473 298 dry_waste'], ['metal151.jpg', '1 1 486 372 dry_waste'], ['metal152.jpg', '169 142 287 252 dry_waste'], ['metal153.jpg', '48 81 512 363 dry_waste'], ['metal154.jpg', '120 101 339 289 dry_waste'], ['metal155.jpg', '176 124 289 232 dry_waste'], ['metal156.jpg', '185 63 305 272 dry_waste'], ['metal157.jpg', '21 1 471 279 dry_waste'], ['metal158.jpg', '181 54 452 316 dry_waste'], ['metal159.jpg', '174 125 346 266 dry_waste'], ['metal160.jpg', '173 101 323 265 dry_waste'], ['metal161.jpg', '151 1 473 348 dry_waste'], ['metal162.jpg', '1 1 512 381 dry_waste'], ['metal163.jpg', '52 2 442 309 dry_waste'], ['metal164.jpg', '136 64 426 297 dry_waste'], ['metal165.jpg', '147 138 322 232 dry_waste'], ['metal166.jpg', '205 149 280 236 dry_waste'], ['metal167.jpg', '144 85 367 304 dry_waste'], ['metal168.jpg', '7 3 395 377 dry_waste'], ['metal169.jpg', '86 31 413 361 dry_waste'], ['metal170.jpg', '59 10 379 353 dry_waste'], ['metal171.jpg', '32 6 332 376 dry_waste'], ['metal172.jpg', '20 27 413 379 dry_waste'], ['metal173.jpg', '92 7 421 384 dry_waste'], ['metal174.jpg', '88 2 512 327 dry_waste'], ['metal175.jpg', '109 7 424 362 dry_waste'], ['metal176.jpg', '5 1 511 382 dry_waste'], ['metal177.jpg', '2 2 473 384 dry_waste'], ['metal178.jpg', '115 143 289 241 dry_waste'], ['metal179.jpg', '207 110 382 313 dry_waste'], ['metal180.jpg', '1 1 510 378 dry_waste'], ['plastic1.jpg', '98 101 438 296 dry_waste'], ['plastic2.jpg', '50 101 492 288 dry_waste'], ['plastic3.jpg', '78 66 406 298 dry_waste'], ['plastic4.jpg', '80 55 381 298 dry_waste'], ['plastic5.jpg', '152 45 380 325 dry_waste'], ['plastic6.jpg', '85 42 389 370 dry_waste'], ['plastic7.jpg', '45 88 342 299 dry_waste'], ['plastic8.jpg', '130 45 450 340 dry_waste'], ['plastic9.jpg', '152 123 344 277 dry_waste'], ['plastic10.jpg', '173 126 333 266 dry_waste'], ['plastic11.jpg', '151 142 350 235 dry_waste'], ['plastic12.jpg', '147 48 348 307 dry_waste'], ['plastic13.jpg', '124 75 441 290 dry_waste'], ['plastic14.jpg', '62 1 446 300 dry_waste'], ['plastic15.jpg', '39 56 475 342 dry_waste'], ['plastic16.jpg', '13 2 418 373 dry_waste'], ['plastic17.jpg', '100 76 383 363 dry_waste'], ['plastic18.jpg', '20 3 471 327 dry_waste'], ['plastic19.jpg', '154 76 343 270 dry_waste'], ['plastic20.jpg', '70 14 394 352 dry_waste'], ['plastic21.jpg', '56 83 506 310 dry_waste'], ['plastic22.jpg', '162 53 434 282 dry_waste'], ['plastic23.jpg', '161 97 380 271 dry_waste'], ['plastic24.jpg', '203 3 505 220 dry_waste'], ['plastic25.jpg', '3 1 512 381 dry_waste'], ['plastic26.jpg', '155 99 408 294 dry_waste'], ['plastic27.jpg', '48 19 468 298 dry_waste'], ['plastic28.jpg', '110 4 508 382 dry_waste'], ['plastic29.jpg', '179 17 509 384 dry_waste'], ['plastic30.jpg', '25 1 440 288 dry_waste'], ['plastic31.jpg', '157 31 411 288 dry_waste'], ['plastic32.jpg', '94 1 436 366 dry_waste'], ['plastic33.jpg', '80 63 400 354 dry_waste'], ['plastic34.jpg', '222 6 380 264 dry_waste'], ['plastic35.jpg', '186 92 420 313 dry_waste'], ['plastic36.jpg', '20 47 480 355 dry_waste'], ['plastic37.jpg', '4 42 512 350 dry_waste'], ['plastic38.jpg', '123 69 512 378 dry_waste'], ['plastic39.jpg', '4 75 511 384 dry_waste'], ['plastic40.jpg', '1 2 437 321 dry_waste'], ['plastic41.jpg', '95 46 376 313 dry_waste'], ['plastic42.jpg', '100 10 509 339 dry_waste'], ['plastic43.jpg', '219 106 426 290 dry_waste'], ['plastic44.jpg', '135 10 440 339 dry_waste'], ['plastic45.jpg', '143 124 447 380 dry_waste'], ['plastic46.jpg', '120 119 507 383 dry_waste'], ['plastic47.jpg', '100 111 406 247 dry_waste'], ['plastic48.jpg', '221 11 510 371 dry_waste'], ['plastic49.jpg', '22 106 465 288 dry_waste'], ['plastic50.jpg', '58 5 456 357 dry_waste'], ['plastic51.jpg', '58 91 328 384 dry_waste'], ['plastic52.jpg', '129 76 373 319 dry_waste'], ['plastic53.jpg', '55 28 492 384 dry_waste'], ['plastic54.jpg', '137 40 432 325 dry_waste'], ['plastic55.jpg', '2 1 384 384 dry_waste'], ['plastic56.jpg', '99 15 444 347 dry_waste'], ['plastic57.jpg', '167 62 482 383 dry_waste'], ['plastic58.jpg', '186 63 484 384 dry_waste'], ['plastic59.jpg', '38 1 469 301 dry_waste'], ['plastic60.jpg', '30 147 430 306 dry_waste'], ['plastic61.jpg', '135 46 461 340 dry_waste'], ['plastic62.jpg', '109 8 408 382 dry_waste'], ['plastic63.jpg', '110 74 445 382 dry_waste'], ['plastic64.jpg', '65 42 439 310 dry_waste'], ['plastic65.jpg', '85 131 341 384 dry_waste'], ['plastic66.jpg', '17 1 512 312 dry_waste'], ['plastic67.jpg', '47 49 470 380 dry_waste'], ['plastic68.jpg', '115 1 502 278 dry_waste'], ['plastic69.jpg', '23 38 450 288 dry_waste'], ['plastic70.jpg', '1 141 446 381 dry_waste'], ['plastic71.jpg', '22 37 486 321 dry_waste'], ['plastic72.jpg', '116 18 413 301 dry_waste'], ['plastic73.jpg', '156 23 362 381 dry_waste'], ['plastic74.jpg', '92 1 483 381 dry_waste'], ['plastic75.jpg', '114 5 448 299 dry_waste'], ['plastic76.jpg', '179 92 422 316 dry_waste'], ['plastic77.jpg', '126 19 455 331 dry_waste'], ['plastic78.jpg', '1 58 507 381 dry_waste'], ['plastic79.jpg', '1 2 457 381 dry_waste'], ['plastic80.jpg', '59 75 488 333 dry_waste'], ['plastic81.jpg', '1 3 407 382 dry_waste'], ['plastic82.jpg', '47 3 512 377 dry_waste'], ['plastic83.jpg', '171 1 512 283 dry_waste'], ['plastic84.jpg', '141 5 512 380 dry_waste'], ['plastic85.jpg', '196 33 504 317 dry_waste'], ['plastic86.jpg', '2 100 511 384 dry_waste'], ['plastic87.jpg', '1 3 511 317 dry_waste'], ['plastic88.jpg', '114 3 493 384 dry_waste'], ['plastic89.jpg', '60 53 512 382 dry_waste'], ['plastic90.jpg', '136 41 444 313 dry_waste'], ['plastic91.jpg', '202 36 432 384 dry_waste'], ['plastic92.jpg', '13 51 512 383 dry_waste'], ['plastic93.jpg', '113 62 424 384 dry_waste'], ['plastic94.jpg', '57 108 465 300 dry_waste'], ['plastic100.jpg', '179 45 419 381 dry_waste'], ['plastic101.jpg', '20 1 433 328 dry_waste'], ['plastic102.jpg', '166 75 353 284 dry_waste'], ['plastic103.jpg', '91 4 486 382 dry_waste'], ['plastic104.jpg', '172 52 421 384 dry_waste'], ['plastic105.jpg', '170 38 436 384 dry_waste'], ['plastic106.jpg', '2 105 505 313 dry_waste'], ['plastic107.jpg', '117 48 397 326 dry_waste'], ['plastic108.jpg', '72 3 462 275 dry_waste'], ['plastic109.jpg', '4 137 462 327 dry_waste'], ['plastic110.jpg', '1 70 444 331 dry_waste'], ['plastic111.jpg', '3 5 420 384 dry_waste'], ['plastic112.jpg', '1 85 427 334 dry_waste'], ['plastic113.jpg', '1 1 512 346 dry_waste'], ['plastic114.jpg', '1 1 271 381 dry_waste'], ['plastic115.jpg', '2 3 508 377 dry_waste'], ['plastic116.jpg', '53 32 512 339 dry_waste'], ['plastic117.jpg', '1 53 443 384 dry_waste'], ['plastic118.jpg', '16 5 510 375 dry_waste'], ['plastic119.jpg', '2 4 511 354 dry_waste'], ['plastic120.jpg', '11 10 459 362 dry_waste'], ['plastic121.jpg', '28 43 358 365 dry_waste'], ['plastic122.jpg', '190 1 379 329 dry_waste'], ['plastic123.jpg', '1 18 422 384 dry_waste'], ['plastic124.jpg', '1 33 500 358 dry_waste'], ['plastic125.jpg', '1 11 512 365 dry_waste'], ['plastic126.jpg', '202 1 429 298 dry_waste'], ['plastic127.jpg', '217 62 480 292 dry_waste'], ['plastic128.jpg', '35 195 512 381 dry_waste'], ['plastic129.jpg', '58 171 360 344 dry_waste'], ['plastic130.jpg', '84 93 396 328 dry_waste'], ['plastic131.jpg', '95 93 335 330 dry_waste'], ['plastic132.jpg', '1 11 369 384 dry_waste'], ['plastic133.jpg', '1 2 510 350 dry_waste'], ['plastic134.jpg', '48 100 508 307 dry_waste'], ['plastic135.jpg', '146 79 353 271 dry_waste'], ['plastic136.jpg', '108 85 327 313 dry_waste'], ['plastic137.jpg', '18 14 512 375 dry_waste'], ['plastic138.jpg', '108 92 352 255 dry_waste'], ['plastic139.jpg', '1 142 458 384 dry_waste'], ['plastic140.jpg', '56 1 450 383 dry_waste'], ['plastic141.jpg', '78 1 486 377 dry_waste'], ['plastic142.jpg', '87 1 368 375 dry_waste'], ['plastic143.jpg', '17 1 491 384 dry_waste'], ['plastic144.jpg', '3 2 502 379 dry_waste'], ['plastic145.jpg', '32 129 504 314 dry_waste'], ['plastic146.jpg', '1 1 512 194 dry_waste'], ['plastic147.jpg', '58 24 428 341 dry_waste'], ['plastic148.jpg', '35 89 437 384 dry_waste'], ['plastic149.jpg', '3 1 512 379 dry_waste'], ['plastic150.jpg', '143 145 412 272 dry_waste'], ['plastic151.jpg', '23 108 512 307 dry_waste'], ['plastic152.jpg', '2 1 512 303 dry_waste'], ['plastic153.jpg', '174 101 314 269 dry_waste'], ['plastic154.jpg', '177 134 302 240 dry_waste'], ['plastic155.jpg', '1 1 426 384 dry_waste'], ['plastic156.jpg', '6 1 512 376 dry_waste'], ['plastic157.jpg', '157 68 496 384 dry_waste'], ['O_1.jpg', '16 9 196 230 wet_waste'], ['O_2.jpg', '51 6 214 162 wet_waste'], ['O_3.jpg', '7 2 268 171 wet_waste'], ['O_4.jpg', '26 9 207 203 wet_waste'], ['O_5.jpg', '60 6 213 169 wet_waste'], ['O_6.jpg', '16 7 264 174 wet_waste'], ['O_7.jpg', '14 36 225 188 wet_waste'], ['O_8.jpg', '8 13 198 206 wet_waste'], ['O_9.jpg', '10 43 244 165 wet_waste'], ['O_10.jpg', '45 9 241 173 wet_waste'], ['O_11.jpg', '37 9 175 209 wet_waste'], ['O_12.jpg', '36 7 205 171 wet_waste'], ['O_13.jpg', '6 51 227 187 wet_waste'], ['O_14.jpg', '38 20 201 181 wet_waste'], ['O_15.jpg', '27 27 184 172 wet_waste'], ['O_16.jpg', '22 9 246 193 wet_waste'], ['O_17.jpg', '31 11 248 172 wet_waste'], ['O_18.jpg', '11 13 203 200 wet_waste'], ['O_19.jpg', '5 8 245 190 wet_waste'], ['O_20.jpg', '13 127 126 191 wet_waste'], ['O_21.jpg', '12 27 210 213 wet_waste'], ['O_22.jpg', '3 45 128 158 wet_waste'], ['O_23.jpg', '51 26 200 184 wet_waste'], ['O_24.jpg', '138 79 260 175 wet_waste'], ['O_25.jpg', '9 4 138 242 wet_waste'], ['O_26.jpg', '37 6 233 156 wet_waste'], ['O_27.jpg', '24 18 209 181 wet_waste'], ['O_28.jpg', '29 20 190 189 wet_waste'], ['O_29.jpg', '35 7 225 178 wet_waste'], ['O_30.jpg', '68 79 193 160 wet_waste'], ['O_31.jpg', '45 27 190 172 wet_waste'], ['O_32.jpg', '10 10 230 201 wet_waste'], ['O_33.jpg', '6 4 173 167 wet_waste'], ['O_34.jpg', '2 1 228 214 wet_waste'], ['O_35.jpg', '11 3 284 171 wet_waste'], ['O_36.jpg', '18 9 209 172 wet_waste'], ['O_37.jpg', '86 45 196 158 wet_waste'], ['O_38.jpg', '109 90 234 182 wet_waste'], ['O_39.jpg', '36 8 240 173 wet_waste'], ['O_40.jpg', '21 30 202 209 wet_waste'], ['O_41.jpg', '35 48 183 171 wet_waste'], ['O_42.jpg', '78 20 182 148 wet_waste'], ['O_43.jpg', '19 47 201 187 wet_waste'], ['O_44.jpg', '44 9 188 217 wet_waste'], ['O_45.jpg', '88 5 147 48 wet_waste'], ['O_46.jpg', '16 20 235 169 wet_waste'], ['O_47.jpg', '11 25 207 199 wet_waste'], ['O_48.jpg', '29 17 196 198 wet_waste'], ['O_49.jpg', '196 29 274 107 wet_waste'], ['O_50.jpg', '10 89 170 171 wet_waste'], ['O_51.jpg', '68 14 204 147 wet_waste'], ['O_52.jpg', '97 7 213 141 wet_waste'], ['O_53.jpg', '16 51 181 177 wet_waste'], ['O_54.jpg', '63 13 238 175 wet_waste'], ['O_55.jpg', '12 22 210 206 wet_waste'], ['O_56.jpg', '19 1 250 171 wet_waste'], ['O_57.jpg', '20 3 190 198 wet_waste'], ['O_58.jpg', '20 10 217 208 wet_waste'], ['O_59.jpg', '1 3 206 216 wet_waste'], ['O_60.jpg', '22 17 192 212 wet_waste'], ['O_61.jpg', '5 35 223 192 wet_waste'], ['O_62.jpg', '144 155 194 200 wet_waste'], ['O_63.jpg', '4 20 219 196 wet_waste'], ['O_64.jpg', '19 16 187 193 wet_waste'], ['O_65.jpg', '139 52 247 153 wet_waste'], ['O_66.jpg', '33 25 140 234 wet_waste'], ['O_67.jpg', '60 31 176 184 wet_waste'], ['O_68.jpg', '34 39 233 167 wet_waste'], ['O_69.jpg', '34 39 213 151 wet_waste'], ['O_70.jpg', '108 60 220 176 wet_waste'], ['O_71.jpg', '96 46 240 169 wet_waste'], ['O_72.jpg', '5 3 193 199 wet_waste'], ['O_73.jpg', '41 53 173 174 wet_waste'], ['O_74.jpg', '4 5 182 116 wet_waste'], ['O_75.jpg', '208 68 248 97 wet_waste'], ['O_76.jpg', '35 6 189 118 wet_waste'], ['O_77.jpg', '18 9 272 177 wet_waste'], ['O_78.jpg', '126 74 276 151 wet_waste'], ['O_79.jpg', '32 4 139 153 wet_waste'], ['O_80.jpg', '4 84 132 185 wet_waste'], ['O_81.jpg', '27 6 204 220 wet_waste'], ['O_83.jpg', '46 30 207 166 wet_waste'], ['O_84.jpg', '40 38 193 190 wet_waste'], ['O_85.jpg', '120 112 238 183 wet_waste'], ['O_86.jpg', '41 14 207 165 wet_waste'], ['O_87.jpg', '21 23 161 246 wet_waste'], ['O_88.jpg', '120 8 248 140 wet_waste'], ['O_89.jpg', '23 18 212 208 wet_waste'], ['O_91.jpg', '34 13 219 174 wet_waste'], ['O_92.jpg', '20 28 192 224 wet_waste'], ['O_93.jpg', '101 30 202 193 wet_waste'], ['O_94.jpg', '144 147 186 193 wet_waste'], ['O_95.jpg', '47 30 183 198 wet_waste'], ['O_96.jpg', '78 14 244 179 wet_waste'], ['O_97.jpg', '137 11 269 177 wet_waste'], ['O_98.jpg', '41 21 216 178 wet_waste'], ['O_99.jpg', '172 143 216 177 wet_waste'], ['O_100.jpg', '25 8 210 168 wet_waste'], ['O_371.jpg', '29 7 217 161 wet_waste'], ['O_372.jpg', '26 52 93 118 wet_waste'], ['O_375.jpg', '33 11 77 114 wet_waste'], ['O_376.jpg', '20 11 220 206 wet_waste'], ['O_380.jpg', '133 124 242 187 wet_waste'], ['O_386.jpg', '18 15 190 221 wet_waste'], ['O_387.jpg', '19 43 246 144 wet_waste'], ['O_389.jpg', '24 22 195 191 wet_waste'], ['O_391.jpg', '7 39 169 237 wet_waste'], ['O_392.jpg', '80 1 162 86 wet_waste'], ['O_393.jpg', '21 23 205 194 wet_waste'], ['O_394.jpg', '47 18 212 137 wet_waste'], ['O_395.jpg', '17 24 193 215 wet_waste'], ['O_401.jpg', '100 65 259 165 wet_waste'], ['O_403.jpg', '21 48 215 178 wet_waste'], ['O_405.jpg', '9 27 225 199 wet_waste'], ['O_407.jpg', '147 50 264 132 wet_waste'], ['O_408.jpg', '21 88 131 213 wet_waste'], ['O_409.jpg', '70 104 205 208 wet_waste'], ['O_410.jpg', '6 32 88 149 wet_waste'], ['O_412.jpg', '121 5 226 100 wet_waste'], ['O_413.jpg', '67 17 277 141 wet_waste'], ['O_414.jpg', '58 9 112 51 wet_waste'], ['O_416.jpg', '12 42 135 152 wet_waste'], ['O_417.jpg', '12 70 138 132 wet_waste'], ['O_418.jpg', '24 56 162 201 wet_waste'], ['O_419.jpg', '48 28 203 145 wet_waste'], ['O_420.jpg', '61 65 132 127 wet_waste'], ['O_421.jpg', '63 15 150 87 wet_waste'], ['O_423.jpg', '57 17 231 156 wet_waste'], ['O_425.jpg', '26 23 182 186 wet_waste'], ['O_426.jpg', '73 28 159 111 wet_waste'], ['O_427.jpg', '37 10 121 90 wet_waste'], ['O_428.jpg', '10 47 117 147 wet_waste'], ['O_429.jpg', '44 12 88 71 wet_waste'], ['O_432.jpg', '78 60 192 133 wet_waste'], ['O_433.jpg', '90 21 188 123 wet_waste'], ['O_437.jpg', '17 22 210 202 wet_waste'], ['O_438.jpg', '195 71 274 159 wet_waste'], ['O_441.jpg', '87 103 240 198 wet_waste'], ['O_444.jpg', '170 159 216 185 wet_waste'], ['O_447.jpg', '65 26 210 165 wet_waste'], ['O_448.jpg', '46 2 163 252 wet_waste'], ['O_450.jpg', '3 1 230 208 wet_waste'], ['O_451.jpg', '30 31 191 202 wet_waste'], ['O_461.jpg', '4 43 189 168 wet_waste'], ['O_462.jpg', '103 51 175 135 wet_waste'], ['O_463.jpg', '41 46 210 182 wet_waste'], ['O_464.jpg', '20 15 203 163 wet_waste'], ['O_465.jpg', '156 103 233 173 wet_waste'], ['O_466.jpg', '25 49 139 158 wet_waste'], ['O_467.jpg', '91 11 200 94 wet_waste'], ['O_469.jpg', '26 23 194 161 wet_waste'], ['O_470.jpg', '7 9 220 210 wet_waste'], ['O_13603.jpg', '8 16 156 167 wet_waste'], ['O_13604.jpg', '69 28 182 96 wet_waste'], ['O_13605.jpg', '188 96 275 147 wet_waste'], ['O_13606.jpg', '56 11 252 147 wet_waste'], ['O_13607.jpg', '112 72 257 170 wet_waste'], ['O_13608.jpg', '1 4 259 169 wet_waste'], ['O_13609.jpg', '48 6 253 149 wet_waste'], ['O_13610.jpg', '151 1 299 161 wet_waste'], ['O_13611.jpg', '150 9 268 77 wet_waste'], ['O_13612.jpg', '46 18 106 64 wet_waste'], ['O_13613.jpg', '20 27 294 144 wet_waste'], ['O_13614.jpg', '24 1 303 158 wet_waste'], ['O_13615.jpg', '1 2 107 249 wet_waste'], ['O_13616.jpg', '1 37 140 243 wet_waste'], ['O_13617.jpg', '1 83 110 171 wet_waste'], ['O_13618.jpg', '24 27 194 217 wet_waste'], ['O_13619.jpg', '52 48 137 206 wet_waste'], ['O_13620.jpg', '9 6 254 189 wet_waste'], ['O_13621.jpg', '134 1 287 109 wet_waste'], ['O_13622.jpg', '96 44 162 138 wet_waste'], ['O_13623.jpg', '44 31 264 170 wet_waste'], ['O_13624.jpg', '127 84 195 179 wet_waste'], ['O_13625.jpg', '123 47 275 146 wet_waste'], ['O_13626.jpg', '66 39 160 129 wet_waste'], ['O_13627.jpg', '51 11 182 108 wet_waste'], ['O_13628.jpg', '22 5 78 163 wet_waste'], ['O_13629.jpg', '177 1 266 156 wet_waste'], ['O_13630.jpg', '13 4 258 178 wet_waste'], ['O_13631.jpg', '165 40 214 128 wet_waste'], ['O_13632.jpg', '3 74 246 179 wet_waste'], ['O_13633.jpg', '81 92 175 149 wet_waste'], ['O_13634.jpg', '56 95 125 152 wet_waste'], ['O_13635.jpg', '3 4 246 190 wet_waste'], ['O_13636.jpg', '11 8 285 169 wet_waste'], ['O_13637.jpg', '221 118 279 154 wet_waste'], ['O_13638.jpg', '70 2 255 120 wet_waste'], ['O_13639.jpg', '85 29 210 135 wet_waste'], ['O_13640.jpg', '124 84 269 149 wet_waste'], ['O_13641.jpg', '116 34 194 123 wet_waste'], ['O_13642.jpg', '66 65 218 151 wet_waste'], ['O_13643.jpg', '180 88 261 147 wet_waste'], ['O_13644.jpg', '17 8 264 179 wet_waste'], ['O_13645.jpg', '33 13 258 166 wet_waste'], ['O_13646.jpg', '26 10 228 164 wet_waste'], ['O_13648.jpg', '29 47 234 159 wet_waste'], ['O_13649.jpg', '10 9 311 144 wet_waste'], ['O_13650.jpg', '28 47 230 172 wet_waste'], ['O_13651.jpg', '142 48 209 118 wet_waste'], ['O_13652.jpg', '32 5 263 164 wet_waste'], ['O_13653.jpg', '174 43 237 103 wet_waste'], ['O_13654.jpg', '13 10 180 235 wet_waste'], ['O_13655.jpg', '206 76 258 155 wet_waste'], ['O_13656.jpg', '48 58 213 157 wet_waste'], ['O_13658.jpg', '60 76 137 152 wet_waste'], ['O_13659.jpg', '51 81 148 178 wet_waste'], ['O_13660.jpg', '15 5 191 159 wet_waste'], ['O_13661.jpg', '159 57 254 156 wet_waste'], ['O_13662.jpg', '1 10 216 202 wet_waste'], ['O_13663.jpg', '1 49 203 139 wet_waste'], ['O_13664.jpg', '20 16 280 149 wet_waste'], ['O_13665.jpg', '44 13 248 159 wet_waste'], ['O_13666.jpg', '21 1 281 167 wet_waste'], ['O_13667.jpg', '82 90 199 179 wet_waste'], ['O_13668.jpg', '147 43 248 160 wet_waste'], ['O_13669.jpg', '44 56 200 176 wet_waste'], ['O_13670.jpg', '45 38 165 137 wet_waste'], ['O_13671.jpg', '109 63 154 103 wet_waste'], ['O_13672.jpg', '56 52 130 101 wet_waste'], ['O_13673.jpg', '60 112 151 167 wet_waste'], ['O_13674.jpg', '154 121 234 167 wet_waste'], ['O_13675.jpg', '116 107 196 177 wet_waste'], ['O_13676.jpg', '66 2 236 151 wet_waste'], ['O_13677.jpg', '43 54 205 186 wet_waste'], ['O_13678.jpg', '92 14 257 156 wet_waste'], ['O_13679.jpg', '6 1 171 174 wet_waste'], ['O_13680.jpg', '11 61 208 169 wet_waste'], ['O_13681.jpg', '32 48 163 169 wet_waste'], ['O_13682.jpg', '21 50 202 151 wet_waste'], ['plastic158.jpg', '10 1 454 292 dry_waste'], ['plastic159.jpg', '1 36 508 379 dry_waste'], ['plastic160.jpg', '6 1 486 381 dry_waste'], ['plastic161.jpg', '6 1 468 329 dry_waste'], ['plastic162.jpg', '5 1 507 222 dry_waste'], ['plastic163.jpg', '20 50 382 326 dry_waste'], ['plastic164.jpg', '155 81 466 381 dry_waste'], ['plastic165.jpg', '1 104 503 332 dry_waste'], ['plastic166.jpg', '1 1 398 294 dry_waste'], ['plastic167.jpg', '143 15 339 348 dry_waste'], ['plastic168.jpg', '101 27 346 264 dry_waste'], ['plastic169.jpg', '1 112 487 290 dry_waste'], ['plastic170.jpg', '92 98 319 285 dry_waste'], ['plastic171.jpg', '66 31 431 355 dry_waste'], ['plastic172.jpg', '44 80 375 306 dry_waste'], ['plastic173.jpg', '104 53 394 344 dry_waste'], ['plastic174.jpg', '104 69 396 264 dry_waste'], ['plastic175.jpg', '1 12 510 352 dry_waste'], ['plastic176.jpg', '160 145 254 293 dry_waste'], ['plastic177.jpg', '98 150 279 247 dry_waste'], ['plastic178.jpg', '112 139 264 253 dry_waste'], ['plastic179.jpg', '125 117 302 294 dry_waste'], ['plastic180.jpg', '148 96 293 254 dry_waste'], ['plastic181.jpg', '141 117 318 258 dry_waste'], ['plastic182.jpg', '161 151 306 295 dry_waste'], ['plastic183.jpg', '68 115 299 313 dry_waste'], ['plastic184.jpg', '134 59 384 317 dry_waste'], ['plastic185.jpg', '147 15 292 309 dry_waste'], ['plastic186.jpg', '1 4 511 381 dry_waste'], ['plastic187.jpg', '17 81 315 284 dry_waste'], ['plastic188.jpg', '50 83 367 304 dry_waste'], ['plastic189.jpg', '36 92 482 301 dry_waste'], ['plastic190.jpg', '1 36 504 380 dry_waste'], ['plastic191.jpg', '173 114 509 355 dry_waste'], ['plastic192.jpg', '85 1 476 376 dry_waste'], ['plastic193.jpg', '44 44 467 303 dry_waste'], ['plastic194.jpg', '1 3 504 358 dry_waste'], ['plastic195.jpg', '178 97 511 383 dry_waste'], ['plastic196.jpg', '3 1 368 332 dry_waste'], ['plastic197.jpg', '23 43 476 307 dry_waste'], ['plastic198.jpg', '8 1 479 376 dry_waste'], ['plastic199.jpg', '131 12 399 381 dry_waste'], ['plastic200.jpg', '197 80 396 383 dry_waste'], ['plastic201.jpg', '100 3 459 373 dry_waste'], ['plastic202.jpg', '58 94 473 266 dry_waste'], ['plastic203.jpg', '40 1 409 370 dry_waste'], ['plastic204.jpg', '1 2 511 369 dry_waste'], ['plastic205.jpg', '1 45 385 346 dry_waste'], ['plastic206.jpg', '64 100 459 384 dry_waste'], ['plastic207.jpg', '1 15 469 356 dry_waste'], ['plastic208.jpg', '93 114 512 341 dry_waste'], ['plastic209.jpg', '124 43 423 384 dry_waste'], ['plastic210.jpg', '1 1 423 383 dry_waste'], ['plastic211.jpg', '39 1 467 305 dry_waste'], ['plastic212.jpg', '77 1 491 377 dry_waste'], ['plastic213.jpg', '93 19 376 315 dry_waste'], ['plastic214.jpg', '18 55 511 383 dry_waste'], ['plastic215.jpg', '125 137 477 384 dry_waste'], ['plastic216.jpg', '29 15 512 378 dry_waste'], ['plastic217.jpg', '234 143 512 351 dry_waste'], ['plastic218.jpg', '14 6 512 331 dry_waste'], ['plastic219.jpg', '88 37 434 384 dry_waste'], ['plastic220.jpg', '110 76 503 336 dry_waste'], ['plastic221.jpg', '186 41 511 384 dry_waste'], ['plastic222.jpg', '206 183 466 384 dry_waste'], ['plastic223.jpg', '88 2 512 381 dry_waste'], ['plastic224.jpg', '29 24 483 322 dry_waste'], ['plastic225.jpg', '3 77 509 384 dry_waste'], ['plastic226.jpg', '9 55 453 354 dry_waste'], ['plastic227.jpg', '60 7 495 313 dry_waste'], ['plastic228.jpg', '121 3 438 329 dry_waste'], ['plastic229.jpg', '154 52 372 263 dry_waste'], ['plastic230.jpg', '40 107 428 304 dry_waste'], ['plastic231.jpg', '1 1 511 327 dry_waste'], ['plastic232.jpg', '121 97 512 358 dry_waste'], ['plastic233.jpg', '110 129 387 384 dry_waste'], ['plastic234.jpg', '69 87 474 330 dry_waste'], ['plastic235.jpg', '30 3 512 335 dry_waste'], ['plastic236.jpg', '115 62 437 279 dry_waste'], ['plastic237.jpg', '58 86 473 344 dry_waste'], ['plastic238.jpg', '1 27 510 384 dry_waste'], ['plastic239.jpg', '45 1 405 266 dry_waste'], ['plastic240.jpg', '34 36 451 306 dry_waste'], ['plastic241.jpg', '11 81 489 321 dry_waste'], ['plastic242.jpg', '50 106 455 384 dry_waste'], ['plastic243.jpg', '2 33 512 381 dry_waste'], ['plastic244.jpg', '12 75 482 359 dry_waste'], ['plastic245.jpg', '102 30 418 335 dry_waste'], ['plastic246.jpg', '1 1 511 335 dry_waste'], ['plastic247.jpg', '95 100 492 381 dry_waste'], ['plastic248.jpg', '24 18 417 363 dry_waste'], ['plastic249.jpg', '95 34 374 298 dry_waste'], ['plastic250.jpg', '1 1 431 319 dry_waste'], ['plastic251.jpg', '1 46 490 234 dry_waste'], ['plastic252.jpg', '66 115 469 381 dry_waste'], ['plastic253.jpg', '47 1 422 304 dry_waste'], ['plastic254.jpg', '6 95 511 381 dry_waste'], ['plastic255.jpg', '146 29 447 384 dry_waste'], ['plastic257.jpg', '6 93 512 306 dry_waste'], ['plastic258.jpg', '125 20 512 379 dry_waste'], ['O_12869.jpg', '35 32 223 150 wet_waste'], ['download 1.jpg', '60 36 206 108 wet_waste'], ['download 2.jpg', '27 32 206 203 wet_waste'], ['image_01.jpg', '112 48 217 135 wet_waste'], ['image_010.jpg', '120 43 190 108 wet_waste'], ['image_02.jpg', '59 62 169 174 wet_waste'], ['image_03.jpg', '77 27 261 121 wet_waste'], ['image_04.jpg', '77 15 173 102 wet_waste'], ['image_05.jpg', '38 5 239 153 wet_waste'], ['image_06.jpg', '34 6 282 151 wet_waste'], ['image_07.jpg', '56 12 158 132 wet_waste'], ['image_08.jpg', '16 15 196 187 wet_waste'], ['image_09.jpg', '54 21 219 130 wet_waste'], ['image_11.jpg', '52 25 237 162 wet_waste'], ['image_12.jpg', '129 71 212 175 wet_waste'], ['image_13.jpg', '56 21 127 79 wet_waste'], ['image_14.jpg', '90 30 219 122 wet_waste'], ['image_15.jpg', '63 25 234 169 wet_waste'], ['image_16.jpg', '70 40 252 126 wet_waste'], ['image_17.jpg', '15 16 230 156 wet_waste'], ['image_18.jpg', '33 21 192 142 wet_waste'], ['image_19.jpg', '42 21 187 106 wet_waste'], ['image_20.jpg', '29 88 165 237 wet_waste'], ['image_21.jpg', '155 70 212 145 wet_waste'], ['image_22.jpg', '116 33 224 142 wet_waste'], ['image_23.jpg', '73 16 245 172 wet_waste'], ['image_24.jpg', '7 20 182 194 wet_waste'], ['image_25.jpg', '52 51 156 141 wet_waste'], ['image_26.jpg', '66 35 160 136 wet_waste'], ['image_27.jpg', '46 62 174 168 wet_waste'], ['image_28.jpg', '63 25 168 105 wet_waste'], ['image_29.jpg', '62 58 156 213 wet_waste'], ['image_30.jpg', '80 17 175 153 wet_waste'], ['image_31.jpg', '6 53 195 196 wet_waste'], ['image_32.jpg', '75 24 246 115 wet_waste'], ['image_33.jpg', '51 33 195 159 wet_waste'], ['image_34.jpg', '3 16 157 111 wet_waste'], ['image_35.jpg', '84 36 227 145 wet_waste'], ['image_36.jpg', '74 74 186 166 wet_waste'], ['image_37.jpg', '6 42 185 144 wet_waste'], ['image_38.jpg', '50 65 150 115 wet_waste'], ['image_39.jpg', '75 19 237 145 wet_waste'], ['image_40.jpg', '62 33 253 155 wet_waste'], ['image_41.jpg', '15 59 228 136 wet_waste'], ['image_42.jpg', '65 43 203 169 wet_waste'], ['image_43.jpg', '35 58 172 146 wet_waste'], ['image_44.jpg', '97 28 215 136 wet_waste'], ['image_45.jpg', '7 38 133 110 wet_waste'], ['image_46.jpg', '104 44 272 125 wet_waste'], ['image_47.jpg', '22 6 226 136 wet_waste'], ['image_48.jpg', '53 29 248 148 wet_waste']]\n"
          ],
          "name": "stdout"
        }
      ]
    },
    {
      "cell_type": "code",
      "metadata": {
        "id": "XCFMMWfQuh4O"
      },
      "source": [
        "df = pd.DataFrame(combined, columns = ['ID', 'Label']);\n",
        "df.to_csv(root_dir + \"/train_labels.csv\", index=False);"
      ],
      "execution_count": null,
      "outputs": []
    },
    {
      "cell_type": "code",
      "metadata": {
        "id": "1olYWQ2y0LZy"
      },
      "source": [
        "import os\n",
        "import numpy as np \n",
        "import cv2\n",
        "import dicttoxml\n",
        "import xml.etree.ElementTree as ET\n",
        "from xml.dom.minidom import parseString\n",
        "from tqdm import tqdm\n",
        "import shutil\n",
        "import json\n",
        "import pandas as pd"
      ],
      "execution_count": null,
      "outputs": []
    },
    {
      "cell_type": "code",
      "metadata": {
        "id": "w8mbF5OW0SaL"
      },
      "source": [
        "root = \"Waste_Dataset/\";\n",
        "img_dir = \"Images_merged/\";\n",
        "anno_file = \"train_labels.csv\";"
      ],
      "execution_count": null,
      "outputs": []
    },
    {
      "cell_type": "code",
      "metadata": {
        "id": "NO0TO9B10gBk"
      },
      "source": [
        "dataset_path = root;\n",
        "images_folder = root + \"/\" + img_dir;\n",
        "annotations_path = root + \"/annotations/\";"
      ],
      "execution_count": null,
      "outputs": []
    },
    {
      "cell_type": "code",
      "metadata": {
        "id": "A6EWvW_Y0lpl"
      },
      "source": [
        "if not os.path.isdir(annotations_path):\n",
        "    os.mkdir(annotations_path)\n",
        "    \n",
        "input_images_folder = images_folder;\n",
        "input_annotations_path = root + \"/\" + anno_file;"
      ],
      "execution_count": null,
      "outputs": []
    },
    {
      "cell_type": "code",
      "metadata": {
        "id": "q-kHFgQj02HR"
      },
      "source": [
        "output_dataset_path = root;\n",
        "output_image_folder = input_images_folder;\n",
        "output_annotation_folder = annotations_path;\n",
        "\n",
        "tmp = img_dir.replace(\"/\", \"\");\n",
        "output_annotation_file = output_annotation_folder + \"/instances_\" + tmp + \".json\";\n",
        "output_classes_file = output_annotation_folder + \"/classes.txt\";"
      ],
      "execution_count": null,
      "outputs": []
    },
    {
      "cell_type": "code",
      "metadata": {
        "id": "i0tAgO3k06Ho"
      },
      "source": [
        "if not os.path.isdir(output_annotation_folder):\n",
        "    os.mkdir(output_annotation_folder);"
      ],
      "execution_count": null,
      "outputs": []
    },
    {
      "cell_type": "code",
      "metadata": {
        "id": "gp4XQ6--09AI"
      },
      "source": [
        "df = pd.read_csv(input_annotations_path);\n",
        "columns = df.columns"
      ],
      "execution_count": null,
      "outputs": []
    },
    {
      "cell_type": "code",
      "metadata": {
        "id": "vfgDxP4H0_R4"
      },
      "source": [
        "delimiter = \" \";"
      ],
      "execution_count": null,
      "outputs": []
    },
    {
      "cell_type": "code",
      "metadata": {
        "id": "Dqu9rWt-1EfN",
        "colab": {
          "base_uri": "https://localhost:8080/",
          "height": 35
        },
        "outputId": "51d3f4f3-d8e7-48c6-f2b9-eda704cbd453"
      },
      "source": [
        "list_dict = [];\n",
        "anno = [];\n",
        "for i in range(len(df)):\n",
        "    img_name = df[columns[0]][i];\n",
        "    labels = df[columns[1]][i];\n",
        "    tmp = labels.split(delimiter);\n",
        "    for j in range(len(tmp)//5):\n",
        "        label = tmp[j*5+4];\n",
        "        if(label not in anno):\n",
        "            anno.append(label);\n",
        "    anno = sorted(anno)\n",
        "    \n",
        "for i in tqdm(range(len(anno))):\n",
        "    tmp = {};\n",
        "    tmp[\"supercategory\"] = \"master\";\n",
        "    tmp[\"id\"] = i;\n",
        "    tmp[\"name\"] = anno[i];\n",
        "    list_dict.append(tmp);\n",
        "\n",
        "anno_f = open(output_classes_file, 'w');\n",
        "for i in range(len(anno)):\n",
        "    anno_f.write(anno[i] + \"\\n\");\n",
        "anno_f.close();"
      ],
      "execution_count": null,
      "outputs": [
        {
          "output_type": "stream",
          "text": [
            "100%|██████████| 2/2 [00:00<00:00, 767.34it/s]\n"
          ],
          "name": "stderr"
        }
      ]
    },
    {
      "cell_type": "code",
      "metadata": {
        "id": "NZtOPnFe1IKd",
        "colab": {
          "base_uri": "https://localhost:8080/",
          "height": 1000
        },
        "outputId": "a40cd79d-ca7d-4c23-b3d5-790c798721be"
      },
      "source": [
        "coco_data = {};\n",
        "coco_data[\"type\"] = \"instances\";\n",
        "coco_data[\"images\"] = [];\n",
        "coco_data[\"annotations\"] = [];\n",
        "coco_data[\"categories\"] = list_dict;\n",
        "image_id = 0;\n",
        "annotation_id = 0;\n",
        "\n",
        "\n",
        "for i in tqdm(range(len(df))):\n",
        "    img_name = df[columns[0]][i];\n",
        "    labels = df[columns[1]][i];\n",
        "    tmp = labels.split(delimiter);\n",
        "    image_in_path = input_images_folder + \"/\" + img_name;\n",
        "    print(image_in_path)\n",
        "    img = cv2.imread(image_in_path, 1);\n",
        "    h, w, c = img.shape;\n",
        "\n",
        "    images_tmp = {};\n",
        "    images_tmp[\"file_name\"] = img_name;\n",
        "    images_tmp[\"height\"] = h;\n",
        "    images_tmp[\"width\"] = w;\n",
        "    images_tmp[\"id\"] = image_id;\n",
        "    coco_data[\"images\"].append(images_tmp);\n",
        "    \n",
        "\n",
        "    for j in range(len(tmp)//5):\n",
        "        x1 = int(tmp[j*5+0]);\n",
        "        y1 = int(tmp[j*5+1]);\n",
        "        x2 = int(tmp[j*5+2]);\n",
        "        y2 = int(tmp[j*5+3]);\n",
        "        label = tmp[j*5+4];\n",
        "        annotations_tmp = {};\n",
        "        annotations_tmp[\"id\"] = annotation_id;\n",
        "        annotation_id += 1;\n",
        "        annotations_tmp[\"image_id\"] = image_id;\n",
        "        annotations_tmp[\"segmentation\"] = [];\n",
        "        annotations_tmp[\"ignore\"] = 0;\n",
        "        annotations_tmp[\"area\"] = (x2-x1)*(y2-y1);\n",
        "        annotations_tmp[\"iscrowd\"] = 0;\n",
        "        annotations_tmp[\"bbox\"] = [x1, y1, x2-x1, y2-y1];\n",
        "        annotations_tmp[\"category_id\"] = anno.index(label);\n",
        "\n",
        "        coco_data[\"annotations\"].append(annotations_tmp)\n",
        "    image_id += 1;\n",
        "\n",
        "outfile =  open(output_annotation_file, 'w');\n",
        "json_str = json.dumps(coco_data, indent=4);\n",
        "outfile.write(json_str);\n",
        "outfile.close();"
      ],
      "execution_count": null,
      "outputs": [
        {
          "output_type": "stream",
          "text": [
            "\r  0%|          | 0/800 [00:00<?, ?it/s]"
          ],
          "name": "stderr"
        },
        {
          "output_type": "stream",
          "text": [
            "Waste_Dataset//Images_merged//image1.jpg\n"
          ],
          "name": "stdout"
        },
        {
          "output_type": "stream",
          "text": [
            "\r  0%|          | 1/800 [00:00<06:59,  1.91it/s]"
          ],
          "name": "stderr"
        },
        {
          "output_type": "stream",
          "text": [
            "Waste_Dataset//Images_merged//image2.jpg\n"
          ],
          "name": "stdout"
        },
        {
          "output_type": "stream",
          "text": [
            "\r  0%|          | 2/800 [00:01<07:23,  1.80it/s]"
          ],
          "name": "stderr"
        },
        {
          "output_type": "stream",
          "text": [
            "Waste_Dataset//Images_merged//image3.jpg\n"
          ],
          "name": "stdout"
        },
        {
          "output_type": "stream",
          "text": [
            "\r  0%|          | 3/800 [00:01<07:28,  1.78it/s]"
          ],
          "name": "stderr"
        },
        {
          "output_type": "stream",
          "text": [
            "Waste_Dataset//Images_merged//image4.jpg\n"
          ],
          "name": "stdout"
        },
        {
          "output_type": "stream",
          "text": [
            "\r  0%|          | 4/800 [00:02<07:49,  1.69it/s]"
          ],
          "name": "stderr"
        },
        {
          "output_type": "stream",
          "text": [
            "Waste_Dataset//Images_merged//image5.jpg\n"
          ],
          "name": "stdout"
        },
        {
          "output_type": "stream",
          "text": [
            "\r  1%|          | 5/800 [00:02<07:53,  1.68it/s]"
          ],
          "name": "stderr"
        },
        {
          "output_type": "stream",
          "text": [
            "Waste_Dataset//Images_merged//image6.jpg\n"
          ],
          "name": "stdout"
        },
        {
          "output_type": "stream",
          "text": [
            "\r  1%|          | 6/800 [00:03<07:36,  1.74it/s]"
          ],
          "name": "stderr"
        },
        {
          "output_type": "stream",
          "text": [
            "Waste_Dataset//Images_merged//image7.jpg\n"
          ],
          "name": "stdout"
        },
        {
          "output_type": "stream",
          "text": [
            "\r  1%|          | 7/800 [00:04<09:16,  1.43it/s]"
          ],
          "name": "stderr"
        },
        {
          "output_type": "stream",
          "text": [
            "Waste_Dataset//Images_merged//image8.jpg\n"
          ],
          "name": "stdout"
        },
        {
          "output_type": "stream",
          "text": [
            "\r  1%|          | 8/800 [00:05<09:17,  1.42it/s]"
          ],
          "name": "stderr"
        },
        {
          "output_type": "stream",
          "text": [
            "Waste_Dataset//Images_merged//image9.jpg\n"
          ],
          "name": "stdout"
        },
        {
          "output_type": "stream",
          "text": [
            "\r  1%|          | 9/800 [00:05<08:35,  1.53it/s]"
          ],
          "name": "stderr"
        },
        {
          "output_type": "stream",
          "text": [
            "Waste_Dataset//Images_merged//image10.jpg\n"
          ],
          "name": "stdout"
        },
        {
          "output_type": "stream",
          "text": [
            "\r  1%|▏         | 10/800 [00:06<08:14,  1.60it/s]"
          ],
          "name": "stderr"
        },
        {
          "output_type": "stream",
          "text": [
            "Waste_Dataset//Images_merged//image11.jpg\n"
          ],
          "name": "stdout"
        },
        {
          "output_type": "stream",
          "text": [
            "\r  1%|▏         | 11/800 [00:08<12:28,  1.05it/s]"
          ],
          "name": "stderr"
        },
        {
          "output_type": "stream",
          "text": [
            "Waste_Dataset//Images_merged//image12.jpg\n"
          ],
          "name": "stdout"
        },
        {
          "output_type": "stream",
          "text": [
            "\r  2%|▏         | 12/800 [00:08<10:42,  1.23it/s]"
          ],
          "name": "stderr"
        },
        {
          "output_type": "stream",
          "text": [
            "Waste_Dataset//Images_merged//image13.jpg\n"
          ],
          "name": "stdout"
        },
        {
          "output_type": "stream",
          "text": [
            "\r  2%|▏         | 13/800 [00:09<10:26,  1.26it/s]"
          ],
          "name": "stderr"
        },
        {
          "output_type": "stream",
          "text": [
            "Waste_Dataset//Images_merged//image14.jpg\n"
          ],
          "name": "stdout"
        },
        {
          "output_type": "stream",
          "text": [
            "\r  2%|▏         | 14/800 [00:10<10:27,  1.25it/s]"
          ],
          "name": "stderr"
        },
        {
          "output_type": "stream",
          "text": [
            "Waste_Dataset//Images_merged//image15.jpg\n"
          ],
          "name": "stdout"
        },
        {
          "output_type": "stream",
          "text": [
            "\r  2%|▏         | 15/800 [00:10<09:19,  1.40it/s]"
          ],
          "name": "stderr"
        },
        {
          "output_type": "stream",
          "text": [
            "Waste_Dataset//Images_merged//image16.jpg\n"
          ],
          "name": "stdout"
        },
        {
          "output_type": "stream",
          "text": [
            "\r  2%|▏         | 16/800 [00:11<08:26,  1.55it/s]"
          ],
          "name": "stderr"
        },
        {
          "output_type": "stream",
          "text": [
            "Waste_Dataset//Images_merged//image17.jpg\n"
          ],
          "name": "stdout"
        },
        {
          "output_type": "stream",
          "text": [
            "\r  2%|▏         | 17/800 [00:11<07:52,  1.66it/s]"
          ],
          "name": "stderr"
        },
        {
          "output_type": "stream",
          "text": [
            "Waste_Dataset//Images_merged//image18.jpg\n"
          ],
          "name": "stdout"
        },
        {
          "output_type": "stream",
          "text": [
            "\r  2%|▏         | 18/800 [00:12<08:24,  1.55it/s]"
          ],
          "name": "stderr"
        },
        {
          "output_type": "stream",
          "text": [
            "Waste_Dataset//Images_merged//image19.jpg\n"
          ],
          "name": "stdout"
        },
        {
          "output_type": "stream",
          "text": [
            "\r  2%|▏         | 19/800 [00:12<07:46,  1.67it/s]"
          ],
          "name": "stderr"
        },
        {
          "output_type": "stream",
          "text": [
            "Waste_Dataset//Images_merged//image20.jpg\n"
          ],
          "name": "stdout"
        },
        {
          "output_type": "stream",
          "text": [
            "\r  2%|▎         | 20/800 [00:13<08:10,  1.59it/s]"
          ],
          "name": "stderr"
        },
        {
          "output_type": "stream",
          "text": [
            "Waste_Dataset//Images_merged//image21.jpg\n"
          ],
          "name": "stdout"
        },
        {
          "output_type": "stream",
          "text": [
            "\r  3%|▎         | 21/800 [00:14<08:02,  1.61it/s]"
          ],
          "name": "stderr"
        },
        {
          "output_type": "stream",
          "text": [
            "Waste_Dataset//Images_merged//image22.jpg\n"
          ],
          "name": "stdout"
        },
        {
          "output_type": "stream",
          "text": [
            "\r  3%|▎         | 22/800 [00:14<07:25,  1.75it/s]"
          ],
          "name": "stderr"
        },
        {
          "output_type": "stream",
          "text": [
            "Waste_Dataset//Images_merged//image23.jpg\n"
          ],
          "name": "stdout"
        },
        {
          "output_type": "stream",
          "text": [
            "\r  3%|▎         | 23/800 [00:15<06:58,  1.85it/s]"
          ],
          "name": "stderr"
        },
        {
          "output_type": "stream",
          "text": [
            "Waste_Dataset//Images_merged//image24.jpg\n"
          ],
          "name": "stdout"
        },
        {
          "output_type": "stream",
          "text": [
            "\r  3%|▎         | 24/800 [00:15<06:46,  1.91it/s]"
          ],
          "name": "stderr"
        },
        {
          "output_type": "stream",
          "text": [
            "Waste_Dataset//Images_merged//image25.jpg\n"
          ],
          "name": "stdout"
        },
        {
          "output_type": "stream",
          "text": [
            "\r  3%|▎         | 25/800 [00:16<06:44,  1.92it/s]"
          ],
          "name": "stderr"
        },
        {
          "output_type": "stream",
          "text": [
            "Waste_Dataset//Images_merged//image26.jpg\n"
          ],
          "name": "stdout"
        },
        {
          "output_type": "stream",
          "text": [
            "\r  3%|▎         | 26/800 [00:16<06:29,  1.99it/s]"
          ],
          "name": "stderr"
        },
        {
          "output_type": "stream",
          "text": [
            "Waste_Dataset//Images_merged//image27.jpg\n"
          ],
          "name": "stdout"
        },
        {
          "output_type": "stream",
          "text": [
            "\r  3%|▎         | 27/800 [00:17<06:27,  1.99it/s]"
          ],
          "name": "stderr"
        },
        {
          "output_type": "stream",
          "text": [
            "Waste_Dataset//Images_merged//image28.jpg\n"
          ],
          "name": "stdout"
        },
        {
          "output_type": "stream",
          "text": [
            "\r  4%|▎         | 28/800 [00:17<06:14,  2.06it/s]"
          ],
          "name": "stderr"
        },
        {
          "output_type": "stream",
          "text": [
            "Waste_Dataset//Images_merged//image29.jpg\n"
          ],
          "name": "stdout"
        },
        {
          "output_type": "stream",
          "text": [
            "\r  4%|▎         | 29/800 [00:17<06:00,  2.14it/s]"
          ],
          "name": "stderr"
        },
        {
          "output_type": "stream",
          "text": [
            "Waste_Dataset//Images_merged//image30.jpg\n"
          ],
          "name": "stdout"
        },
        {
          "output_type": "stream",
          "text": [
            "\r  4%|▍         | 30/800 [00:18<06:20,  2.02it/s]"
          ],
          "name": "stderr"
        },
        {
          "output_type": "stream",
          "text": [
            "Waste_Dataset//Images_merged//image31.jpg\n"
          ],
          "name": "stdout"
        },
        {
          "output_type": "stream",
          "text": [
            "\r  4%|▍         | 31/800 [00:18<06:19,  2.02it/s]"
          ],
          "name": "stderr"
        },
        {
          "output_type": "stream",
          "text": [
            "Waste_Dataset//Images_merged//image32.jpg\n"
          ],
          "name": "stdout"
        },
        {
          "output_type": "stream",
          "text": [
            "\r  4%|▍         | 32/800 [00:19<06:16,  2.04it/s]"
          ],
          "name": "stderr"
        },
        {
          "output_type": "stream",
          "text": [
            "Waste_Dataset//Images_merged//image33.jpg\n"
          ],
          "name": "stdout"
        },
        {
          "output_type": "stream",
          "text": [
            "\r  4%|▍         | 33/800 [00:19<06:19,  2.02it/s]"
          ],
          "name": "stderr"
        },
        {
          "output_type": "stream",
          "text": [
            "Waste_Dataset//Images_merged//image34.jpg\n"
          ],
          "name": "stdout"
        },
        {
          "output_type": "stream",
          "text": [
            "\r  4%|▍         | 34/800 [00:20<06:05,  2.10it/s]"
          ],
          "name": "stderr"
        },
        {
          "output_type": "stream",
          "text": [
            "Waste_Dataset//Images_merged//image35.jpg\n"
          ],
          "name": "stdout"
        },
        {
          "output_type": "stream",
          "text": [
            "\r  4%|▍         | 35/800 [00:20<06:09,  2.07it/s]"
          ],
          "name": "stderr"
        },
        {
          "output_type": "stream",
          "text": [
            "Waste_Dataset//Images_merged//image36.jpg\n"
          ],
          "name": "stdout"
        },
        {
          "output_type": "stream",
          "text": [
            "\r  4%|▍         | 36/800 [00:21<07:10,  1.78it/s]"
          ],
          "name": "stderr"
        },
        {
          "output_type": "stream",
          "text": [
            "Waste_Dataset//Images_merged//image37.jpg\n"
          ],
          "name": "stdout"
        },
        {
          "output_type": "stream",
          "text": [
            "\r  5%|▍         | 37/800 [00:22<07:05,  1.79it/s]"
          ],
          "name": "stderr"
        },
        {
          "output_type": "stream",
          "text": [
            "Waste_Dataset//Images_merged//image38.jpg\n"
          ],
          "name": "stdout"
        },
        {
          "output_type": "stream",
          "text": [
            "\r  5%|▍         | 38/800 [00:22<06:53,  1.84it/s]"
          ],
          "name": "stderr"
        },
        {
          "output_type": "stream",
          "text": [
            "Waste_Dataset//Images_merged//image39.jpg\n"
          ],
          "name": "stdout"
        },
        {
          "output_type": "stream",
          "text": [
            "\r  5%|▍         | 39/800 [00:23<07:34,  1.68it/s]"
          ],
          "name": "stderr"
        },
        {
          "output_type": "stream",
          "text": [
            "Waste_Dataset//Images_merged//image40.jpg\n"
          ],
          "name": "stdout"
        },
        {
          "output_type": "stream",
          "text": [
            "\r  5%|▌         | 40/800 [00:23<07:06,  1.78it/s]"
          ],
          "name": "stderr"
        },
        {
          "output_type": "stream",
          "text": [
            "Waste_Dataset//Images_merged//image41.jpg\n"
          ],
          "name": "stdout"
        },
        {
          "output_type": "stream",
          "text": [
            "\r  5%|▌         | 41/800 [00:24<06:42,  1.89it/s]"
          ],
          "name": "stderr"
        },
        {
          "output_type": "stream",
          "text": [
            "Waste_Dataset//Images_merged//image42.jpg\n"
          ],
          "name": "stdout"
        },
        {
          "output_type": "stream",
          "text": [
            "\r  5%|▌         | 42/800 [00:24<06:58,  1.81it/s]"
          ],
          "name": "stderr"
        },
        {
          "output_type": "stream",
          "text": [
            "Waste_Dataset//Images_merged//image43.jpg\n"
          ],
          "name": "stdout"
        },
        {
          "output_type": "stream",
          "text": [
            "\r  5%|▌         | 43/800 [00:25<07:43,  1.63it/s]"
          ],
          "name": "stderr"
        },
        {
          "output_type": "stream",
          "text": [
            "Waste_Dataset//Images_merged//image44.jpg\n"
          ],
          "name": "stdout"
        },
        {
          "output_type": "stream",
          "text": [
            "\r  6%|▌         | 44/800 [00:26<07:19,  1.72it/s]"
          ],
          "name": "stderr"
        },
        {
          "output_type": "stream",
          "text": [
            "Waste_Dataset//Images_merged//image45.jpg\n"
          ],
          "name": "stdout"
        },
        {
          "output_type": "stream",
          "text": [
            "\r  6%|▌         | 45/800 [00:26<07:11,  1.75it/s]"
          ],
          "name": "stderr"
        },
        {
          "output_type": "stream",
          "text": [
            "Waste_Dataset//Images_merged//image46.jpg\n"
          ],
          "name": "stdout"
        },
        {
          "output_type": "stream",
          "text": [
            "\r  6%|▌         | 46/800 [00:27<06:51,  1.83it/s]"
          ],
          "name": "stderr"
        },
        {
          "output_type": "stream",
          "text": [
            "Waste_Dataset//Images_merged//image47.jpg\n"
          ],
          "name": "stdout"
        },
        {
          "output_type": "stream",
          "text": [
            "\r  6%|▌         | 47/800 [00:27<06:52,  1.82it/s]"
          ],
          "name": "stderr"
        },
        {
          "output_type": "stream",
          "text": [
            "Waste_Dataset//Images_merged//image48.jpg\n"
          ],
          "name": "stdout"
        },
        {
          "output_type": "stream",
          "text": [
            "\r  6%|▌         | 48/800 [00:28<06:41,  1.87it/s]"
          ],
          "name": "stderr"
        },
        {
          "output_type": "stream",
          "text": [
            "Waste_Dataset//Images_merged//image49.jpg\n"
          ],
          "name": "stdout"
        },
        {
          "output_type": "stream",
          "text": [
            "\r  6%|▌         | 49/800 [00:28<06:28,  1.93it/s]"
          ],
          "name": "stderr"
        },
        {
          "output_type": "stream",
          "text": [
            "Waste_Dataset//Images_merged//image50.jpg\n"
          ],
          "name": "stdout"
        },
        {
          "output_type": "stream",
          "text": [
            "\r  6%|▋         | 50/800 [00:29<06:07,  2.04it/s]"
          ],
          "name": "stderr"
        },
        {
          "output_type": "stream",
          "text": [
            "Waste_Dataset//Images_merged//image51.jpg\n"
          ],
          "name": "stdout"
        },
        {
          "output_type": "stream",
          "text": [
            "\r  6%|▋         | 51/800 [00:29<06:05,  2.05it/s]"
          ],
          "name": "stderr"
        },
        {
          "output_type": "stream",
          "text": [
            "Waste_Dataset//Images_merged//image52.jpg\n"
          ],
          "name": "stdout"
        },
        {
          "output_type": "stream",
          "text": [
            "\r  6%|▋         | 52/800 [00:30<06:58,  1.79it/s]"
          ],
          "name": "stderr"
        },
        {
          "output_type": "stream",
          "text": [
            "Waste_Dataset//Images_merged//image53.jpg\n"
          ],
          "name": "stdout"
        },
        {
          "output_type": "stream",
          "text": [
            "\r  7%|▋         | 53/800 [00:30<06:58,  1.78it/s]"
          ],
          "name": "stderr"
        },
        {
          "output_type": "stream",
          "text": [
            "Waste_Dataset//Images_merged//image54.jpg\n"
          ],
          "name": "stdout"
        },
        {
          "output_type": "stream",
          "text": [
            "\r  7%|▋         | 54/800 [00:31<06:58,  1.78it/s]"
          ],
          "name": "stderr"
        },
        {
          "output_type": "stream",
          "text": [
            "Waste_Dataset//Images_merged//image55.jpg\n"
          ],
          "name": "stdout"
        },
        {
          "output_type": "stream",
          "text": [
            "\r  7%|▋         | 55/800 [00:32<06:44,  1.84it/s]"
          ],
          "name": "stderr"
        },
        {
          "output_type": "stream",
          "text": [
            "Waste_Dataset//Images_merged//image56.jpg\n"
          ],
          "name": "stdout"
        },
        {
          "output_type": "stream",
          "text": [
            "\r  7%|▋         | 56/800 [00:32<06:33,  1.89it/s]"
          ],
          "name": "stderr"
        },
        {
          "output_type": "stream",
          "text": [
            "Waste_Dataset//Images_merged//image57.jpg\n"
          ],
          "name": "stdout"
        },
        {
          "output_type": "stream",
          "text": [
            "\r  7%|▋         | 57/800 [00:33<06:29,  1.91it/s]"
          ],
          "name": "stderr"
        },
        {
          "output_type": "stream",
          "text": [
            "Waste_Dataset//Images_merged//image58.jpg\n"
          ],
          "name": "stdout"
        },
        {
          "output_type": "stream",
          "text": [
            "\r  7%|▋         | 58/800 [00:33<06:35,  1.87it/s]"
          ],
          "name": "stderr"
        },
        {
          "output_type": "stream",
          "text": [
            "Waste_Dataset//Images_merged//image59.jpg\n"
          ],
          "name": "stdout"
        },
        {
          "output_type": "stream",
          "text": [
            "\r  7%|▋         | 59/800 [00:34<06:31,  1.89it/s]"
          ],
          "name": "stderr"
        },
        {
          "output_type": "stream",
          "text": [
            "Waste_Dataset//Images_merged//image60.jpg\n"
          ],
          "name": "stdout"
        },
        {
          "output_type": "stream",
          "text": [
            "\r  8%|▊         | 60/800 [00:34<06:20,  1.95it/s]"
          ],
          "name": "stderr"
        },
        {
          "output_type": "stream",
          "text": [
            "Waste_Dataset//Images_merged//image61.jpg\n"
          ],
          "name": "stdout"
        },
        {
          "output_type": "stream",
          "text": [
            "\r  8%|▊         | 61/800 [00:35<06:18,  1.95it/s]"
          ],
          "name": "stderr"
        },
        {
          "output_type": "stream",
          "text": [
            "Waste_Dataset//Images_merged//image62.jpg\n"
          ],
          "name": "stdout"
        },
        {
          "output_type": "stream",
          "text": [
            "\r  8%|▊         | 62/800 [00:35<06:02,  2.04it/s]"
          ],
          "name": "stderr"
        },
        {
          "output_type": "stream",
          "text": [
            "Waste_Dataset//Images_merged//image63.jpg\n"
          ],
          "name": "stdout"
        },
        {
          "output_type": "stream",
          "text": [
            "\r  8%|▊         | 63/800 [00:35<05:59,  2.05it/s]"
          ],
          "name": "stderr"
        },
        {
          "output_type": "stream",
          "text": [
            "Waste_Dataset//Images_merged//image64.jpg\n"
          ],
          "name": "stdout"
        },
        {
          "output_type": "stream",
          "text": [
            "\r  8%|▊         | 64/800 [00:36<05:46,  2.13it/s]"
          ],
          "name": "stderr"
        },
        {
          "output_type": "stream",
          "text": [
            "Waste_Dataset//Images_merged//image65.jpg\n"
          ],
          "name": "stdout"
        },
        {
          "output_type": "stream",
          "text": [
            "\r  8%|▊         | 65/800 [00:37<06:13,  1.97it/s]"
          ],
          "name": "stderr"
        },
        {
          "output_type": "stream",
          "text": [
            "Waste_Dataset//Images_merged//image66.jpg\n"
          ],
          "name": "stdout"
        },
        {
          "output_type": "stream",
          "text": [
            "\r  8%|▊         | 66/800 [00:37<06:13,  1.97it/s]"
          ],
          "name": "stderr"
        },
        {
          "output_type": "stream",
          "text": [
            "Waste_Dataset//Images_merged//image67.jpg\n"
          ],
          "name": "stdout"
        },
        {
          "output_type": "stream",
          "text": [
            "\r  8%|▊         | 67/800 [00:37<05:58,  2.04it/s]"
          ],
          "name": "stderr"
        },
        {
          "output_type": "stream",
          "text": [
            "Waste_Dataset//Images_merged//image68.jpg\n"
          ],
          "name": "stdout"
        },
        {
          "output_type": "stream",
          "text": [
            "\r  8%|▊         | 68/800 [00:38<06:00,  2.03it/s]"
          ],
          "name": "stderr"
        },
        {
          "output_type": "stream",
          "text": [
            "Waste_Dataset//Images_merged//image69.jpg\n"
          ],
          "name": "stdout"
        },
        {
          "output_type": "stream",
          "text": [
            "\r  9%|▊         | 69/800 [00:38<05:44,  2.12it/s]"
          ],
          "name": "stderr"
        },
        {
          "output_type": "stream",
          "text": [
            "Waste_Dataset//Images_merged//image70.jpg\n"
          ],
          "name": "stdout"
        },
        {
          "output_type": "stream",
          "text": [
            "\r  9%|▉         | 70/800 [00:39<05:34,  2.18it/s]"
          ],
          "name": "stderr"
        },
        {
          "output_type": "stream",
          "text": [
            "Waste_Dataset//Images_merged//image71.jpg\n"
          ],
          "name": "stdout"
        },
        {
          "output_type": "stream",
          "text": [
            "\r  9%|▉         | 71/800 [00:39<05:47,  2.10it/s]"
          ],
          "name": "stderr"
        },
        {
          "output_type": "stream",
          "text": [
            "Waste_Dataset//Images_merged//image72.jpg\n"
          ],
          "name": "stdout"
        },
        {
          "output_type": "stream",
          "text": [
            "\r  9%|▉         | 72/800 [00:40<05:52,  2.06it/s]"
          ],
          "name": "stderr"
        },
        {
          "output_type": "stream",
          "text": [
            "Waste_Dataset//Images_merged//image73.jpg\n"
          ],
          "name": "stdout"
        },
        {
          "output_type": "stream",
          "text": [
            "\r  9%|▉         | 73/800 [00:40<05:52,  2.07it/s]"
          ],
          "name": "stderr"
        },
        {
          "output_type": "stream",
          "text": [
            "Waste_Dataset//Images_merged//image74.jpg\n"
          ],
          "name": "stdout"
        },
        {
          "output_type": "stream",
          "text": [
            "\r  9%|▉         | 74/800 [00:41<05:41,  2.13it/s]"
          ],
          "name": "stderr"
        },
        {
          "output_type": "stream",
          "text": [
            "Waste_Dataset//Images_merged//image75.jpg\n"
          ],
          "name": "stdout"
        },
        {
          "output_type": "stream",
          "text": [
            "\r  9%|▉         | 75/800 [00:41<05:57,  2.03it/s]"
          ],
          "name": "stderr"
        },
        {
          "output_type": "stream",
          "text": [
            "Waste_Dataset//Images_merged//image76.jpg\n"
          ],
          "name": "stdout"
        },
        {
          "output_type": "stream",
          "text": [
            "\r 10%|▉         | 76/800 [00:42<05:55,  2.04it/s]"
          ],
          "name": "stderr"
        },
        {
          "output_type": "stream",
          "text": [
            "Waste_Dataset//Images_merged//image77.jpg\n"
          ],
          "name": "stdout"
        },
        {
          "output_type": "stream",
          "text": [
            "\r 10%|▉         | 77/800 [00:42<06:02,  1.99it/s]"
          ],
          "name": "stderr"
        },
        {
          "output_type": "stream",
          "text": [
            "Waste_Dataset//Images_merged//image78.jpg\n"
          ],
          "name": "stdout"
        },
        {
          "output_type": "stream",
          "text": [
            "\r 10%|▉         | 78/800 [00:43<05:52,  2.05it/s]"
          ],
          "name": "stderr"
        },
        {
          "output_type": "stream",
          "text": [
            "Waste_Dataset//Images_merged//image79.jpg\n"
          ],
          "name": "stdout"
        },
        {
          "output_type": "stream",
          "text": [
            "\r 10%|▉         | 79/800 [00:43<05:54,  2.03it/s]"
          ],
          "name": "stderr"
        },
        {
          "output_type": "stream",
          "text": [
            "Waste_Dataset//Images_merged//image80.jpg\n"
          ],
          "name": "stdout"
        },
        {
          "output_type": "stream",
          "text": [
            "\r 10%|█         | 80/800 [00:44<05:49,  2.06it/s]"
          ],
          "name": "stderr"
        },
        {
          "output_type": "stream",
          "text": [
            "Waste_Dataset//Images_merged//image81.jpg\n"
          ],
          "name": "stdout"
        },
        {
          "output_type": "stream",
          "text": [
            "\r 10%|█         | 81/800 [00:44<05:53,  2.04it/s]"
          ],
          "name": "stderr"
        },
        {
          "output_type": "stream",
          "text": [
            "Waste_Dataset//Images_merged//image82.jpg\n"
          ],
          "name": "stdout"
        },
        {
          "output_type": "stream",
          "text": [
            "\r 10%|█         | 82/800 [00:45<06:03,  1.98it/s]"
          ],
          "name": "stderr"
        },
        {
          "output_type": "stream",
          "text": [
            "Waste_Dataset//Images_merged//image83.jpg\n"
          ],
          "name": "stdout"
        },
        {
          "output_type": "stream",
          "text": [
            "\r 10%|█         | 83/800 [00:45<05:45,  2.08it/s]"
          ],
          "name": "stderr"
        },
        {
          "output_type": "stream",
          "text": [
            "Waste_Dataset//Images_merged//image84.jpg\n"
          ],
          "name": "stdout"
        },
        {
          "output_type": "stream",
          "text": [
            "\r 10%|█         | 84/800 [00:46<05:52,  2.03it/s]"
          ],
          "name": "stderr"
        },
        {
          "output_type": "stream",
          "text": [
            "Waste_Dataset//Images_merged//image85.jpg\n"
          ],
          "name": "stdout"
        },
        {
          "output_type": "stream",
          "text": [
            "\r 11%|█         | 85/800 [00:46<05:50,  2.04it/s]"
          ],
          "name": "stderr"
        },
        {
          "output_type": "stream",
          "text": [
            "Waste_Dataset//Images_merged//image86.jpg\n"
          ],
          "name": "stdout"
        },
        {
          "output_type": "stream",
          "text": [
            "\r 11%|█         | 86/800 [00:47<05:51,  2.03it/s]"
          ],
          "name": "stderr"
        },
        {
          "output_type": "stream",
          "text": [
            "Waste_Dataset//Images_merged//image87.jpg\n"
          ],
          "name": "stdout"
        },
        {
          "output_type": "stream",
          "text": [
            "\r 11%|█         | 87/800 [00:47<05:51,  2.03it/s]"
          ],
          "name": "stderr"
        },
        {
          "output_type": "stream",
          "text": [
            "Waste_Dataset//Images_merged//image88.jpg\n"
          ],
          "name": "stdout"
        },
        {
          "output_type": "stream",
          "text": [
            "\r 11%|█         | 88/800 [00:48<05:49,  2.04it/s]"
          ],
          "name": "stderr"
        },
        {
          "output_type": "stream",
          "text": [
            "Waste_Dataset//Images_merged//image89.jpg\n"
          ],
          "name": "stdout"
        },
        {
          "output_type": "stream",
          "text": [
            "\r 11%|█         | 89/800 [00:48<05:54,  2.00it/s]"
          ],
          "name": "stderr"
        },
        {
          "output_type": "stream",
          "text": [
            "Waste_Dataset//Images_merged//image90.jpg\n"
          ],
          "name": "stdout"
        },
        {
          "output_type": "stream",
          "text": [
            "\r 11%|█▏        | 90/800 [00:49<05:51,  2.02it/s]"
          ],
          "name": "stderr"
        },
        {
          "output_type": "stream",
          "text": [
            "Waste_Dataset//Images_merged//image91.jpg\n"
          ],
          "name": "stdout"
        },
        {
          "output_type": "stream",
          "text": [
            "\r 11%|█▏        | 91/800 [00:49<06:04,  1.94it/s]"
          ],
          "name": "stderr"
        },
        {
          "output_type": "stream",
          "text": [
            "Waste_Dataset//Images_merged//image92.jpg\n"
          ],
          "name": "stdout"
        },
        {
          "output_type": "stream",
          "text": [
            "\r 12%|█▏        | 92/800 [00:50<06:38,  1.78it/s]"
          ],
          "name": "stderr"
        },
        {
          "output_type": "stream",
          "text": [
            "Waste_Dataset//Images_merged//image93.jpg\n"
          ],
          "name": "stdout"
        },
        {
          "output_type": "stream",
          "text": [
            "\r 12%|█▏        | 93/800 [00:51<07:24,  1.59it/s]"
          ],
          "name": "stderr"
        },
        {
          "output_type": "stream",
          "text": [
            "Waste_Dataset//Images_merged//image94.jpg\n"
          ],
          "name": "stdout"
        },
        {
          "output_type": "stream",
          "text": [
            "\r 12%|█▏        | 94/800 [00:51<06:45,  1.74it/s]"
          ],
          "name": "stderr"
        },
        {
          "output_type": "stream",
          "text": [
            "Waste_Dataset//Images_merged//image95.jpg\n"
          ],
          "name": "stdout"
        },
        {
          "output_type": "stream",
          "text": [
            "\r 12%|█▏        | 95/800 [00:52<06:35,  1.78it/s]"
          ],
          "name": "stderr"
        },
        {
          "output_type": "stream",
          "text": [
            "Waste_Dataset//Images_merged//image96.jpg\n"
          ],
          "name": "stdout"
        },
        {
          "output_type": "stream",
          "text": [
            "\r 12%|█▏        | 96/800 [00:52<06:26,  1.82it/s]"
          ],
          "name": "stderr"
        },
        {
          "output_type": "stream",
          "text": [
            "Waste_Dataset//Images_merged//image97.jpg\n"
          ],
          "name": "stdout"
        },
        {
          "output_type": "stream",
          "text": [
            "\r 12%|█▏        | 97/800 [00:53<06:12,  1.89it/s]"
          ],
          "name": "stderr"
        },
        {
          "output_type": "stream",
          "text": [
            "Waste_Dataset//Images_merged//image98.jpg\n"
          ],
          "name": "stdout"
        },
        {
          "output_type": "stream",
          "text": [
            "\r 12%|█▏        | 98/800 [00:54<07:09,  1.63it/s]"
          ],
          "name": "stderr"
        },
        {
          "output_type": "stream",
          "text": [
            "Waste_Dataset//Images_merged//image99.jpg\n"
          ],
          "name": "stdout"
        },
        {
          "output_type": "stream",
          "text": [
            "\r 12%|█▏        | 99/800 [00:54<06:50,  1.71it/s]"
          ],
          "name": "stderr"
        },
        {
          "output_type": "stream",
          "text": [
            "Waste_Dataset//Images_merged//image100.jpg\n"
          ],
          "name": "stdout"
        },
        {
          "output_type": "stream",
          "text": [
            "\r 12%|█▎        | 100/800 [00:55<07:54,  1.48it/s]"
          ],
          "name": "stderr"
        },
        {
          "output_type": "stream",
          "text": [
            "Waste_Dataset//Images_merged//image102.jpg\n"
          ],
          "name": "stdout"
        },
        {
          "output_type": "stream",
          "text": [
            "\r 13%|█▎        | 101/800 [00:55<07:19,  1.59it/s]"
          ],
          "name": "stderr"
        },
        {
          "output_type": "stream",
          "text": [
            "Waste_Dataset//Images_merged//image103.jpg\n"
          ],
          "name": "stdout"
        },
        {
          "output_type": "stream",
          "text": [
            "\r 13%|█▎        | 102/800 [00:56<07:44,  1.50it/s]"
          ],
          "name": "stderr"
        },
        {
          "output_type": "stream",
          "text": [
            "Waste_Dataset//Images_merged//image104.jpg\n"
          ],
          "name": "stdout"
        },
        {
          "output_type": "stream",
          "text": [
            "\r 13%|█▎        | 103/800 [00:57<07:14,  1.61it/s]"
          ],
          "name": "stderr"
        },
        {
          "output_type": "stream",
          "text": [
            "Waste_Dataset//Images_merged//image105.jpg\n"
          ],
          "name": "stdout"
        },
        {
          "output_type": "stream",
          "text": [
            "\r 13%|█▎        | 104/800 [00:58<08:06,  1.43it/s]"
          ],
          "name": "stderr"
        },
        {
          "output_type": "stream",
          "text": [
            "Waste_Dataset//Images_merged//image106.jpg\n"
          ],
          "name": "stdout"
        },
        {
          "output_type": "stream",
          "text": [
            "\r 13%|█▎        | 105/800 [00:58<07:28,  1.55it/s]"
          ],
          "name": "stderr"
        },
        {
          "output_type": "stream",
          "text": [
            "Waste_Dataset//Images_merged//image107.jpg\n"
          ],
          "name": "stdout"
        },
        {
          "output_type": "stream",
          "text": [
            "\r 13%|█▎        | 106/800 [00:59<09:08,  1.27it/s]"
          ],
          "name": "stderr"
        },
        {
          "output_type": "stream",
          "text": [
            "Waste_Dataset//Images_merged//image108.jpg\n"
          ],
          "name": "stdout"
        },
        {
          "output_type": "stream",
          "text": [
            "\r 13%|█▎        | 107/800 [01:00<08:15,  1.40it/s]"
          ],
          "name": "stderr"
        },
        {
          "output_type": "stream",
          "text": [
            "Waste_Dataset//Images_merged//image109.jpg\n"
          ],
          "name": "stdout"
        },
        {
          "output_type": "stream",
          "text": [
            "\r 14%|█▎        | 108/800 [01:00<07:32,  1.53it/s]"
          ],
          "name": "stderr"
        },
        {
          "output_type": "stream",
          "text": [
            "Waste_Dataset//Images_merged//image110.jpg\n"
          ],
          "name": "stdout"
        },
        {
          "output_type": "stream",
          "text": [
            "\r 14%|█▎        | 109/800 [01:01<06:55,  1.66it/s]"
          ],
          "name": "stderr"
        },
        {
          "output_type": "stream",
          "text": [
            "Waste_Dataset//Images_merged//image111.jpg\n"
          ],
          "name": "stdout"
        },
        {
          "output_type": "stream",
          "text": [
            "\r 14%|█▍        | 110/800 [01:02<07:28,  1.54it/s]"
          ],
          "name": "stderr"
        },
        {
          "output_type": "stream",
          "text": [
            "Waste_Dataset//Images_merged//image112.jpg\n"
          ],
          "name": "stdout"
        },
        {
          "output_type": "stream",
          "text": [
            "\r 14%|█▍        | 111/800 [01:02<07:03,  1.63it/s]"
          ],
          "name": "stderr"
        },
        {
          "output_type": "stream",
          "text": [
            "Waste_Dataset//Images_merged//image113.jpg\n"
          ],
          "name": "stdout"
        },
        {
          "output_type": "stream",
          "text": [
            "\r 14%|█▍        | 112/800 [01:04<10:59,  1.04it/s]"
          ],
          "name": "stderr"
        },
        {
          "output_type": "stream",
          "text": [
            "Waste_Dataset//Images_merged//image114.jpg\n"
          ],
          "name": "stdout"
        },
        {
          "output_type": "stream",
          "text": [
            "\r 14%|█▍        | 113/800 [01:04<09:20,  1.23it/s]"
          ],
          "name": "stderr"
        },
        {
          "output_type": "stream",
          "text": [
            "Waste_Dataset//Images_merged//image115.jpg\n"
          ],
          "name": "stdout"
        },
        {
          "output_type": "stream",
          "text": [
            "\r 14%|█▍        | 114/800 [01:05<09:16,  1.23it/s]"
          ],
          "name": "stderr"
        },
        {
          "output_type": "stream",
          "text": [
            "Waste_Dataset//Images_merged//image116.jpg\n"
          ],
          "name": "stdout"
        },
        {
          "output_type": "stream",
          "text": [
            "\r 14%|█▍        | 115/800 [01:06<08:10,  1.40it/s]"
          ],
          "name": "stderr"
        },
        {
          "output_type": "stream",
          "text": [
            "Waste_Dataset//Images_merged//image117.jpg\n"
          ],
          "name": "stdout"
        },
        {
          "output_type": "stream",
          "text": [
            "\r 14%|█▍        | 116/800 [01:06<07:14,  1.57it/s]"
          ],
          "name": "stderr"
        },
        {
          "output_type": "stream",
          "text": [
            "Waste_Dataset//Images_merged//image118.jpg\n"
          ],
          "name": "stdout"
        },
        {
          "output_type": "stream",
          "text": [
            "\r 15%|█▍        | 117/800 [01:07<06:38,  1.71it/s]"
          ],
          "name": "stderr"
        },
        {
          "output_type": "stream",
          "text": [
            "Waste_Dataset//Images_merged//image119.jpg\n"
          ],
          "name": "stdout"
        },
        {
          "output_type": "stream",
          "text": [
            "\r 15%|█▍        | 118/800 [01:07<06:19,  1.80it/s]"
          ],
          "name": "stderr"
        },
        {
          "output_type": "stream",
          "text": [
            "Waste_Dataset//Images_merged//image120.jpg\n"
          ],
          "name": "stdout"
        },
        {
          "output_type": "stream",
          "text": [
            "\r 15%|█▍        | 119/800 [01:08<06:09,  1.84it/s]"
          ],
          "name": "stderr"
        },
        {
          "output_type": "stream",
          "text": [
            "Waste_Dataset//Images_merged//metal1.jpg\n"
          ],
          "name": "stdout"
        },
        {
          "output_type": "stream",
          "text": [
            "\r 15%|█▌        | 120/800 [01:08<06:28,  1.75it/s]"
          ],
          "name": "stderr"
        },
        {
          "output_type": "stream",
          "text": [
            "Waste_Dataset//Images_merged//metal5.jpg\n"
          ],
          "name": "stdout"
        },
        {
          "output_type": "stream",
          "text": [
            "\r 15%|█▌        | 121/800 [01:09<06:07,  1.85it/s]"
          ],
          "name": "stderr"
        },
        {
          "output_type": "stream",
          "text": [
            "Waste_Dataset//Images_merged//metal6.jpg\n"
          ],
          "name": "stdout"
        },
        {
          "output_type": "stream",
          "text": [
            "\r 15%|█▌        | 122/800 [01:09<06:03,  1.86it/s]"
          ],
          "name": "stderr"
        },
        {
          "output_type": "stream",
          "text": [
            "Waste_Dataset//Images_merged//metal7.jpg\n"
          ],
          "name": "stdout"
        },
        {
          "output_type": "stream",
          "text": [
            "\r 15%|█▌        | 123/800 [01:10<06:43,  1.68it/s]"
          ],
          "name": "stderr"
        },
        {
          "output_type": "stream",
          "text": [
            "Waste_Dataset//Images_merged//metal8.jpg\n"
          ],
          "name": "stdout"
        },
        {
          "output_type": "stream",
          "text": [
            "\r 16%|█▌        | 124/800 [01:11<07:15,  1.55it/s]"
          ],
          "name": "stderr"
        },
        {
          "output_type": "stream",
          "text": [
            "Waste_Dataset//Images_merged//metal9.jpg\n"
          ],
          "name": "stdout"
        },
        {
          "output_type": "stream",
          "text": [
            "\r 16%|█▌        | 125/800 [01:11<07:40,  1.47it/s]"
          ],
          "name": "stderr"
        },
        {
          "output_type": "stream",
          "text": [
            "Waste_Dataset//Images_merged//metal10.jpg\n"
          ],
          "name": "stdout"
        },
        {
          "output_type": "stream",
          "text": [
            "\r 16%|█▌        | 126/800 [01:12<06:50,  1.64it/s]"
          ],
          "name": "stderr"
        },
        {
          "output_type": "stream",
          "text": [
            "Waste_Dataset//Images_merged//metal11.jpg\n"
          ],
          "name": "stdout"
        },
        {
          "output_type": "stream",
          "text": [
            "\r 16%|█▌        | 127/800 [01:12<06:27,  1.74it/s]"
          ],
          "name": "stderr"
        },
        {
          "output_type": "stream",
          "text": [
            "Waste_Dataset//Images_merged//metal12.jpg\n"
          ],
          "name": "stdout"
        },
        {
          "output_type": "stream",
          "text": [
            "\r 16%|█▌        | 128/800 [01:13<06:05,  1.84it/s]"
          ],
          "name": "stderr"
        },
        {
          "output_type": "stream",
          "text": [
            "Waste_Dataset//Images_merged//metal13.jpg\n"
          ],
          "name": "stdout"
        },
        {
          "output_type": "stream",
          "text": [
            "\r 16%|█▌        | 129/800 [01:13<05:50,  1.91it/s]"
          ],
          "name": "stderr"
        },
        {
          "output_type": "stream",
          "text": [
            "Waste_Dataset//Images_merged//metal14.jpg\n"
          ],
          "name": "stdout"
        },
        {
          "output_type": "stream",
          "text": [
            "\r 16%|█▋        | 130/800 [01:14<05:30,  2.03it/s]"
          ],
          "name": "stderr"
        },
        {
          "output_type": "stream",
          "text": [
            "Waste_Dataset//Images_merged//metal15.jpg\n"
          ],
          "name": "stdout"
        },
        {
          "output_type": "stream",
          "text": [
            "\r 16%|█▋        | 131/800 [01:14<05:19,  2.09it/s]"
          ],
          "name": "stderr"
        },
        {
          "output_type": "stream",
          "text": [
            "Waste_Dataset//Images_merged//metal16.jpg\n"
          ],
          "name": "stdout"
        },
        {
          "output_type": "stream",
          "text": [
            "\r 16%|█▋        | 132/800 [01:15<05:15,  2.12it/s]"
          ],
          "name": "stderr"
        },
        {
          "output_type": "stream",
          "text": [
            "Waste_Dataset//Images_merged//metal17.jpg\n"
          ],
          "name": "stdout"
        },
        {
          "output_type": "stream",
          "text": [
            "\r 17%|█▋        | 133/800 [01:15<05:47,  1.92it/s]"
          ],
          "name": "stderr"
        },
        {
          "output_type": "stream",
          "text": [
            "Waste_Dataset//Images_merged//metal18.jpg\n"
          ],
          "name": "stdout"
        },
        {
          "output_type": "stream",
          "text": [
            "\r 17%|█▋        | 134/800 [01:16<06:09,  1.80it/s]"
          ],
          "name": "stderr"
        },
        {
          "output_type": "stream",
          "text": [
            "Waste_Dataset//Images_merged//metal48.jpg\n"
          ],
          "name": "stdout"
        },
        {
          "output_type": "stream",
          "text": [
            "\r 17%|█▋        | 135/800 [01:16<05:56,  1.87it/s]"
          ],
          "name": "stderr"
        },
        {
          "output_type": "stream",
          "text": [
            "Waste_Dataset//Images_merged//metal49.jpg\n"
          ],
          "name": "stdout"
        },
        {
          "output_type": "stream",
          "text": [
            "\r 17%|█▋        | 136/800 [01:17<05:50,  1.89it/s]"
          ],
          "name": "stderr"
        },
        {
          "output_type": "stream",
          "text": [
            "Waste_Dataset//Images_merged//metal50.jpg\n"
          ],
          "name": "stdout"
        },
        {
          "output_type": "stream",
          "text": [
            "\r 17%|█▋        | 137/800 [01:17<05:58,  1.85it/s]"
          ],
          "name": "stderr"
        },
        {
          "output_type": "stream",
          "text": [
            "Waste_Dataset//Images_merged//metal51.jpg\n"
          ],
          "name": "stdout"
        },
        {
          "output_type": "stream",
          "text": [
            "\r 17%|█▋        | 138/800 [01:18<05:40,  1.95it/s]"
          ],
          "name": "stderr"
        },
        {
          "output_type": "stream",
          "text": [
            "Waste_Dataset//Images_merged//metal52.jpg\n"
          ],
          "name": "stdout"
        },
        {
          "output_type": "stream",
          "text": [
            "\r 17%|█▋        | 139/800 [01:18<05:27,  2.02it/s]"
          ],
          "name": "stderr"
        },
        {
          "output_type": "stream",
          "text": [
            "Waste_Dataset//Images_merged//metal53.jpg\n"
          ],
          "name": "stdout"
        },
        {
          "output_type": "stream",
          "text": [
            "\r 18%|█▊        | 140/800 [01:19<05:22,  2.05it/s]"
          ],
          "name": "stderr"
        },
        {
          "output_type": "stream",
          "text": [
            "Waste_Dataset//Images_merged//metal54.jpg\n"
          ],
          "name": "stdout"
        },
        {
          "output_type": "stream",
          "text": [
            "\r 18%|█▊        | 141/800 [01:19<05:21,  2.05it/s]"
          ],
          "name": "stderr"
        },
        {
          "output_type": "stream",
          "text": [
            "Waste_Dataset//Images_merged//metal55.jpg\n"
          ],
          "name": "stdout"
        },
        {
          "output_type": "stream",
          "text": [
            "\r 18%|█▊        | 142/800 [01:20<05:47,  1.89it/s]"
          ],
          "name": "stderr"
        },
        {
          "output_type": "stream",
          "text": [
            "Waste_Dataset//Images_merged//metal56.jpg\n"
          ],
          "name": "stdout"
        },
        {
          "output_type": "stream",
          "text": [
            "\r 18%|█▊        | 143/800 [01:20<05:30,  1.99it/s]"
          ],
          "name": "stderr"
        },
        {
          "output_type": "stream",
          "text": [
            "Waste_Dataset//Images_merged//metal57.jpg\n"
          ],
          "name": "stdout"
        },
        {
          "output_type": "stream",
          "text": [
            "\r 18%|█▊        | 144/800 [01:21<05:12,  2.10it/s]"
          ],
          "name": "stderr"
        },
        {
          "output_type": "stream",
          "text": [
            "Waste_Dataset//Images_merged//metal58.jpg\n"
          ],
          "name": "stdout"
        },
        {
          "output_type": "stream",
          "text": [
            "\r 18%|█▊        | 145/800 [01:21<05:45,  1.90it/s]"
          ],
          "name": "stderr"
        },
        {
          "output_type": "stream",
          "text": [
            "Waste_Dataset//Images_merged//metal59.jpg\n"
          ],
          "name": "stdout"
        },
        {
          "output_type": "stream",
          "text": [
            "\r 18%|█▊        | 146/800 [01:22<05:26,  2.00it/s]"
          ],
          "name": "stderr"
        },
        {
          "output_type": "stream",
          "text": [
            "Waste_Dataset//Images_merged//metal60.jpg\n"
          ],
          "name": "stdout"
        },
        {
          "output_type": "stream",
          "text": [
            "\r 18%|█▊        | 147/800 [01:22<05:13,  2.08it/s]"
          ],
          "name": "stderr"
        },
        {
          "output_type": "stream",
          "text": [
            "Waste_Dataset//Images_merged//metal61.jpg\n"
          ],
          "name": "stdout"
        },
        {
          "output_type": "stream",
          "text": [
            "\r 18%|█▊        | 148/800 [01:23<05:17,  2.05it/s]"
          ],
          "name": "stderr"
        },
        {
          "output_type": "stream",
          "text": [
            "Waste_Dataset//Images_merged//metal62.jpg\n"
          ],
          "name": "stdout"
        },
        {
          "output_type": "stream",
          "text": [
            "\r 19%|█▊        | 149/800 [01:23<05:07,  2.12it/s]"
          ],
          "name": "stderr"
        },
        {
          "output_type": "stream",
          "text": [
            "Waste_Dataset//Images_merged//metal63.jpg\n"
          ],
          "name": "stdout"
        },
        {
          "output_type": "stream",
          "text": [
            "\r 19%|█▉        | 150/800 [01:24<05:40,  1.91it/s]"
          ],
          "name": "stderr"
        },
        {
          "output_type": "stream",
          "text": [
            "Waste_Dataset//Images_merged//metal64.jpg\n"
          ],
          "name": "stdout"
        },
        {
          "output_type": "stream",
          "text": [
            "\r 19%|█▉        | 151/800 [01:24<05:36,  1.93it/s]"
          ],
          "name": "stderr"
        },
        {
          "output_type": "stream",
          "text": [
            "Waste_Dataset//Images_merged//metal65.jpg\n"
          ],
          "name": "stdout"
        },
        {
          "output_type": "stream",
          "text": [
            "\r 19%|█▉        | 152/800 [01:25<05:22,  2.01it/s]"
          ],
          "name": "stderr"
        },
        {
          "output_type": "stream",
          "text": [
            "Waste_Dataset//Images_merged//metal66.jpg\n"
          ],
          "name": "stdout"
        },
        {
          "output_type": "stream",
          "text": [
            "\r 19%|█▉        | 153/800 [01:25<05:13,  2.06it/s]"
          ],
          "name": "stderr"
        },
        {
          "output_type": "stream",
          "text": [
            "Waste_Dataset//Images_merged//metal67.jpg\n"
          ],
          "name": "stdout"
        },
        {
          "output_type": "stream",
          "text": [
            "\r 19%|█▉        | 154/800 [01:26<07:04,  1.52it/s]"
          ],
          "name": "stderr"
        },
        {
          "output_type": "stream",
          "text": [
            "Waste_Dataset//Images_merged//metal68.jpg\n"
          ],
          "name": "stdout"
        },
        {
          "output_type": "stream",
          "text": [
            "\r 19%|█▉        | 155/800 [01:27<06:25,  1.67it/s]"
          ],
          "name": "stderr"
        },
        {
          "output_type": "stream",
          "text": [
            "Waste_Dataset//Images_merged//metal69.jpg\n"
          ],
          "name": "stdout"
        },
        {
          "output_type": "stream",
          "text": [
            "\r 20%|█▉        | 156/800 [01:27<06:06,  1.76it/s]"
          ],
          "name": "stderr"
        },
        {
          "output_type": "stream",
          "text": [
            "Waste_Dataset//Images_merged//metal70.jpg\n"
          ],
          "name": "stdout"
        },
        {
          "output_type": "stream",
          "text": [
            "\r 20%|█▉        | 157/800 [01:28<05:50,  1.84it/s]"
          ],
          "name": "stderr"
        },
        {
          "output_type": "stream",
          "text": [
            "Waste_Dataset//Images_merged//metal71.jpg\n"
          ],
          "name": "stdout"
        },
        {
          "output_type": "stream",
          "text": [
            "\r 20%|█▉        | 158/800 [01:29<06:20,  1.69it/s]"
          ],
          "name": "stderr"
        },
        {
          "output_type": "stream",
          "text": [
            "Waste_Dataset//Images_merged//metal72.jpg\n"
          ],
          "name": "stdout"
        },
        {
          "output_type": "stream",
          "text": [
            "\r 20%|█▉        | 159/800 [01:29<06:15,  1.71it/s]"
          ],
          "name": "stderr"
        },
        {
          "output_type": "stream",
          "text": [
            "Waste_Dataset//Images_merged//metal73.jpg\n"
          ],
          "name": "stdout"
        },
        {
          "output_type": "stream",
          "text": [
            "\r 20%|██        | 160/800 [01:30<06:02,  1.77it/s]"
          ],
          "name": "stderr"
        },
        {
          "output_type": "stream",
          "text": [
            "Waste_Dataset//Images_merged//metal74.jpg\n"
          ],
          "name": "stdout"
        },
        {
          "output_type": "stream",
          "text": [
            "\r 20%|██        | 161/800 [01:30<05:39,  1.88it/s]"
          ],
          "name": "stderr"
        },
        {
          "output_type": "stream",
          "text": [
            "Waste_Dataset//Images_merged//metal75.jpg\n"
          ],
          "name": "stdout"
        },
        {
          "output_type": "stream",
          "text": [
            "\r 20%|██        | 162/800 [01:31<06:13,  1.71it/s]"
          ],
          "name": "stderr"
        },
        {
          "output_type": "stream",
          "text": [
            "Waste_Dataset//Images_merged//metal76.jpg\n"
          ],
          "name": "stdout"
        },
        {
          "output_type": "stream",
          "text": [
            "\r 20%|██        | 163/800 [01:31<06:00,  1.77it/s]"
          ],
          "name": "stderr"
        },
        {
          "output_type": "stream",
          "text": [
            "Waste_Dataset//Images_merged//metal77.jpg\n"
          ],
          "name": "stdout"
        },
        {
          "output_type": "stream",
          "text": [
            "\r 20%|██        | 164/800 [01:32<05:35,  1.89it/s]"
          ],
          "name": "stderr"
        },
        {
          "output_type": "stream",
          "text": [
            "Waste_Dataset//Images_merged//metal78.jpg\n"
          ],
          "name": "stdout"
        },
        {
          "output_type": "stream",
          "text": [
            "\r 21%|██        | 165/800 [01:32<05:22,  1.97it/s]"
          ],
          "name": "stderr"
        },
        {
          "output_type": "stream",
          "text": [
            "Waste_Dataset//Images_merged//metal79.jpg\n"
          ],
          "name": "stdout"
        },
        {
          "output_type": "stream",
          "text": [
            "\r 21%|██        | 166/800 [01:33<05:11,  2.04it/s]"
          ],
          "name": "stderr"
        },
        {
          "output_type": "stream",
          "text": [
            "Waste_Dataset//Images_merged//metal80.jpg\n"
          ],
          "name": "stdout"
        },
        {
          "output_type": "stream",
          "text": [
            "\r 21%|██        | 167/800 [01:33<05:03,  2.08it/s]"
          ],
          "name": "stderr"
        },
        {
          "output_type": "stream",
          "text": [
            "Waste_Dataset//Images_merged//metal81.jpg\n"
          ],
          "name": "stdout"
        },
        {
          "output_type": "stream",
          "text": [
            "\r 21%|██        | 168/800 [01:34<05:56,  1.77it/s]"
          ],
          "name": "stderr"
        },
        {
          "output_type": "stream",
          "text": [
            "Waste_Dataset//Images_merged//metal82.jpg\n"
          ],
          "name": "stdout"
        },
        {
          "output_type": "stream",
          "text": [
            "\r 21%|██        | 169/800 [01:34<05:41,  1.85it/s]"
          ],
          "name": "stderr"
        },
        {
          "output_type": "stream",
          "text": [
            "Waste_Dataset//Images_merged//metal83.jpg\n"
          ],
          "name": "stdout"
        },
        {
          "output_type": "stream",
          "text": [
            "\r 21%|██▏       | 170/800 [01:35<05:59,  1.75it/s]"
          ],
          "name": "stderr"
        },
        {
          "output_type": "stream",
          "text": [
            "Waste_Dataset//Images_merged//metal84.jpg\n"
          ],
          "name": "stdout"
        },
        {
          "output_type": "stream",
          "text": [
            "\r 21%|██▏       | 171/800 [01:36<06:29,  1.62it/s]"
          ],
          "name": "stderr"
        },
        {
          "output_type": "stream",
          "text": [
            "Waste_Dataset//Images_merged//metal85.jpg\n"
          ],
          "name": "stdout"
        },
        {
          "output_type": "stream",
          "text": [
            "\r 22%|██▏       | 172/800 [01:36<06:36,  1.58it/s]"
          ],
          "name": "stderr"
        },
        {
          "output_type": "stream",
          "text": [
            "Waste_Dataset//Images_merged//metal86.jpg\n"
          ],
          "name": "stdout"
        },
        {
          "output_type": "stream",
          "text": [
            "\r 22%|██▏       | 173/800 [01:37<06:02,  1.73it/s]"
          ],
          "name": "stderr"
        },
        {
          "output_type": "stream",
          "text": [
            "Waste_Dataset//Images_merged//metal87.jpg\n"
          ],
          "name": "stdout"
        },
        {
          "output_type": "stream",
          "text": [
            "\r 22%|██▏       | 174/800 [01:37<05:41,  1.84it/s]"
          ],
          "name": "stderr"
        },
        {
          "output_type": "stream",
          "text": [
            "Waste_Dataset//Images_merged//metal88.jpg\n"
          ],
          "name": "stdout"
        },
        {
          "output_type": "stream",
          "text": [
            "\r 22%|██▏       | 175/800 [01:38<05:19,  1.96it/s]"
          ],
          "name": "stderr"
        },
        {
          "output_type": "stream",
          "text": [
            "Waste_Dataset//Images_merged//metal89.jpg\n"
          ],
          "name": "stdout"
        },
        {
          "output_type": "stream",
          "text": [
            "\r 22%|██▏       | 176/800 [01:39<06:11,  1.68it/s]"
          ],
          "name": "stderr"
        },
        {
          "output_type": "stream",
          "text": [
            "Waste_Dataset//Images_merged//metal90.jpg\n"
          ],
          "name": "stdout"
        },
        {
          "output_type": "stream",
          "text": [
            "\r 22%|██▏       | 177/800 [01:39<06:36,  1.57it/s]"
          ],
          "name": "stderr"
        },
        {
          "output_type": "stream",
          "text": [
            "Waste_Dataset//Images_merged//metal91.jpg\n"
          ],
          "name": "stdout"
        },
        {
          "output_type": "stream",
          "text": [
            "\r 22%|██▏       | 178/800 [01:40<06:56,  1.49it/s]"
          ],
          "name": "stderr"
        },
        {
          "output_type": "stream",
          "text": [
            "Waste_Dataset//Images_merged//metal92.jpg\n"
          ],
          "name": "stdout"
        },
        {
          "output_type": "stream",
          "text": [
            "\r 22%|██▏       | 179/800 [01:41<06:56,  1.49it/s]"
          ],
          "name": "stderr"
        },
        {
          "output_type": "stream",
          "text": [
            "Waste_Dataset//Images_merged//metal93.jpg\n"
          ],
          "name": "stdout"
        },
        {
          "output_type": "stream",
          "text": [
            "\r 22%|██▎       | 180/800 [01:41<06:20,  1.63it/s]"
          ],
          "name": "stderr"
        },
        {
          "output_type": "stream",
          "text": [
            "Waste_Dataset//Images_merged//metal94.jpg\n"
          ],
          "name": "stdout"
        },
        {
          "output_type": "stream",
          "text": [
            "\r 23%|██▎       | 181/800 [01:42<05:51,  1.76it/s]"
          ],
          "name": "stderr"
        },
        {
          "output_type": "stream",
          "text": [
            "Waste_Dataset//Images_merged//metal95.jpg\n"
          ],
          "name": "stdout"
        },
        {
          "output_type": "stream",
          "text": [
            "\r 23%|██▎       | 182/800 [01:42<05:38,  1.83it/s]"
          ],
          "name": "stderr"
        },
        {
          "output_type": "stream",
          "text": [
            "Waste_Dataset//Images_merged//metal96.jpg\n"
          ],
          "name": "stdout"
        },
        {
          "output_type": "stream",
          "text": [
            "\r 23%|██▎       | 183/800 [01:43<05:22,  1.91it/s]"
          ],
          "name": "stderr"
        },
        {
          "output_type": "stream",
          "text": [
            "Waste_Dataset//Images_merged//metal97.jpg\n"
          ],
          "name": "stdout"
        },
        {
          "output_type": "stream",
          "text": [
            "\r 23%|██▎       | 184/800 [01:43<06:12,  1.65it/s]"
          ],
          "name": "stderr"
        },
        {
          "output_type": "stream",
          "text": [
            "Waste_Dataset//Images_merged//metal98.jpg\n"
          ],
          "name": "stdout"
        },
        {
          "output_type": "stream",
          "text": [
            "\r 23%|██▎       | 185/800 [01:44<05:46,  1.77it/s]"
          ],
          "name": "stderr"
        },
        {
          "output_type": "stream",
          "text": [
            "Waste_Dataset//Images_merged//metal99.jpg\n"
          ],
          "name": "stdout"
        },
        {
          "output_type": "stream",
          "text": [
            "\r 23%|██▎       | 186/800 [01:45<06:47,  1.51it/s]"
          ],
          "name": "stderr"
        },
        {
          "output_type": "stream",
          "text": [
            "Waste_Dataset//Images_merged//metal100.jpg\n"
          ],
          "name": "stdout"
        },
        {
          "output_type": "stream",
          "text": [
            "\r 23%|██▎       | 187/800 [01:45<06:05,  1.68it/s]"
          ],
          "name": "stderr"
        },
        {
          "output_type": "stream",
          "text": [
            "Waste_Dataset//Images_merged//metal101.jpg\n"
          ],
          "name": "stdout"
        },
        {
          "output_type": "stream",
          "text": [
            "\r 24%|██▎       | 188/800 [01:46<06:37,  1.54it/s]"
          ],
          "name": "stderr"
        },
        {
          "output_type": "stream",
          "text": [
            "Waste_Dataset//Images_merged//metal102.jpg\n"
          ],
          "name": "stdout"
        },
        {
          "output_type": "stream",
          "text": [
            "\r 24%|██▎       | 189/800 [01:46<06:09,  1.65it/s]"
          ],
          "name": "stderr"
        },
        {
          "output_type": "stream",
          "text": [
            "Waste_Dataset//Images_merged//metal103.jpg\n"
          ],
          "name": "stdout"
        },
        {
          "output_type": "stream",
          "text": [
            "\r 24%|██▍       | 190/800 [01:47<07:20,  1.39it/s]"
          ],
          "name": "stderr"
        },
        {
          "output_type": "stream",
          "text": [
            "Waste_Dataset//Images_merged//metal104.jpg\n"
          ],
          "name": "stdout"
        },
        {
          "output_type": "stream",
          "text": [
            "\r 24%|██▍       | 191/800 [01:48<06:33,  1.55it/s]"
          ],
          "name": "stderr"
        },
        {
          "output_type": "stream",
          "text": [
            "Waste_Dataset//Images_merged//metal105.jpg\n"
          ],
          "name": "stdout"
        },
        {
          "output_type": "stream",
          "text": [
            "\r 24%|██▍       | 192/800 [01:49<07:05,  1.43it/s]"
          ],
          "name": "stderr"
        },
        {
          "output_type": "stream",
          "text": [
            "Waste_Dataset//Images_merged//metal106.jpg\n"
          ],
          "name": "stdout"
        },
        {
          "output_type": "stream",
          "text": [
            "\r 24%|██▍       | 193/800 [01:49<06:15,  1.62it/s]"
          ],
          "name": "stderr"
        },
        {
          "output_type": "stream",
          "text": [
            "Waste_Dataset//Images_merged//metal107.jpg\n"
          ],
          "name": "stdout"
        },
        {
          "output_type": "stream",
          "text": [
            "\r 24%|██▍       | 194/800 [01:50<07:40,  1.32it/s]"
          ],
          "name": "stderr"
        },
        {
          "output_type": "stream",
          "text": [
            "Waste_Dataset//Images_merged//metal108.jpg\n"
          ],
          "name": "stdout"
        },
        {
          "output_type": "stream",
          "text": [
            "\r 24%|██▍       | 195/800 [01:51<06:40,  1.51it/s]"
          ],
          "name": "stderr"
        },
        {
          "output_type": "stream",
          "text": [
            "Waste_Dataset//Images_merged//metal109.jpg\n"
          ],
          "name": "stdout"
        },
        {
          "output_type": "stream",
          "text": [
            "\r 24%|██▍       | 196/800 [01:51<06:59,  1.44it/s]"
          ],
          "name": "stderr"
        },
        {
          "output_type": "stream",
          "text": [
            "Waste_Dataset//Images_merged//metal110.jpg\n"
          ],
          "name": "stdout"
        },
        {
          "output_type": "stream",
          "text": [
            "\r 25%|██▍       | 197/800 [01:52<07:03,  1.42it/s]"
          ],
          "name": "stderr"
        },
        {
          "output_type": "stream",
          "text": [
            "Waste_Dataset//Images_merged//metal111.jpg\n"
          ],
          "name": "stdout"
        },
        {
          "output_type": "stream",
          "text": [
            "\r 25%|██▍       | 198/800 [01:53<06:17,  1.59it/s]"
          ],
          "name": "stderr"
        },
        {
          "output_type": "stream",
          "text": [
            "Waste_Dataset//Images_merged//metal112.jpg\n"
          ],
          "name": "stdout"
        },
        {
          "output_type": "stream",
          "text": [
            "\r 25%|██▍       | 199/800 [01:54<07:16,  1.38it/s]"
          ],
          "name": "stderr"
        },
        {
          "output_type": "stream",
          "text": [
            "Waste_Dataset//Images_merged//metal113.jpg\n"
          ],
          "name": "stdout"
        },
        {
          "output_type": "stream",
          "text": [
            "\r 25%|██▌       | 200/800 [01:54<07:16,  1.37it/s]"
          ],
          "name": "stderr"
        },
        {
          "output_type": "stream",
          "text": [
            "Waste_Dataset//Images_merged//metal114.jpg\n"
          ],
          "name": "stdout"
        },
        {
          "output_type": "stream",
          "text": [
            "\r 25%|██▌       | 201/800 [01:55<06:38,  1.50it/s]"
          ],
          "name": "stderr"
        },
        {
          "output_type": "stream",
          "text": [
            "Waste_Dataset//Images_merged//metal115.jpg\n"
          ],
          "name": "stdout"
        },
        {
          "output_type": "stream",
          "text": [
            "\r 25%|██▌       | 202/800 [01:56<06:47,  1.47it/s]"
          ],
          "name": "stderr"
        },
        {
          "output_type": "stream",
          "text": [
            "Waste_Dataset//Images_merged//metal116.jpg\n"
          ],
          "name": "stdout"
        },
        {
          "output_type": "stream",
          "text": [
            "\r 25%|██▌       | 203/800 [01:56<06:21,  1.56it/s]"
          ],
          "name": "stderr"
        },
        {
          "output_type": "stream",
          "text": [
            "Waste_Dataset//Images_merged//metal117.jpg\n"
          ],
          "name": "stdout"
        },
        {
          "output_type": "stream",
          "text": [
            "\r 26%|██▌       | 204/800 [01:57<06:06,  1.63it/s]"
          ],
          "name": "stderr"
        },
        {
          "output_type": "stream",
          "text": [
            "Waste_Dataset//Images_merged//metal118.jpg\n"
          ],
          "name": "stdout"
        },
        {
          "output_type": "stream",
          "text": [
            "\r 26%|██▌       | 205/800 [01:57<05:43,  1.73it/s]"
          ],
          "name": "stderr"
        },
        {
          "output_type": "stream",
          "text": [
            "Waste_Dataset//Images_merged//metal119.jpg\n"
          ],
          "name": "stdout"
        },
        {
          "output_type": "stream",
          "text": [
            "\r 26%|██▌       | 206/800 [01:58<05:20,  1.85it/s]"
          ],
          "name": "stderr"
        },
        {
          "output_type": "stream",
          "text": [
            "Waste_Dataset//Images_merged//metal120.jpg\n"
          ],
          "name": "stdout"
        },
        {
          "output_type": "stream",
          "text": [
            "\r 26%|██▌       | 207/800 [01:58<05:01,  1.97it/s]"
          ],
          "name": "stderr"
        },
        {
          "output_type": "stream",
          "text": [
            "Waste_Dataset//Images_merged//metal121.jpg\n"
          ],
          "name": "stdout"
        },
        {
          "output_type": "stream",
          "text": [
            "\r 26%|██▌       | 208/800 [01:59<05:33,  1.78it/s]"
          ],
          "name": "stderr"
        },
        {
          "output_type": "stream",
          "text": [
            "Waste_Dataset//Images_merged//metal122.jpg\n"
          ],
          "name": "stdout"
        },
        {
          "output_type": "stream",
          "text": [
            "\r 26%|██▌       | 209/800 [01:59<05:15,  1.87it/s]"
          ],
          "name": "stderr"
        },
        {
          "output_type": "stream",
          "text": [
            "Waste_Dataset//Images_merged//metal123.jpg\n"
          ],
          "name": "stdout"
        },
        {
          "output_type": "stream",
          "text": [
            "\r 26%|██▋       | 210/800 [02:00<05:35,  1.76it/s]"
          ],
          "name": "stderr"
        },
        {
          "output_type": "stream",
          "text": [
            "Waste_Dataset//Images_merged//metal124.jpg\n"
          ],
          "name": "stdout"
        },
        {
          "output_type": "stream",
          "text": [
            "\r 26%|██▋       | 211/800 [02:01<06:09,  1.59it/s]"
          ],
          "name": "stderr"
        },
        {
          "output_type": "stream",
          "text": [
            "Waste_Dataset//Images_merged//metal125.jpg\n"
          ],
          "name": "stdout"
        },
        {
          "output_type": "stream",
          "text": [
            "\r 26%|██▋       | 212/800 [02:01<05:35,  1.75it/s]"
          ],
          "name": "stderr"
        },
        {
          "output_type": "stream",
          "text": [
            "Waste_Dataset//Images_merged//metal126.jpg\n"
          ],
          "name": "stdout"
        },
        {
          "output_type": "stream",
          "text": [
            "\r 27%|██▋       | 213/800 [02:02<05:26,  1.80it/s]"
          ],
          "name": "stderr"
        },
        {
          "output_type": "stream",
          "text": [
            "Waste_Dataset//Images_merged//metal127.jpg\n"
          ],
          "name": "stdout"
        },
        {
          "output_type": "stream",
          "text": [
            "\r 27%|██▋       | 214/800 [02:02<05:06,  1.91it/s]"
          ],
          "name": "stderr"
        },
        {
          "output_type": "stream",
          "text": [
            "Waste_Dataset//Images_merged//metal128.jpg\n"
          ],
          "name": "stdout"
        },
        {
          "output_type": "stream",
          "text": [
            "\r 27%|██▋       | 215/800 [02:03<05:54,  1.65it/s]"
          ],
          "name": "stderr"
        },
        {
          "output_type": "stream",
          "text": [
            "Waste_Dataset//Images_merged//metal129.jpg\n"
          ],
          "name": "stdout"
        },
        {
          "output_type": "stream",
          "text": [
            "\r 27%|██▋       | 216/800 [02:03<05:29,  1.77it/s]"
          ],
          "name": "stderr"
        },
        {
          "output_type": "stream",
          "text": [
            "Waste_Dataset//Images_merged//metal130.jpg\n"
          ],
          "name": "stdout"
        },
        {
          "output_type": "stream",
          "text": [
            "\r 27%|██▋       | 217/800 [02:04<05:18,  1.83it/s]"
          ],
          "name": "stderr"
        },
        {
          "output_type": "stream",
          "text": [
            "Waste_Dataset//Images_merged//metal131.jpg\n"
          ],
          "name": "stdout"
        },
        {
          "output_type": "stream",
          "text": [
            "\r 27%|██▋       | 218/800 [02:04<05:02,  1.92it/s]"
          ],
          "name": "stderr"
        },
        {
          "output_type": "stream",
          "text": [
            "Waste_Dataset//Images_merged//metal132.jpg\n"
          ],
          "name": "stdout"
        },
        {
          "output_type": "stream",
          "text": [
            "\r 27%|██▋       | 219/800 [02:05<04:59,  1.94it/s]"
          ],
          "name": "stderr"
        },
        {
          "output_type": "stream",
          "text": [
            "Waste_Dataset//Images_merged//metal133.jpg\n"
          ],
          "name": "stdout"
        },
        {
          "output_type": "stream",
          "text": [
            "\r 28%|██▊       | 220/800 [02:05<04:41,  2.06it/s]"
          ],
          "name": "stderr"
        },
        {
          "output_type": "stream",
          "text": [
            "Waste_Dataset//Images_merged//metal134.jpg\n"
          ],
          "name": "stdout"
        },
        {
          "output_type": "stream",
          "text": [
            "\r 28%|██▊       | 221/800 [02:06<04:47,  2.01it/s]"
          ],
          "name": "stderr"
        },
        {
          "output_type": "stream",
          "text": [
            "Waste_Dataset//Images_merged//metal135.jpg\n"
          ],
          "name": "stdout"
        },
        {
          "output_type": "stream",
          "text": [
            "\r 28%|██▊       | 222/800 [02:06<05:03,  1.90it/s]"
          ],
          "name": "stderr"
        },
        {
          "output_type": "stream",
          "text": [
            "Waste_Dataset//Images_merged//metal136.jpg\n"
          ],
          "name": "stdout"
        },
        {
          "output_type": "stream",
          "text": [
            "\r 28%|██▊       | 223/800 [02:07<05:12,  1.85it/s]"
          ],
          "name": "stderr"
        },
        {
          "output_type": "stream",
          "text": [
            "Waste_Dataset//Images_merged//metal137.jpg\n"
          ],
          "name": "stdout"
        },
        {
          "output_type": "stream",
          "text": [
            "\r 28%|██▊       | 224/800 [02:07<05:10,  1.86it/s]"
          ],
          "name": "stderr"
        },
        {
          "output_type": "stream",
          "text": [
            "Waste_Dataset//Images_merged//metal138.jpg\n"
          ],
          "name": "stdout"
        },
        {
          "output_type": "stream",
          "text": [
            "\r 28%|██▊       | 225/800 [02:08<04:52,  1.97it/s]"
          ],
          "name": "stderr"
        },
        {
          "output_type": "stream",
          "text": [
            "Waste_Dataset//Images_merged//metal139.jpg\n"
          ],
          "name": "stdout"
        },
        {
          "output_type": "stream",
          "text": [
            "\r 28%|██▊       | 226/800 [02:08<04:48,  1.99it/s]"
          ],
          "name": "stderr"
        },
        {
          "output_type": "stream",
          "text": [
            "Waste_Dataset//Images_merged//metal140.jpg\n"
          ],
          "name": "stdout"
        },
        {
          "output_type": "stream",
          "text": [
            "\r 28%|██▊       | 227/800 [02:09<04:41,  2.03it/s]"
          ],
          "name": "stderr"
        },
        {
          "output_type": "stream",
          "text": [
            "Waste_Dataset//Images_merged//metal141.jpg\n"
          ],
          "name": "stdout"
        },
        {
          "output_type": "stream",
          "text": [
            "\r 28%|██▊       | 228/800 [02:10<05:26,  1.75it/s]"
          ],
          "name": "stderr"
        },
        {
          "output_type": "stream",
          "text": [
            "Waste_Dataset//Images_merged//metal142.jpg\n"
          ],
          "name": "stdout"
        },
        {
          "output_type": "stream",
          "text": [
            "\r 29%|██▊       | 229/800 [02:10<05:45,  1.65it/s]"
          ],
          "name": "stderr"
        },
        {
          "output_type": "stream",
          "text": [
            "Waste_Dataset//Images_merged//metal143.jpg\n"
          ],
          "name": "stdout"
        },
        {
          "output_type": "stream",
          "text": [
            "\r 29%|██▉       | 230/800 [02:11<05:21,  1.78it/s]"
          ],
          "name": "stderr"
        },
        {
          "output_type": "stream",
          "text": [
            "Waste_Dataset//Images_merged//metal144.jpg\n"
          ],
          "name": "stdout"
        },
        {
          "output_type": "stream",
          "text": [
            "\r 29%|██▉       | 231/800 [02:11<05:10,  1.83it/s]"
          ],
          "name": "stderr"
        },
        {
          "output_type": "stream",
          "text": [
            "Waste_Dataset//Images_merged//metal145.jpg\n"
          ],
          "name": "stdout"
        },
        {
          "output_type": "stream",
          "text": [
            "\r 29%|██▉       | 232/800 [02:12<04:52,  1.94it/s]"
          ],
          "name": "stderr"
        },
        {
          "output_type": "stream",
          "text": [
            "Waste_Dataset//Images_merged//metal146.jpg\n"
          ],
          "name": "stdout"
        },
        {
          "output_type": "stream",
          "text": [
            "\r 29%|██▉       | 233/800 [02:12<05:08,  1.84it/s]"
          ],
          "name": "stderr"
        },
        {
          "output_type": "stream",
          "text": [
            "Waste_Dataset//Images_merged//metal147.jpg\n"
          ],
          "name": "stdout"
        },
        {
          "output_type": "stream",
          "text": [
            "\r 29%|██▉       | 234/800 [02:13<04:56,  1.91it/s]"
          ],
          "name": "stderr"
        },
        {
          "output_type": "stream",
          "text": [
            "Waste_Dataset//Images_merged//metal148.jpg\n"
          ],
          "name": "stdout"
        },
        {
          "output_type": "stream",
          "text": [
            "\r 29%|██▉       | 235/800 [02:14<05:35,  1.68it/s]"
          ],
          "name": "stderr"
        },
        {
          "output_type": "stream",
          "text": [
            "Waste_Dataset//Images_merged//metal149.jpg\n"
          ],
          "name": "stdout"
        },
        {
          "output_type": "stream",
          "text": [
            "\r 30%|██▉       | 236/800 [02:14<05:14,  1.79it/s]"
          ],
          "name": "stderr"
        },
        {
          "output_type": "stream",
          "text": [
            "Waste_Dataset//Images_merged//metal150.jpg\n"
          ],
          "name": "stdout"
        },
        {
          "output_type": "stream",
          "text": [
            "\r 30%|██▉       | 237/800 [02:14<04:54,  1.91it/s]"
          ],
          "name": "stderr"
        },
        {
          "output_type": "stream",
          "text": [
            "Waste_Dataset//Images_merged//metal151.jpg\n"
          ],
          "name": "stdout"
        },
        {
          "output_type": "stream",
          "text": [
            "\r 30%|██▉       | 238/800 [02:15<04:48,  1.95it/s]"
          ],
          "name": "stderr"
        },
        {
          "output_type": "stream",
          "text": [
            "Waste_Dataset//Images_merged//metal152.jpg\n"
          ],
          "name": "stdout"
        },
        {
          "output_type": "stream",
          "text": [
            "\r 30%|██▉       | 239/800 [02:16<05:25,  1.72it/s]"
          ],
          "name": "stderr"
        },
        {
          "output_type": "stream",
          "text": [
            "Waste_Dataset//Images_merged//metal153.jpg\n"
          ],
          "name": "stdout"
        },
        {
          "output_type": "stream",
          "text": [
            "\r 30%|███       | 240/800 [02:16<05:00,  1.86it/s]"
          ],
          "name": "stderr"
        },
        {
          "output_type": "stream",
          "text": [
            "Waste_Dataset//Images_merged//metal154.jpg\n"
          ],
          "name": "stdout"
        },
        {
          "output_type": "stream",
          "text": [
            "\r 30%|███       | 241/800 [02:17<05:48,  1.60it/s]"
          ],
          "name": "stderr"
        },
        {
          "output_type": "stream",
          "text": [
            "Waste_Dataset//Images_merged//metal155.jpg\n"
          ],
          "name": "stdout"
        },
        {
          "output_type": "stream",
          "text": [
            "\r 30%|███       | 242/800 [02:17<05:29,  1.70it/s]"
          ],
          "name": "stderr"
        },
        {
          "output_type": "stream",
          "text": [
            "Waste_Dataset//Images_merged//metal156.jpg\n"
          ],
          "name": "stdout"
        },
        {
          "output_type": "stream",
          "text": [
            "\r 30%|███       | 243/800 [02:18<05:11,  1.79it/s]"
          ],
          "name": "stderr"
        },
        {
          "output_type": "stream",
          "text": [
            "Waste_Dataset//Images_merged//metal157.jpg\n"
          ],
          "name": "stdout"
        },
        {
          "output_type": "stream",
          "text": [
            "\r 30%|███       | 244/800 [02:18<05:14,  1.77it/s]"
          ],
          "name": "stderr"
        },
        {
          "output_type": "stream",
          "text": [
            "Waste_Dataset//Images_merged//metal158.jpg\n"
          ],
          "name": "stdout"
        },
        {
          "output_type": "stream",
          "text": [
            "\r 31%|███       | 245/800 [02:19<05:02,  1.83it/s]"
          ],
          "name": "stderr"
        },
        {
          "output_type": "stream",
          "text": [
            "Waste_Dataset//Images_merged//metal159.jpg\n"
          ],
          "name": "stdout"
        },
        {
          "output_type": "stream",
          "text": [
            "\r 31%|███       | 246/800 [02:19<04:49,  1.91it/s]"
          ],
          "name": "stderr"
        },
        {
          "output_type": "stream",
          "text": [
            "Waste_Dataset//Images_merged//metal160.jpg\n"
          ],
          "name": "stdout"
        },
        {
          "output_type": "stream",
          "text": [
            "\r 31%|███       | 247/800 [02:20<05:21,  1.72it/s]"
          ],
          "name": "stderr"
        },
        {
          "output_type": "stream",
          "text": [
            "Waste_Dataset//Images_merged//metal161.jpg\n"
          ],
          "name": "stdout"
        },
        {
          "output_type": "stream",
          "text": [
            "\r 31%|███       | 248/800 [02:21<05:07,  1.80it/s]"
          ],
          "name": "stderr"
        },
        {
          "output_type": "stream",
          "text": [
            "Waste_Dataset//Images_merged//metal162.jpg\n"
          ],
          "name": "stdout"
        },
        {
          "output_type": "stream",
          "text": [
            "\r 31%|███       | 249/800 [02:22<06:22,  1.44it/s]"
          ],
          "name": "stderr"
        },
        {
          "output_type": "stream",
          "text": [
            "Waste_Dataset//Images_merged//metal163.jpg\n"
          ],
          "name": "stdout"
        },
        {
          "output_type": "stream",
          "text": [
            "\r 31%|███▏      | 250/800 [02:22<05:50,  1.57it/s]"
          ],
          "name": "stderr"
        },
        {
          "output_type": "stream",
          "text": [
            "Waste_Dataset//Images_merged//metal164.jpg\n"
          ],
          "name": "stdout"
        },
        {
          "output_type": "stream",
          "text": [
            "\r 31%|███▏      | 251/800 [02:23<05:17,  1.73it/s]"
          ],
          "name": "stderr"
        },
        {
          "output_type": "stream",
          "text": [
            "Waste_Dataset//Images_merged//metal165.jpg\n"
          ],
          "name": "stdout"
        },
        {
          "output_type": "stream",
          "text": [
            "\r 32%|███▏      | 252/800 [02:23<05:35,  1.63it/s]"
          ],
          "name": "stderr"
        },
        {
          "output_type": "stream",
          "text": [
            "Waste_Dataset//Images_merged//metal166.jpg\n"
          ],
          "name": "stdout"
        },
        {
          "output_type": "stream",
          "text": [
            "\r 32%|███▏      | 253/800 [02:24<05:20,  1.71it/s]"
          ],
          "name": "stderr"
        },
        {
          "output_type": "stream",
          "text": [
            "Waste_Dataset//Images_merged//metal167.jpg\n"
          ],
          "name": "stdout"
        },
        {
          "output_type": "stream",
          "text": [
            "\r 32%|███▏      | 254/800 [02:24<04:58,  1.83it/s]"
          ],
          "name": "stderr"
        },
        {
          "output_type": "stream",
          "text": [
            "Waste_Dataset//Images_merged//metal168.jpg\n"
          ],
          "name": "stdout"
        },
        {
          "output_type": "stream",
          "text": [
            "\r 32%|███▏      | 255/800 [02:25<04:58,  1.83it/s]"
          ],
          "name": "stderr"
        },
        {
          "output_type": "stream",
          "text": [
            "Waste_Dataset//Images_merged//metal169.jpg\n"
          ],
          "name": "stdout"
        },
        {
          "output_type": "stream",
          "text": [
            "\r 32%|███▏      | 256/800 [02:26<05:25,  1.67it/s]"
          ],
          "name": "stderr"
        },
        {
          "output_type": "stream",
          "text": [
            "Waste_Dataset//Images_merged//metal170.jpg\n"
          ],
          "name": "stdout"
        },
        {
          "output_type": "stream",
          "text": [
            "\r 32%|███▏      | 257/800 [02:26<05:06,  1.77it/s]"
          ],
          "name": "stderr"
        },
        {
          "output_type": "stream",
          "text": [
            "Waste_Dataset//Images_merged//metal171.jpg\n"
          ],
          "name": "stdout"
        },
        {
          "output_type": "stream",
          "text": [
            "\r 32%|███▏      | 258/800 [02:27<05:09,  1.75it/s]"
          ],
          "name": "stderr"
        },
        {
          "output_type": "stream",
          "text": [
            "Waste_Dataset//Images_merged//metal172.jpg\n"
          ],
          "name": "stdout"
        },
        {
          "output_type": "stream",
          "text": [
            "\r 32%|███▏      | 259/800 [02:27<04:46,  1.89it/s]"
          ],
          "name": "stderr"
        },
        {
          "output_type": "stream",
          "text": [
            "Waste_Dataset//Images_merged//metal173.jpg\n"
          ],
          "name": "stdout"
        },
        {
          "output_type": "stream",
          "text": [
            "\r 32%|███▎      | 260/800 [02:28<04:32,  1.98it/s]"
          ],
          "name": "stderr"
        },
        {
          "output_type": "stream",
          "text": [
            "Waste_Dataset//Images_merged//metal174.jpg\n"
          ],
          "name": "stdout"
        },
        {
          "output_type": "stream",
          "text": [
            "\r 33%|███▎      | 261/800 [02:28<04:49,  1.86it/s]"
          ],
          "name": "stderr"
        },
        {
          "output_type": "stream",
          "text": [
            "Waste_Dataset//Images_merged//metal175.jpg\n"
          ],
          "name": "stdout"
        },
        {
          "output_type": "stream",
          "text": [
            "\r 33%|███▎      | 262/800 [02:29<05:20,  1.68it/s]"
          ],
          "name": "stderr"
        },
        {
          "output_type": "stream",
          "text": [
            "Waste_Dataset//Images_merged//metal176.jpg\n"
          ],
          "name": "stdout"
        },
        {
          "output_type": "stream",
          "text": [
            "\r 33%|███▎      | 263/800 [02:29<04:59,  1.79it/s]"
          ],
          "name": "stderr"
        },
        {
          "output_type": "stream",
          "text": [
            "Waste_Dataset//Images_merged//metal177.jpg\n"
          ],
          "name": "stdout"
        },
        {
          "output_type": "stream",
          "text": [
            "\r 33%|███▎      | 264/800 [02:30<05:04,  1.76it/s]"
          ],
          "name": "stderr"
        },
        {
          "output_type": "stream",
          "text": [
            "Waste_Dataset//Images_merged//metal178.jpg\n"
          ],
          "name": "stdout"
        },
        {
          "output_type": "stream",
          "text": [
            "\r 33%|███▎      | 265/800 [02:30<05:00,  1.78it/s]"
          ],
          "name": "stderr"
        },
        {
          "output_type": "stream",
          "text": [
            "Waste_Dataset//Images_merged//metal179.jpg\n"
          ],
          "name": "stdout"
        },
        {
          "output_type": "stream",
          "text": [
            "\r 33%|███▎      | 266/800 [02:31<04:50,  1.84it/s]"
          ],
          "name": "stderr"
        },
        {
          "output_type": "stream",
          "text": [
            "Waste_Dataset//Images_merged//metal180.jpg\n"
          ],
          "name": "stdout"
        },
        {
          "output_type": "stream",
          "text": [
            "\r 33%|███▎      | 267/800 [02:31<04:36,  1.93it/s]"
          ],
          "name": "stderr"
        },
        {
          "output_type": "stream",
          "text": [
            "Waste_Dataset//Images_merged//plastic1.jpg\n"
          ],
          "name": "stdout"
        },
        {
          "output_type": "stream",
          "text": [
            "\r 34%|███▎      | 268/800 [02:32<04:23,  2.02it/s]"
          ],
          "name": "stderr"
        },
        {
          "output_type": "stream",
          "text": [
            "Waste_Dataset//Images_merged//plastic2.jpg\n"
          ],
          "name": "stdout"
        },
        {
          "output_type": "stream",
          "text": [
            "\r 34%|███▎      | 269/800 [02:32<04:16,  2.07it/s]"
          ],
          "name": "stderr"
        },
        {
          "output_type": "stream",
          "text": [
            "Waste_Dataset//Images_merged//plastic3.jpg\n"
          ],
          "name": "stdout"
        },
        {
          "output_type": "stream",
          "text": [
            "\r 34%|███▍      | 270/800 [02:33<04:17,  2.06it/s]"
          ],
          "name": "stderr"
        },
        {
          "output_type": "stream",
          "text": [
            "Waste_Dataset//Images_merged//plastic4.jpg\n"
          ],
          "name": "stdout"
        },
        {
          "output_type": "stream",
          "text": [
            "\r 34%|███▍      | 271/800 [02:33<04:22,  2.02it/s]"
          ],
          "name": "stderr"
        },
        {
          "output_type": "stream",
          "text": [
            "Waste_Dataset//Images_merged//plastic5.jpg\n"
          ],
          "name": "stdout"
        },
        {
          "output_type": "stream",
          "text": [
            "\r 34%|███▍      | 272/800 [02:34<05:21,  1.64it/s]"
          ],
          "name": "stderr"
        },
        {
          "output_type": "stream",
          "text": [
            "Waste_Dataset//Images_merged//plastic6.jpg\n"
          ],
          "name": "stdout"
        },
        {
          "output_type": "stream",
          "text": [
            "\r 34%|███▍      | 273/800 [02:35<05:44,  1.53it/s]"
          ],
          "name": "stderr"
        },
        {
          "output_type": "stream",
          "text": [
            "Waste_Dataset//Images_merged//plastic7.jpg\n"
          ],
          "name": "stdout"
        },
        {
          "output_type": "stream",
          "text": [
            "\r 34%|███▍      | 274/800 [02:35<05:09,  1.70it/s]"
          ],
          "name": "stderr"
        },
        {
          "output_type": "stream",
          "text": [
            "Waste_Dataset//Images_merged//plastic8.jpg\n"
          ],
          "name": "stdout"
        },
        {
          "output_type": "stream",
          "text": [
            "\r 34%|███▍      | 275/800 [02:36<04:47,  1.82it/s]"
          ],
          "name": "stderr"
        },
        {
          "output_type": "stream",
          "text": [
            "Waste_Dataset//Images_merged//plastic9.jpg\n"
          ],
          "name": "stdout"
        },
        {
          "output_type": "stream",
          "text": [
            "\r 34%|███▍      | 276/800 [02:37<05:14,  1.67it/s]"
          ],
          "name": "stderr"
        },
        {
          "output_type": "stream",
          "text": [
            "Waste_Dataset//Images_merged//plastic10.jpg\n"
          ],
          "name": "stdout"
        },
        {
          "output_type": "stream",
          "text": [
            "\r 35%|███▍      | 277/800 [02:37<04:54,  1.77it/s]"
          ],
          "name": "stderr"
        },
        {
          "output_type": "stream",
          "text": [
            "Waste_Dataset//Images_merged//plastic11.jpg\n"
          ],
          "name": "stdout"
        },
        {
          "output_type": "stream",
          "text": [
            "\r 35%|███▍      | 278/800 [02:38<04:46,  1.82it/s]"
          ],
          "name": "stderr"
        },
        {
          "output_type": "stream",
          "text": [
            "Waste_Dataset//Images_merged//plastic12.jpg\n"
          ],
          "name": "stdout"
        },
        {
          "output_type": "stream",
          "text": [
            "\r 35%|███▍      | 279/800 [02:38<04:44,  1.83it/s]"
          ],
          "name": "stderr"
        },
        {
          "output_type": "stream",
          "text": [
            "Waste_Dataset//Images_merged//plastic13.jpg\n"
          ],
          "name": "stdout"
        },
        {
          "output_type": "stream",
          "text": [
            "\r 35%|███▌      | 280/800 [02:39<04:36,  1.88it/s]"
          ],
          "name": "stderr"
        },
        {
          "output_type": "stream",
          "text": [
            "Waste_Dataset//Images_merged//plastic14.jpg\n"
          ],
          "name": "stdout"
        },
        {
          "output_type": "stream",
          "text": [
            "\r 35%|███▌      | 281/800 [02:39<04:28,  1.93it/s]"
          ],
          "name": "stderr"
        },
        {
          "output_type": "stream",
          "text": [
            "Waste_Dataset//Images_merged//plastic15.jpg\n"
          ],
          "name": "stdout"
        },
        {
          "output_type": "stream",
          "text": [
            "\r 35%|███▌      | 282/800 [02:40<04:17,  2.01it/s]"
          ],
          "name": "stderr"
        },
        {
          "output_type": "stream",
          "text": [
            "Waste_Dataset//Images_merged//plastic16.jpg\n"
          ],
          "name": "stdout"
        },
        {
          "output_type": "stream",
          "text": [
            "\r 35%|███▌      | 283/800 [02:40<04:11,  2.06it/s]"
          ],
          "name": "stderr"
        },
        {
          "output_type": "stream",
          "text": [
            "Waste_Dataset//Images_merged//plastic17.jpg\n"
          ],
          "name": "stdout"
        },
        {
          "output_type": "stream",
          "text": [
            "\r 36%|███▌      | 284/800 [02:41<04:14,  2.03it/s]"
          ],
          "name": "stderr"
        },
        {
          "output_type": "stream",
          "text": [
            "Waste_Dataset//Images_merged//plastic18.jpg\n"
          ],
          "name": "stdout"
        },
        {
          "output_type": "stream",
          "text": [
            "\r 36%|███▌      | 285/800 [02:41<04:15,  2.01it/s]"
          ],
          "name": "stderr"
        },
        {
          "output_type": "stream",
          "text": [
            "Waste_Dataset//Images_merged//plastic19.jpg\n"
          ],
          "name": "stdout"
        },
        {
          "output_type": "stream",
          "text": [
            "\r 36%|███▌      | 286/800 [02:42<04:16,  2.00it/s]"
          ],
          "name": "stderr"
        },
        {
          "output_type": "stream",
          "text": [
            "Waste_Dataset//Images_merged//plastic20.jpg\n"
          ],
          "name": "stdout"
        },
        {
          "output_type": "stream",
          "text": [
            "\r 36%|███▌      | 287/800 [02:42<04:07,  2.07it/s]"
          ],
          "name": "stderr"
        },
        {
          "output_type": "stream",
          "text": [
            "Waste_Dataset//Images_merged//plastic21.jpg\n"
          ],
          "name": "stdout"
        },
        {
          "output_type": "stream",
          "text": [
            "\r 36%|███▌      | 288/800 [02:43<04:27,  1.91it/s]"
          ],
          "name": "stderr"
        },
        {
          "output_type": "stream",
          "text": [
            "Waste_Dataset//Images_merged//plastic22.jpg\n"
          ],
          "name": "stdout"
        },
        {
          "output_type": "stream",
          "text": [
            "\r 36%|███▌      | 289/800 [02:43<04:15,  2.00it/s]"
          ],
          "name": "stderr"
        },
        {
          "output_type": "stream",
          "text": [
            "Waste_Dataset//Images_merged//plastic23.jpg\n"
          ],
          "name": "stdout"
        },
        {
          "output_type": "stream",
          "text": [
            "\r 36%|███▋      | 290/800 [02:44<04:15,  2.00it/s]"
          ],
          "name": "stderr"
        },
        {
          "output_type": "stream",
          "text": [
            "Waste_Dataset//Images_merged//plastic24.jpg\n"
          ],
          "name": "stdout"
        },
        {
          "output_type": "stream",
          "text": [
            "\r 36%|███▋      | 291/800 [02:44<04:05,  2.07it/s]"
          ],
          "name": "stderr"
        },
        {
          "output_type": "stream",
          "text": [
            "Waste_Dataset//Images_merged//plastic25.jpg\n"
          ],
          "name": "stdout"
        },
        {
          "output_type": "stream",
          "text": [
            "\r 36%|███▋      | 292/800 [02:44<04:01,  2.10it/s]"
          ],
          "name": "stderr"
        },
        {
          "output_type": "stream",
          "text": [
            "Waste_Dataset//Images_merged//plastic26.jpg\n"
          ],
          "name": "stdout"
        },
        {
          "output_type": "stream",
          "text": [
            "\r 37%|███▋      | 293/800 [02:45<04:02,  2.09it/s]"
          ],
          "name": "stderr"
        },
        {
          "output_type": "stream",
          "text": [
            "Waste_Dataset//Images_merged//plastic27.jpg\n"
          ],
          "name": "stdout"
        },
        {
          "output_type": "stream",
          "text": [
            "\r 37%|███▋      | 294/800 [02:45<03:55,  2.15it/s]"
          ],
          "name": "stderr"
        },
        {
          "output_type": "stream",
          "text": [
            "Waste_Dataset//Images_merged//plastic28.jpg\n"
          ],
          "name": "stdout"
        },
        {
          "output_type": "stream",
          "text": [
            "\r 37%|███▋      | 295/800 [02:46<03:50,  2.19it/s]"
          ],
          "name": "stderr"
        },
        {
          "output_type": "stream",
          "text": [
            "Waste_Dataset//Images_merged//plastic29.jpg\n"
          ],
          "name": "stdout"
        },
        {
          "output_type": "stream",
          "text": [
            "\r 37%|███▋      | 296/800 [02:46<03:53,  2.16it/s]"
          ],
          "name": "stderr"
        },
        {
          "output_type": "stream",
          "text": [
            "Waste_Dataset//Images_merged//plastic30.jpg\n"
          ],
          "name": "stdout"
        },
        {
          "output_type": "stream",
          "text": [
            "\r 37%|███▋      | 297/800 [02:47<03:48,  2.20it/s]"
          ],
          "name": "stderr"
        },
        {
          "output_type": "stream",
          "text": [
            "Waste_Dataset//Images_merged//plastic31.jpg\n"
          ],
          "name": "stdout"
        },
        {
          "output_type": "stream",
          "text": [
            "\r 37%|███▋      | 298/800 [02:47<03:44,  2.24it/s]"
          ],
          "name": "stderr"
        },
        {
          "output_type": "stream",
          "text": [
            "Waste_Dataset//Images_merged//plastic32.jpg\n"
          ],
          "name": "stdout"
        },
        {
          "output_type": "stream",
          "text": [
            "\r 37%|███▋      | 299/800 [02:48<04:10,  2.00it/s]"
          ],
          "name": "stderr"
        },
        {
          "output_type": "stream",
          "text": [
            "Waste_Dataset//Images_merged//plastic33.jpg\n"
          ],
          "name": "stdout"
        },
        {
          "output_type": "stream",
          "text": [
            "\r 38%|███▊      | 300/800 [02:48<04:07,  2.02it/s]"
          ],
          "name": "stderr"
        },
        {
          "output_type": "stream",
          "text": [
            "Waste_Dataset//Images_merged//plastic34.jpg\n"
          ],
          "name": "stdout"
        },
        {
          "output_type": "stream",
          "text": [
            "\r 38%|███▊      | 301/800 [02:49<03:58,  2.09it/s]"
          ],
          "name": "stderr"
        },
        {
          "output_type": "stream",
          "text": [
            "Waste_Dataset//Images_merged//plastic35.jpg\n"
          ],
          "name": "stdout"
        },
        {
          "output_type": "stream",
          "text": [
            "\r 38%|███▊      | 302/800 [02:49<03:57,  2.10it/s]"
          ],
          "name": "stderr"
        },
        {
          "output_type": "stream",
          "text": [
            "Waste_Dataset//Images_merged//plastic36.jpg\n"
          ],
          "name": "stdout"
        },
        {
          "output_type": "stream",
          "text": [
            "\r 38%|███▊      | 303/800 [02:50<04:41,  1.76it/s]"
          ],
          "name": "stderr"
        },
        {
          "output_type": "stream",
          "text": [
            "Waste_Dataset//Images_merged//plastic37.jpg\n"
          ],
          "name": "stdout"
        },
        {
          "output_type": "stream",
          "text": [
            "\r 38%|███▊      | 304/800 [02:51<05:23,  1.53it/s]"
          ],
          "name": "stderr"
        },
        {
          "output_type": "stream",
          "text": [
            "Waste_Dataset//Images_merged//plastic38.jpg\n"
          ],
          "name": "stdout"
        },
        {
          "output_type": "stream",
          "text": [
            "\r 38%|███▊      | 305/800 [02:51<05:04,  1.62it/s]"
          ],
          "name": "stderr"
        },
        {
          "output_type": "stream",
          "text": [
            "Waste_Dataset//Images_merged//plastic39.jpg\n"
          ],
          "name": "stdout"
        },
        {
          "output_type": "stream",
          "text": [
            "\r 38%|███▊      | 306/800 [02:52<04:44,  1.74it/s]"
          ],
          "name": "stderr"
        },
        {
          "output_type": "stream",
          "text": [
            "Waste_Dataset//Images_merged//plastic40.jpg\n"
          ],
          "name": "stdout"
        },
        {
          "output_type": "stream",
          "text": [
            "\r 38%|███▊      | 307/800 [02:52<04:37,  1.78it/s]"
          ],
          "name": "stderr"
        },
        {
          "output_type": "stream",
          "text": [
            "Waste_Dataset//Images_merged//plastic41.jpg\n"
          ],
          "name": "stdout"
        },
        {
          "output_type": "stream",
          "text": [
            "\r 38%|███▊      | 308/800 [02:53<04:24,  1.86it/s]"
          ],
          "name": "stderr"
        },
        {
          "output_type": "stream",
          "text": [
            "Waste_Dataset//Images_merged//plastic42.jpg\n"
          ],
          "name": "stdout"
        },
        {
          "output_type": "stream",
          "text": [
            "\r 39%|███▊      | 309/800 [02:53<04:14,  1.93it/s]"
          ],
          "name": "stderr"
        },
        {
          "output_type": "stream",
          "text": [
            "Waste_Dataset//Images_merged//plastic43.jpg\n"
          ],
          "name": "stdout"
        },
        {
          "output_type": "stream",
          "text": [
            "\r 39%|███▉      | 310/800 [02:54<04:04,  2.00it/s]"
          ],
          "name": "stderr"
        },
        {
          "output_type": "stream",
          "text": [
            "Waste_Dataset//Images_merged//plastic44.jpg\n"
          ],
          "name": "stdout"
        },
        {
          "output_type": "stream",
          "text": [
            "\r 39%|███▉      | 311/800 [02:54<03:50,  2.12it/s]"
          ],
          "name": "stderr"
        },
        {
          "output_type": "stream",
          "text": [
            "Waste_Dataset//Images_merged//plastic45.jpg\n"
          ],
          "name": "stdout"
        },
        {
          "output_type": "stream",
          "text": [
            "\r 39%|███▉      | 312/800 [02:55<03:43,  2.19it/s]"
          ],
          "name": "stderr"
        },
        {
          "output_type": "stream",
          "text": [
            "Waste_Dataset//Images_merged//plastic46.jpg\n"
          ],
          "name": "stdout"
        },
        {
          "output_type": "stream",
          "text": [
            "\r 39%|███▉      | 313/800 [02:55<03:41,  2.20it/s]"
          ],
          "name": "stderr"
        },
        {
          "output_type": "stream",
          "text": [
            "Waste_Dataset//Images_merged//plastic47.jpg\n"
          ],
          "name": "stdout"
        },
        {
          "output_type": "stream",
          "text": [
            "\r 39%|███▉      | 314/800 [02:56<03:48,  2.12it/s]"
          ],
          "name": "stderr"
        },
        {
          "output_type": "stream",
          "text": [
            "Waste_Dataset//Images_merged//plastic48.jpg\n"
          ],
          "name": "stdout"
        },
        {
          "output_type": "stream",
          "text": [
            "\r 39%|███▉      | 315/800 [02:56<03:48,  2.12it/s]"
          ],
          "name": "stderr"
        },
        {
          "output_type": "stream",
          "text": [
            "Waste_Dataset//Images_merged//plastic49.jpg\n"
          ],
          "name": "stdout"
        },
        {
          "output_type": "stream",
          "text": [
            "\r 40%|███▉      | 316/800 [02:56<03:45,  2.15it/s]"
          ],
          "name": "stderr"
        },
        {
          "output_type": "stream",
          "text": [
            "Waste_Dataset//Images_merged//plastic50.jpg\n"
          ],
          "name": "stdout"
        },
        {
          "output_type": "stream",
          "text": [
            "\r 40%|███▉      | 317/800 [02:57<04:24,  1.82it/s]"
          ],
          "name": "stderr"
        },
        {
          "output_type": "stream",
          "text": [
            "Waste_Dataset//Images_merged//plastic51.jpg\n"
          ],
          "name": "stdout"
        },
        {
          "output_type": "stream",
          "text": [
            "\r 40%|███▉      | 318/800 [02:58<04:52,  1.65it/s]"
          ],
          "name": "stderr"
        },
        {
          "output_type": "stream",
          "text": [
            "Waste_Dataset//Images_merged//plastic52.jpg\n"
          ],
          "name": "stdout"
        },
        {
          "output_type": "stream",
          "text": [
            "\r 40%|███▉      | 319/800 [02:58<04:32,  1.77it/s]"
          ],
          "name": "stderr"
        },
        {
          "output_type": "stream",
          "text": [
            "Waste_Dataset//Images_merged//plastic53.jpg\n"
          ],
          "name": "stdout"
        },
        {
          "output_type": "stream",
          "text": [
            "\r 40%|████      | 320/800 [02:59<04:13,  1.89it/s]"
          ],
          "name": "stderr"
        },
        {
          "output_type": "stream",
          "text": [
            "Waste_Dataset//Images_merged//plastic54.jpg\n"
          ],
          "name": "stdout"
        },
        {
          "output_type": "stream",
          "text": [
            "\r 40%|████      | 321/800 [03:00<04:34,  1.75it/s]"
          ],
          "name": "stderr"
        },
        {
          "output_type": "stream",
          "text": [
            "Waste_Dataset//Images_merged//plastic55.jpg\n"
          ],
          "name": "stdout"
        },
        {
          "output_type": "stream",
          "text": [
            "\r 40%|████      | 322/800 [03:00<04:17,  1.85it/s]"
          ],
          "name": "stderr"
        },
        {
          "output_type": "stream",
          "text": [
            "Waste_Dataset//Images_merged//plastic56.jpg\n"
          ],
          "name": "stdout"
        },
        {
          "output_type": "stream",
          "text": [
            "\r 40%|████      | 323/800 [03:01<04:16,  1.86it/s]"
          ],
          "name": "stderr"
        },
        {
          "output_type": "stream",
          "text": [
            "Waste_Dataset//Images_merged//plastic57.jpg\n"
          ],
          "name": "stdout"
        },
        {
          "output_type": "stream",
          "text": [
            "\r 40%|████      | 324/800 [03:01<04:02,  1.96it/s]"
          ],
          "name": "stderr"
        },
        {
          "output_type": "stream",
          "text": [
            "Waste_Dataset//Images_merged//plastic58.jpg\n"
          ],
          "name": "stdout"
        },
        {
          "output_type": "stream",
          "text": [
            "\r 41%|████      | 325/800 [03:01<04:03,  1.95it/s]"
          ],
          "name": "stderr"
        },
        {
          "output_type": "stream",
          "text": [
            "Waste_Dataset//Images_merged//plastic59.jpg\n"
          ],
          "name": "stdout"
        },
        {
          "output_type": "stream",
          "text": [
            "\r 41%|████      | 326/800 [03:02<03:57,  1.99it/s]"
          ],
          "name": "stderr"
        },
        {
          "output_type": "stream",
          "text": [
            "Waste_Dataset//Images_merged//plastic60.jpg\n"
          ],
          "name": "stdout"
        },
        {
          "output_type": "stream",
          "text": [
            "\r 41%|████      | 327/800 [03:02<03:50,  2.05it/s]"
          ],
          "name": "stderr"
        },
        {
          "output_type": "stream",
          "text": [
            "Waste_Dataset//Images_merged//plastic61.jpg\n"
          ],
          "name": "stdout"
        },
        {
          "output_type": "stream",
          "text": [
            "\r 41%|████      | 328/800 [03:03<04:08,  1.90it/s]"
          ],
          "name": "stderr"
        },
        {
          "output_type": "stream",
          "text": [
            "Waste_Dataset//Images_merged//plastic62.jpg\n"
          ],
          "name": "stdout"
        },
        {
          "output_type": "stream",
          "text": [
            "\r 41%|████      | 329/800 [03:04<04:22,  1.80it/s]"
          ],
          "name": "stderr"
        },
        {
          "output_type": "stream",
          "text": [
            "Waste_Dataset//Images_merged//plastic63.jpg\n"
          ],
          "name": "stdout"
        },
        {
          "output_type": "stream",
          "text": [
            "\r 41%|████▏     | 330/800 [03:04<04:07,  1.90it/s]"
          ],
          "name": "stderr"
        },
        {
          "output_type": "stream",
          "text": [
            "Waste_Dataset//Images_merged//plastic64.jpg\n"
          ],
          "name": "stdout"
        },
        {
          "output_type": "stream",
          "text": [
            "\r 41%|████▏     | 331/800 [03:05<04:04,  1.92it/s]"
          ],
          "name": "stderr"
        },
        {
          "output_type": "stream",
          "text": [
            "Waste_Dataset//Images_merged//plastic65.jpg\n"
          ],
          "name": "stdout"
        },
        {
          "output_type": "stream",
          "text": [
            "\r 42%|████▏     | 332/800 [03:05<03:57,  1.97it/s]"
          ],
          "name": "stderr"
        },
        {
          "output_type": "stream",
          "text": [
            "Waste_Dataset//Images_merged//plastic66.jpg\n"
          ],
          "name": "stdout"
        },
        {
          "output_type": "stream",
          "text": [
            "\r 42%|████▏     | 333/800 [03:06<03:48,  2.05it/s]"
          ],
          "name": "stderr"
        },
        {
          "output_type": "stream",
          "text": [
            "Waste_Dataset//Images_merged//plastic67.jpg\n"
          ],
          "name": "stdout"
        },
        {
          "output_type": "stream",
          "text": [
            "\r 42%|████▏     | 334/800 [03:06<03:39,  2.13it/s]"
          ],
          "name": "stderr"
        },
        {
          "output_type": "stream",
          "text": [
            "Waste_Dataset//Images_merged//plastic68.jpg\n"
          ],
          "name": "stdout"
        },
        {
          "output_type": "stream",
          "text": [
            "\r 42%|████▏     | 335/800 [03:06<03:41,  2.10it/s]"
          ],
          "name": "stderr"
        },
        {
          "output_type": "stream",
          "text": [
            "Waste_Dataset//Images_merged//plastic69.jpg\n"
          ],
          "name": "stdout"
        },
        {
          "output_type": "stream",
          "text": [
            "\r 42%|████▏     | 336/800 [03:08<06:26,  1.20it/s]"
          ],
          "name": "stderr"
        },
        {
          "output_type": "stream",
          "text": [
            "Waste_Dataset//Images_merged//plastic70.jpg\n"
          ],
          "name": "stdout"
        },
        {
          "output_type": "stream",
          "text": [
            "\r 42%|████▏     | 337/800 [03:09<05:54,  1.31it/s]"
          ],
          "name": "stderr"
        },
        {
          "output_type": "stream",
          "text": [
            "Waste_Dataset//Images_merged//plastic71.jpg\n"
          ],
          "name": "stdout"
        },
        {
          "output_type": "stream",
          "text": [
            "\r 42%|████▏     | 338/800 [03:10<06:07,  1.26it/s]"
          ],
          "name": "stderr"
        },
        {
          "output_type": "stream",
          "text": [
            "Waste_Dataset//Images_merged//plastic72.jpg\n"
          ],
          "name": "stdout"
        },
        {
          "output_type": "stream",
          "text": [
            "\r 42%|████▏     | 339/800 [03:10<05:19,  1.44it/s]"
          ],
          "name": "stderr"
        },
        {
          "output_type": "stream",
          "text": [
            "Waste_Dataset//Images_merged//plastic73.jpg\n"
          ],
          "name": "stdout"
        },
        {
          "output_type": "stream",
          "text": [
            "\r 42%|████▎     | 340/800 [03:11<05:08,  1.49it/s]"
          ],
          "name": "stderr"
        },
        {
          "output_type": "stream",
          "text": [
            "Waste_Dataset//Images_merged//plastic74.jpg\n"
          ],
          "name": "stdout"
        },
        {
          "output_type": "stream",
          "text": [
            "\r 43%|████▎     | 341/800 [03:11<05:06,  1.50it/s]"
          ],
          "name": "stderr"
        },
        {
          "output_type": "stream",
          "text": [
            "Waste_Dataset//Images_merged//plastic75.jpg\n"
          ],
          "name": "stdout"
        },
        {
          "output_type": "stream",
          "text": [
            "\r 43%|████▎     | 342/800 [03:12<04:34,  1.67it/s]"
          ],
          "name": "stderr"
        },
        {
          "output_type": "stream",
          "text": [
            "Waste_Dataset//Images_merged//plastic76.jpg\n"
          ],
          "name": "stdout"
        },
        {
          "output_type": "stream",
          "text": [
            "\r 43%|████▎     | 343/800 [03:12<04:12,  1.81it/s]"
          ],
          "name": "stderr"
        },
        {
          "output_type": "stream",
          "text": [
            "Waste_Dataset//Images_merged//plastic77.jpg\n"
          ],
          "name": "stdout"
        },
        {
          "output_type": "stream",
          "text": [
            "\r 43%|████▎     | 344/800 [03:13<03:56,  1.93it/s]"
          ],
          "name": "stderr"
        },
        {
          "output_type": "stream",
          "text": [
            "Waste_Dataset//Images_merged//plastic78.jpg\n"
          ],
          "name": "stdout"
        },
        {
          "output_type": "stream",
          "text": [
            "\r 43%|████▎     | 345/800 [03:13<03:45,  2.02it/s]"
          ],
          "name": "stderr"
        },
        {
          "output_type": "stream",
          "text": [
            "Waste_Dataset//Images_merged//plastic79.jpg\n"
          ],
          "name": "stdout"
        },
        {
          "output_type": "stream",
          "text": [
            "\r 43%|████▎     | 346/800 [03:14<03:44,  2.02it/s]"
          ],
          "name": "stderr"
        },
        {
          "output_type": "stream",
          "text": [
            "Waste_Dataset//Images_merged//plastic80.jpg\n"
          ],
          "name": "stdout"
        },
        {
          "output_type": "stream",
          "text": [
            "\r 43%|████▎     | 347/800 [03:14<04:21,  1.74it/s]"
          ],
          "name": "stderr"
        },
        {
          "output_type": "stream",
          "text": [
            "Waste_Dataset//Images_merged//plastic81.jpg\n"
          ],
          "name": "stdout"
        },
        {
          "output_type": "stream",
          "text": [
            "\r 44%|████▎     | 348/800 [03:15<04:05,  1.84it/s]"
          ],
          "name": "stderr"
        },
        {
          "output_type": "stream",
          "text": [
            "Waste_Dataset//Images_merged//plastic82.jpg\n"
          ],
          "name": "stdout"
        },
        {
          "output_type": "stream",
          "text": [
            "\r 44%|████▎     | 349/800 [03:15<03:51,  1.95it/s]"
          ],
          "name": "stderr"
        },
        {
          "output_type": "stream",
          "text": [
            "Waste_Dataset//Images_merged//plastic83.jpg\n"
          ],
          "name": "stdout"
        },
        {
          "output_type": "stream",
          "text": [
            "\r 44%|████▍     | 350/800 [03:16<04:25,  1.69it/s]"
          ],
          "name": "stderr"
        },
        {
          "output_type": "stream",
          "text": [
            "Waste_Dataset//Images_merged//plastic84.jpg\n"
          ],
          "name": "stdout"
        },
        {
          "output_type": "stream",
          "text": [
            "\r 44%|████▍     | 351/800 [03:17<04:11,  1.79it/s]"
          ],
          "name": "stderr"
        },
        {
          "output_type": "stream",
          "text": [
            "Waste_Dataset//Images_merged//plastic85.jpg\n"
          ],
          "name": "stdout"
        },
        {
          "output_type": "stream",
          "text": [
            "\r 44%|████▍     | 352/800 [03:17<03:54,  1.91it/s]"
          ],
          "name": "stderr"
        },
        {
          "output_type": "stream",
          "text": [
            "Waste_Dataset//Images_merged//plastic86.jpg\n"
          ],
          "name": "stdout"
        },
        {
          "output_type": "stream",
          "text": [
            "\r 44%|████▍     | 353/800 [03:17<03:51,  1.93it/s]"
          ],
          "name": "stderr"
        },
        {
          "output_type": "stream",
          "text": [
            "Waste_Dataset//Images_merged//plastic87.jpg\n"
          ],
          "name": "stdout"
        },
        {
          "output_type": "stream",
          "text": [
            "\r 44%|████▍     | 354/800 [03:18<03:44,  1.98it/s]"
          ],
          "name": "stderr"
        },
        {
          "output_type": "stream",
          "text": [
            "Waste_Dataset//Images_merged//plastic88.jpg\n"
          ],
          "name": "stdout"
        },
        {
          "output_type": "stream",
          "text": [
            "\r 44%|████▍     | 355/800 [03:18<03:43,  1.99it/s]"
          ],
          "name": "stderr"
        },
        {
          "output_type": "stream",
          "text": [
            "Waste_Dataset//Images_merged//plastic89.jpg\n"
          ],
          "name": "stdout"
        },
        {
          "output_type": "stream",
          "text": [
            "\r 44%|████▍     | 356/800 [03:19<04:16,  1.73it/s]"
          ],
          "name": "stderr"
        },
        {
          "output_type": "stream",
          "text": [
            "Waste_Dataset//Images_merged//plastic90.jpg\n"
          ],
          "name": "stdout"
        },
        {
          "output_type": "stream",
          "text": [
            "\r 45%|████▍     | 357/800 [03:20<04:00,  1.85it/s]"
          ],
          "name": "stderr"
        },
        {
          "output_type": "stream",
          "text": [
            "Waste_Dataset//Images_merged//plastic91.jpg\n"
          ],
          "name": "stdout"
        },
        {
          "output_type": "stream",
          "text": [
            "\r 45%|████▍     | 358/800 [03:20<03:56,  1.87it/s]"
          ],
          "name": "stderr"
        },
        {
          "output_type": "stream",
          "text": [
            "Waste_Dataset//Images_merged//plastic92.jpg\n"
          ],
          "name": "stdout"
        },
        {
          "output_type": "stream",
          "text": [
            "\r 45%|████▍     | 359/800 [03:21<03:49,  1.92it/s]"
          ],
          "name": "stderr"
        },
        {
          "output_type": "stream",
          "text": [
            "Waste_Dataset//Images_merged//plastic93.jpg\n"
          ],
          "name": "stdout"
        },
        {
          "output_type": "stream",
          "text": [
            "\r 45%|████▌     | 360/800 [03:21<03:46,  1.95it/s]"
          ],
          "name": "stderr"
        },
        {
          "output_type": "stream",
          "text": [
            "Waste_Dataset//Images_merged//plastic94.jpg\n"
          ],
          "name": "stdout"
        },
        {
          "output_type": "stream",
          "text": [
            "\r 45%|████▌     | 361/800 [03:22<03:36,  2.02it/s]"
          ],
          "name": "stderr"
        },
        {
          "output_type": "stream",
          "text": [
            "Waste_Dataset//Images_merged//plastic100.jpg\n"
          ],
          "name": "stdout"
        },
        {
          "output_type": "stream",
          "text": [
            "\r 45%|████▌     | 362/800 [03:22<03:30,  2.08it/s]"
          ],
          "name": "stderr"
        },
        {
          "output_type": "stream",
          "text": [
            "Waste_Dataset//Images_merged//plastic101.jpg\n"
          ],
          "name": "stdout"
        },
        {
          "output_type": "stream",
          "text": [
            "\r 45%|████▌     | 363/800 [03:23<03:34,  2.03it/s]"
          ],
          "name": "stderr"
        },
        {
          "output_type": "stream",
          "text": [
            "Waste_Dataset//Images_merged//plastic102.jpg\n"
          ],
          "name": "stdout"
        },
        {
          "output_type": "stream",
          "text": [
            "\r 46%|████▌     | 364/800 [03:23<03:32,  2.05it/s]"
          ],
          "name": "stderr"
        },
        {
          "output_type": "stream",
          "text": [
            "Waste_Dataset//Images_merged//plastic103.jpg\n"
          ],
          "name": "stdout"
        },
        {
          "output_type": "stream",
          "text": [
            "\r 46%|████▌     | 365/800 [03:23<03:26,  2.10it/s]"
          ],
          "name": "stderr"
        },
        {
          "output_type": "stream",
          "text": [
            "Waste_Dataset//Images_merged//plastic104.jpg\n"
          ],
          "name": "stdout"
        },
        {
          "output_type": "stream",
          "text": [
            "\r 46%|████▌     | 366/800 [03:24<03:23,  2.13it/s]"
          ],
          "name": "stderr"
        },
        {
          "output_type": "stream",
          "text": [
            "Waste_Dataset//Images_merged//plastic105.jpg\n"
          ],
          "name": "stdout"
        },
        {
          "output_type": "stream",
          "text": [
            "\r 46%|████▌     | 367/800 [03:25<03:34,  2.02it/s]"
          ],
          "name": "stderr"
        },
        {
          "output_type": "stream",
          "text": [
            "Waste_Dataset//Images_merged//plastic106.jpg\n"
          ],
          "name": "stdout"
        },
        {
          "output_type": "stream",
          "text": [
            "\r 46%|████▌     | 368/800 [03:25<03:27,  2.09it/s]"
          ],
          "name": "stderr"
        },
        {
          "output_type": "stream",
          "text": [
            "Waste_Dataset//Images_merged//plastic107.jpg\n"
          ],
          "name": "stdout"
        },
        {
          "output_type": "stream",
          "text": [
            "\r 46%|████▌     | 369/800 [03:26<04:00,  1.79it/s]"
          ],
          "name": "stderr"
        },
        {
          "output_type": "stream",
          "text": [
            "Waste_Dataset//Images_merged//plastic108.jpg\n"
          ],
          "name": "stdout"
        },
        {
          "output_type": "stream",
          "text": [
            "\r 46%|████▋     | 370/800 [03:26<04:28,  1.60it/s]"
          ],
          "name": "stderr"
        },
        {
          "output_type": "stream",
          "text": [
            "Waste_Dataset//Images_merged//plastic109.jpg\n"
          ],
          "name": "stdout"
        },
        {
          "output_type": "stream",
          "text": [
            "\r 46%|████▋     | 371/800 [03:27<05:03,  1.41it/s]"
          ],
          "name": "stderr"
        },
        {
          "output_type": "stream",
          "text": [
            "Waste_Dataset//Images_merged//plastic110.jpg\n"
          ],
          "name": "stdout"
        },
        {
          "output_type": "stream",
          "text": [
            "\r 46%|████▋     | 372/800 [03:28<05:06,  1.40it/s]"
          ],
          "name": "stderr"
        },
        {
          "output_type": "stream",
          "text": [
            "Waste_Dataset//Images_merged//plastic111.jpg\n"
          ],
          "name": "stdout"
        },
        {
          "output_type": "stream",
          "text": [
            "\r 47%|████▋     | 373/800 [03:29<04:31,  1.57it/s]"
          ],
          "name": "stderr"
        },
        {
          "output_type": "stream",
          "text": [
            "Waste_Dataset//Images_merged//plastic112.jpg\n"
          ],
          "name": "stdout"
        },
        {
          "output_type": "stream",
          "text": [
            "\r 47%|████▋     | 374/800 [03:29<04:11,  1.69it/s]"
          ],
          "name": "stderr"
        },
        {
          "output_type": "stream",
          "text": [
            "Waste_Dataset//Images_merged//plastic113.jpg\n"
          ],
          "name": "stdout"
        },
        {
          "output_type": "stream",
          "text": [
            "\r 47%|████▋     | 375/800 [03:30<04:12,  1.68it/s]"
          ],
          "name": "stderr"
        },
        {
          "output_type": "stream",
          "text": [
            "Waste_Dataset//Images_merged//plastic114.jpg\n"
          ],
          "name": "stdout"
        },
        {
          "output_type": "stream",
          "text": [
            "\r 47%|████▋     | 376/800 [03:30<04:05,  1.73it/s]"
          ],
          "name": "stderr"
        },
        {
          "output_type": "stream",
          "text": [
            "Waste_Dataset//Images_merged//plastic115.jpg\n"
          ],
          "name": "stdout"
        },
        {
          "output_type": "stream",
          "text": [
            "\r 47%|████▋     | 377/800 [03:31<03:49,  1.85it/s]"
          ],
          "name": "stderr"
        },
        {
          "output_type": "stream",
          "text": [
            "Waste_Dataset//Images_merged//plastic116.jpg\n"
          ],
          "name": "stdout"
        },
        {
          "output_type": "stream",
          "text": [
            "\r 47%|████▋     | 378/800 [03:31<03:42,  1.90it/s]"
          ],
          "name": "stderr"
        },
        {
          "output_type": "stream",
          "text": [
            "Waste_Dataset//Images_merged//plastic117.jpg\n"
          ],
          "name": "stdout"
        },
        {
          "output_type": "stream",
          "text": [
            "\r 47%|████▋     | 379/800 [03:32<04:09,  1.68it/s]"
          ],
          "name": "stderr"
        },
        {
          "output_type": "stream",
          "text": [
            "Waste_Dataset//Images_merged//plastic118.jpg\n"
          ],
          "name": "stdout"
        },
        {
          "output_type": "stream",
          "text": [
            "\r 48%|████▊     | 380/800 [03:32<03:50,  1.82it/s]"
          ],
          "name": "stderr"
        },
        {
          "output_type": "stream",
          "text": [
            "Waste_Dataset//Images_merged//plastic119.jpg\n"
          ],
          "name": "stdout"
        },
        {
          "output_type": "stream",
          "text": [
            "\r 48%|████▊     | 381/800 [03:33<03:37,  1.93it/s]"
          ],
          "name": "stderr"
        },
        {
          "output_type": "stream",
          "text": [
            "Waste_Dataset//Images_merged//plastic120.jpg\n"
          ],
          "name": "stdout"
        },
        {
          "output_type": "stream",
          "text": [
            "\r 48%|████▊     | 382/800 [03:33<03:26,  2.03it/s]"
          ],
          "name": "stderr"
        },
        {
          "output_type": "stream",
          "text": [
            "Waste_Dataset//Images_merged//plastic121.jpg\n"
          ],
          "name": "stdout"
        },
        {
          "output_type": "stream",
          "text": [
            "\r 48%|████▊     | 383/800 [03:34<03:21,  2.07it/s]"
          ],
          "name": "stderr"
        },
        {
          "output_type": "stream",
          "text": [
            "Waste_Dataset//Images_merged//plastic122.jpg\n"
          ],
          "name": "stdout"
        },
        {
          "output_type": "stream",
          "text": [
            "\r 48%|████▊     | 384/800 [03:34<03:20,  2.07it/s]"
          ],
          "name": "stderr"
        },
        {
          "output_type": "stream",
          "text": [
            "Waste_Dataset//Images_merged//plastic123.jpg\n"
          ],
          "name": "stdout"
        },
        {
          "output_type": "stream",
          "text": [
            "\r 48%|████▊     | 385/800 [03:35<03:42,  1.87it/s]"
          ],
          "name": "stderr"
        },
        {
          "output_type": "stream",
          "text": [
            "Waste_Dataset//Images_merged//plastic124.jpg\n"
          ],
          "name": "stdout"
        },
        {
          "output_type": "stream",
          "text": [
            "\r 48%|████▊     | 386/800 [03:35<03:31,  1.96it/s]"
          ],
          "name": "stderr"
        },
        {
          "output_type": "stream",
          "text": [
            "Waste_Dataset//Images_merged//plastic125.jpg\n"
          ],
          "name": "stdout"
        },
        {
          "output_type": "stream",
          "text": [
            "\r 48%|████▊     | 387/800 [03:36<03:48,  1.81it/s]"
          ],
          "name": "stderr"
        },
        {
          "output_type": "stream",
          "text": [
            "Waste_Dataset//Images_merged//plastic126.jpg\n"
          ],
          "name": "stdout"
        },
        {
          "output_type": "stream",
          "text": [
            "\r 48%|████▊     | 388/800 [03:37<04:10,  1.64it/s]"
          ],
          "name": "stderr"
        },
        {
          "output_type": "stream",
          "text": [
            "Waste_Dataset//Images_merged//plastic127.jpg\n"
          ],
          "name": "stdout"
        },
        {
          "output_type": "stream",
          "text": [
            "\r 49%|████▊     | 389/800 [03:37<04:21,  1.57it/s]"
          ],
          "name": "stderr"
        },
        {
          "output_type": "stream",
          "text": [
            "Waste_Dataset//Images_merged//plastic128.jpg\n"
          ],
          "name": "stdout"
        },
        {
          "output_type": "stream",
          "text": [
            "\r 49%|████▉     | 390/800 [03:38<03:54,  1.75it/s]"
          ],
          "name": "stderr"
        },
        {
          "output_type": "stream",
          "text": [
            "Waste_Dataset//Images_merged//plastic129.jpg\n"
          ],
          "name": "stdout"
        },
        {
          "output_type": "stream",
          "text": [
            "\r 49%|████▉     | 391/800 [03:38<03:56,  1.73it/s]"
          ],
          "name": "stderr"
        },
        {
          "output_type": "stream",
          "text": [
            "Waste_Dataset//Images_merged//plastic130.jpg\n"
          ],
          "name": "stdout"
        },
        {
          "output_type": "stream",
          "text": [
            "\r 49%|████▉     | 392/800 [03:39<03:56,  1.73it/s]"
          ],
          "name": "stderr"
        },
        {
          "output_type": "stream",
          "text": [
            "Waste_Dataset//Images_merged//plastic131.jpg\n"
          ],
          "name": "stdout"
        },
        {
          "output_type": "stream",
          "text": [
            "\r 49%|████▉     | 393/800 [03:40<04:13,  1.60it/s]"
          ],
          "name": "stderr"
        },
        {
          "output_type": "stream",
          "text": [
            "Waste_Dataset//Images_merged//plastic132.jpg\n"
          ],
          "name": "stdout"
        },
        {
          "output_type": "stream",
          "text": [
            "\r 49%|████▉     | 394/800 [03:40<03:57,  1.71it/s]"
          ],
          "name": "stderr"
        },
        {
          "output_type": "stream",
          "text": [
            "Waste_Dataset//Images_merged//plastic133.jpg\n"
          ],
          "name": "stdout"
        },
        {
          "output_type": "stream",
          "text": [
            "\r 49%|████▉     | 395/800 [03:41<03:42,  1.82it/s]"
          ],
          "name": "stderr"
        },
        {
          "output_type": "stream",
          "text": [
            "Waste_Dataset//Images_merged//plastic134.jpg\n"
          ],
          "name": "stdout"
        },
        {
          "output_type": "stream",
          "text": [
            "\r 50%|████▉     | 396/800 [03:41<03:50,  1.75it/s]"
          ],
          "name": "stderr"
        },
        {
          "output_type": "stream",
          "text": [
            "Waste_Dataset//Images_merged//plastic135.jpg\n"
          ],
          "name": "stdout"
        },
        {
          "output_type": "stream",
          "text": [
            "\r 50%|████▉     | 397/800 [03:42<03:47,  1.77it/s]"
          ],
          "name": "stderr"
        },
        {
          "output_type": "stream",
          "text": [
            "Waste_Dataset//Images_merged//plastic136.jpg\n"
          ],
          "name": "stdout"
        },
        {
          "output_type": "stream",
          "text": [
            "\r 50%|████▉     | 398/800 [03:42<03:34,  1.87it/s]"
          ],
          "name": "stderr"
        },
        {
          "output_type": "stream",
          "text": [
            "Waste_Dataset//Images_merged//plastic137.jpg\n"
          ],
          "name": "stdout"
        },
        {
          "output_type": "stream",
          "text": [
            "\r 50%|████▉     | 399/800 [03:43<04:22,  1.53it/s]"
          ],
          "name": "stderr"
        },
        {
          "output_type": "stream",
          "text": [
            "Waste_Dataset//Images_merged//plastic138.jpg\n"
          ],
          "name": "stdout"
        },
        {
          "output_type": "stream",
          "text": [
            "\r 50%|█████     | 400/800 [03:44<04:48,  1.39it/s]"
          ],
          "name": "stderr"
        },
        {
          "output_type": "stream",
          "text": [
            "Waste_Dataset//Images_merged//plastic139.jpg\n"
          ],
          "name": "stdout"
        },
        {
          "output_type": "stream",
          "text": [
            "\r 50%|█████     | 401/800 [03:45<04:15,  1.56it/s]"
          ],
          "name": "stderr"
        },
        {
          "output_type": "stream",
          "text": [
            "Waste_Dataset//Images_merged//plastic140.jpg\n"
          ],
          "name": "stdout"
        },
        {
          "output_type": "stream",
          "text": [
            "\r 50%|█████     | 402/800 [03:45<04:00,  1.65it/s]"
          ],
          "name": "stderr"
        },
        {
          "output_type": "stream",
          "text": [
            "Waste_Dataset//Images_merged//plastic141.jpg\n"
          ],
          "name": "stdout"
        },
        {
          "output_type": "stream",
          "text": [
            "\r 50%|█████     | 403/800 [03:45<03:40,  1.80it/s]"
          ],
          "name": "stderr"
        },
        {
          "output_type": "stream",
          "text": [
            "Waste_Dataset//Images_merged//plastic142.jpg\n"
          ],
          "name": "stdout"
        },
        {
          "output_type": "stream",
          "text": [
            "\r 50%|█████     | 404/800 [03:46<03:45,  1.76it/s]"
          ],
          "name": "stderr"
        },
        {
          "output_type": "stream",
          "text": [
            "Waste_Dataset//Images_merged//plastic143.jpg\n"
          ],
          "name": "stdout"
        },
        {
          "output_type": "stream",
          "text": [
            "\r 51%|█████     | 405/800 [03:47<04:05,  1.61it/s]"
          ],
          "name": "stderr"
        },
        {
          "output_type": "stream",
          "text": [
            "Waste_Dataset//Images_merged//plastic144.jpg\n"
          ],
          "name": "stdout"
        },
        {
          "output_type": "stream",
          "text": [
            "\r 51%|█████     | 406/800 [03:47<03:47,  1.73it/s]"
          ],
          "name": "stderr"
        },
        {
          "output_type": "stream",
          "text": [
            "Waste_Dataset//Images_merged//plastic145.jpg\n"
          ],
          "name": "stdout"
        },
        {
          "output_type": "stream",
          "text": [
            "\r 51%|█████     | 407/800 [03:48<03:32,  1.85it/s]"
          ],
          "name": "stderr"
        },
        {
          "output_type": "stream",
          "text": [
            "Waste_Dataset//Images_merged//plastic146.jpg\n"
          ],
          "name": "stdout"
        },
        {
          "output_type": "stream",
          "text": [
            "\r 51%|█████     | 408/800 [03:48<03:22,  1.94it/s]"
          ],
          "name": "stderr"
        },
        {
          "output_type": "stream",
          "text": [
            "Waste_Dataset//Images_merged//plastic147.jpg\n"
          ],
          "name": "stdout"
        },
        {
          "output_type": "stream",
          "text": [
            "\r 51%|█████     | 409/800 [03:49<03:46,  1.73it/s]"
          ],
          "name": "stderr"
        },
        {
          "output_type": "stream",
          "text": [
            "Waste_Dataset//Images_merged//plastic148.jpg\n"
          ],
          "name": "stdout"
        },
        {
          "output_type": "stream",
          "text": [
            "\r 51%|█████▏    | 410/800 [03:49<03:31,  1.84it/s]"
          ],
          "name": "stderr"
        },
        {
          "output_type": "stream",
          "text": [
            "Waste_Dataset//Images_merged//plastic149.jpg\n"
          ],
          "name": "stdout"
        },
        {
          "output_type": "stream",
          "text": [
            "\r 51%|█████▏    | 411/800 [03:50<03:39,  1.77it/s]"
          ],
          "name": "stderr"
        },
        {
          "output_type": "stream",
          "text": [
            "Waste_Dataset//Images_merged//plastic150.jpg\n"
          ],
          "name": "stdout"
        },
        {
          "output_type": "stream",
          "text": [
            "\r 52%|█████▏    | 412/800 [03:51<03:58,  1.63it/s]"
          ],
          "name": "stderr"
        },
        {
          "output_type": "stream",
          "text": [
            "Waste_Dataset//Images_merged//plastic151.jpg\n"
          ],
          "name": "stdout"
        },
        {
          "output_type": "stream",
          "text": [
            "\r 52%|█████▏    | 413/800 [03:51<03:38,  1.77it/s]"
          ],
          "name": "stderr"
        },
        {
          "output_type": "stream",
          "text": [
            "Waste_Dataset//Images_merged//plastic152.jpg\n"
          ],
          "name": "stdout"
        },
        {
          "output_type": "stream",
          "text": [
            "\r 52%|█████▏    | 414/800 [03:52<03:35,  1.79it/s]"
          ],
          "name": "stderr"
        },
        {
          "output_type": "stream",
          "text": [
            "Waste_Dataset//Images_merged//plastic153.jpg\n"
          ],
          "name": "stdout"
        },
        {
          "output_type": "stream",
          "text": [
            "\r 52%|█████▏    | 415/800 [03:52<03:28,  1.85it/s]"
          ],
          "name": "stderr"
        },
        {
          "output_type": "stream",
          "text": [
            "Waste_Dataset//Images_merged//plastic154.jpg\n"
          ],
          "name": "stdout"
        },
        {
          "output_type": "stream",
          "text": [
            "\r 52%|█████▏    | 416/800 [03:53<03:13,  1.98it/s]"
          ],
          "name": "stderr"
        },
        {
          "output_type": "stream",
          "text": [
            "Waste_Dataset//Images_merged//plastic155.jpg\n"
          ],
          "name": "stdout"
        },
        {
          "output_type": "stream",
          "text": [
            "\r 52%|█████▏    | 417/800 [03:53<03:49,  1.67it/s]"
          ],
          "name": "stderr"
        },
        {
          "output_type": "stream",
          "text": [
            "Waste_Dataset//Images_merged//plastic156.jpg\n"
          ],
          "name": "stdout"
        },
        {
          "output_type": "stream",
          "text": [
            "\r 52%|█████▏    | 418/800 [03:54<03:32,  1.80it/s]"
          ],
          "name": "stderr"
        },
        {
          "output_type": "stream",
          "text": [
            "Waste_Dataset//Images_merged//plastic157.jpg\n"
          ],
          "name": "stdout"
        },
        {
          "output_type": "stream",
          "text": [
            "\r 52%|█████▏    | 419/800 [03:55<03:35,  1.77it/s]"
          ],
          "name": "stderr"
        },
        {
          "output_type": "stream",
          "text": [
            "Waste_Dataset//Images_merged//O_1.jpg\n"
          ],
          "name": "stdout"
        },
        {
          "output_type": "stream",
          "text": [
            "\r 52%|█████▎    | 420/800 [03:55<03:42,  1.71it/s]"
          ],
          "name": "stderr"
        },
        {
          "output_type": "stream",
          "text": [
            "Waste_Dataset//Images_merged//O_2.jpg\n"
          ],
          "name": "stdout"
        },
        {
          "output_type": "stream",
          "text": [
            "\r 53%|█████▎    | 421/800 [03:56<03:47,  1.67it/s]"
          ],
          "name": "stderr"
        },
        {
          "output_type": "stream",
          "text": [
            "Waste_Dataset//Images_merged//O_3.jpg\n"
          ],
          "name": "stdout"
        },
        {
          "output_type": "stream",
          "text": [
            "\r 53%|█████▎    | 422/800 [03:56<03:30,  1.79it/s]"
          ],
          "name": "stderr"
        },
        {
          "output_type": "stream",
          "text": [
            "Waste_Dataset//Images_merged//O_4.jpg\n"
          ],
          "name": "stdout"
        },
        {
          "output_type": "stream",
          "text": [
            "\r 53%|█████▎    | 423/800 [03:57<03:50,  1.64it/s]"
          ],
          "name": "stderr"
        },
        {
          "output_type": "stream",
          "text": [
            "Waste_Dataset//Images_merged//O_5.jpg\n"
          ],
          "name": "stdout"
        },
        {
          "output_type": "stream",
          "text": [
            "\r 53%|█████▎    | 424/800 [03:58<03:39,  1.71it/s]"
          ],
          "name": "stderr"
        },
        {
          "output_type": "stream",
          "text": [
            "Waste_Dataset//Images_merged//O_6.jpg\n"
          ],
          "name": "stdout"
        },
        {
          "output_type": "stream",
          "text": [
            "\r 53%|█████▎    | 425/800 [03:58<03:23,  1.85it/s]"
          ],
          "name": "stderr"
        },
        {
          "output_type": "stream",
          "text": [
            "Waste_Dataset//Images_merged//O_7.jpg\n"
          ],
          "name": "stdout"
        },
        {
          "output_type": "stream",
          "text": [
            "\r 53%|█████▎    | 426/800 [03:58<03:16,  1.90it/s]"
          ],
          "name": "stderr"
        },
        {
          "output_type": "stream",
          "text": [
            "Waste_Dataset//Images_merged//O_8.jpg\n"
          ],
          "name": "stdout"
        },
        {
          "output_type": "stream",
          "text": [
            "\r 53%|█████▎    | 427/800 [03:59<03:18,  1.88it/s]"
          ],
          "name": "stderr"
        },
        {
          "output_type": "stream",
          "text": [
            "Waste_Dataset//Images_merged//O_9.jpg\n"
          ],
          "name": "stdout"
        },
        {
          "output_type": "stream",
          "text": [
            "\r 54%|█████▎    | 428/800 [04:00<03:18,  1.88it/s]"
          ],
          "name": "stderr"
        },
        {
          "output_type": "stream",
          "text": [
            "Waste_Dataset//Images_merged//O_10.jpg\n"
          ],
          "name": "stdout"
        },
        {
          "output_type": "stream",
          "text": [
            "\r 54%|█████▎    | 429/800 [04:00<03:09,  1.96it/s]"
          ],
          "name": "stderr"
        },
        {
          "output_type": "stream",
          "text": [
            "Waste_Dataset//Images_merged//O_11.jpg\n"
          ],
          "name": "stdout"
        },
        {
          "output_type": "stream",
          "text": [
            "\r 54%|█████▍    | 430/800 [04:00<03:04,  2.00it/s]"
          ],
          "name": "stderr"
        },
        {
          "output_type": "stream",
          "text": [
            "Waste_Dataset//Images_merged//O_12.jpg\n"
          ],
          "name": "stdout"
        },
        {
          "output_type": "stream",
          "text": [
            "\r 54%|█████▍    | 431/800 [04:01<03:07,  1.96it/s]"
          ],
          "name": "stderr"
        },
        {
          "output_type": "stream",
          "text": [
            "Waste_Dataset//Images_merged//O_13.jpg\n"
          ],
          "name": "stdout"
        },
        {
          "output_type": "stream",
          "text": [
            "\r 54%|█████▍    | 432/800 [04:01<03:06,  1.97it/s]"
          ],
          "name": "stderr"
        },
        {
          "output_type": "stream",
          "text": [
            "Waste_Dataset//Images_merged//O_14.jpg\n"
          ],
          "name": "stdout"
        },
        {
          "output_type": "stream",
          "text": [
            "\r 54%|█████▍    | 433/800 [04:02<03:05,  1.98it/s]"
          ],
          "name": "stderr"
        },
        {
          "output_type": "stream",
          "text": [
            "Waste_Dataset//Images_merged//O_15.jpg\n"
          ],
          "name": "stdout"
        },
        {
          "output_type": "stream",
          "text": [
            "\r 54%|█████▍    | 434/800 [04:03<03:07,  1.95it/s]"
          ],
          "name": "stderr"
        },
        {
          "output_type": "stream",
          "text": [
            "Waste_Dataset//Images_merged//O_16.jpg\n"
          ],
          "name": "stdout"
        },
        {
          "output_type": "stream",
          "text": [
            "\r 54%|█████▍    | 435/800 [04:03<03:04,  1.97it/s]"
          ],
          "name": "stderr"
        },
        {
          "output_type": "stream",
          "text": [
            "Waste_Dataset//Images_merged//O_17.jpg\n"
          ],
          "name": "stdout"
        },
        {
          "output_type": "stream",
          "text": [
            "\r 55%|█████▍    | 436/800 [04:04<03:03,  1.98it/s]"
          ],
          "name": "stderr"
        },
        {
          "output_type": "stream",
          "text": [
            "Waste_Dataset//Images_merged//O_18.jpg\n"
          ],
          "name": "stdout"
        },
        {
          "output_type": "stream",
          "text": [
            "\r 55%|█████▍    | 437/800 [04:04<03:02,  1.99it/s]"
          ],
          "name": "stderr"
        },
        {
          "output_type": "stream",
          "text": [
            "Waste_Dataset//Images_merged//O_19.jpg\n"
          ],
          "name": "stdout"
        },
        {
          "output_type": "stream",
          "text": [
            "\r 55%|█████▍    | 438/800 [04:04<02:55,  2.06it/s]"
          ],
          "name": "stderr"
        },
        {
          "output_type": "stream",
          "text": [
            "Waste_Dataset//Images_merged//O_20.jpg\n"
          ],
          "name": "stdout"
        },
        {
          "output_type": "stream",
          "text": [
            "\r 55%|█████▍    | 439/800 [04:05<03:09,  1.90it/s]"
          ],
          "name": "stderr"
        },
        {
          "output_type": "stream",
          "text": [
            "Waste_Dataset//Images_merged//O_21.jpg\n"
          ],
          "name": "stdout"
        },
        {
          "output_type": "stream",
          "text": [
            "\r 55%|█████▌    | 440/800 [04:06<03:05,  1.94it/s]"
          ],
          "name": "stderr"
        },
        {
          "output_type": "stream",
          "text": [
            "Waste_Dataset//Images_merged//O_22.jpg\n"
          ],
          "name": "stdout"
        },
        {
          "output_type": "stream",
          "text": [
            "\r 55%|█████▌    | 441/800 [04:06<03:02,  1.96it/s]"
          ],
          "name": "stderr"
        },
        {
          "output_type": "stream",
          "text": [
            "Waste_Dataset//Images_merged//O_23.jpg\n"
          ],
          "name": "stdout"
        },
        {
          "output_type": "stream",
          "text": [
            "\r 55%|█████▌    | 442/800 [04:07<03:22,  1.76it/s]"
          ],
          "name": "stderr"
        },
        {
          "output_type": "stream",
          "text": [
            "Waste_Dataset//Images_merged//O_24.jpg\n"
          ],
          "name": "stdout"
        },
        {
          "output_type": "stream",
          "text": [
            "\r 55%|█████▌    | 443/800 [04:07<03:17,  1.80it/s]"
          ],
          "name": "stderr"
        },
        {
          "output_type": "stream",
          "text": [
            "Waste_Dataset//Images_merged//O_25.jpg\n"
          ],
          "name": "stdout"
        },
        {
          "output_type": "stream",
          "text": [
            "\r 56%|█████▌    | 444/800 [04:08<03:51,  1.54it/s]"
          ],
          "name": "stderr"
        },
        {
          "output_type": "stream",
          "text": [
            "Waste_Dataset//Images_merged//O_26.jpg\n"
          ],
          "name": "stdout"
        },
        {
          "output_type": "stream",
          "text": [
            "\r 56%|█████▌    | 445/800 [04:09<03:51,  1.53it/s]"
          ],
          "name": "stderr"
        },
        {
          "output_type": "stream",
          "text": [
            "Waste_Dataset//Images_merged//O_27.jpg\n"
          ],
          "name": "stdout"
        },
        {
          "output_type": "stream",
          "text": [
            "\r 56%|█████▌    | 446/800 [04:09<03:51,  1.53it/s]"
          ],
          "name": "stderr"
        },
        {
          "output_type": "stream",
          "text": [
            "Waste_Dataset//Images_merged//O_28.jpg\n"
          ],
          "name": "stdout"
        },
        {
          "output_type": "stream",
          "text": [
            "\r 56%|█████▌    | 447/800 [04:10<03:57,  1.49it/s]"
          ],
          "name": "stderr"
        },
        {
          "output_type": "stream",
          "text": [
            "Waste_Dataset//Images_merged//O_29.jpg\n"
          ],
          "name": "stdout"
        },
        {
          "output_type": "stream",
          "text": [
            "\r 56%|█████▌    | 448/800 [04:11<04:02,  1.45it/s]"
          ],
          "name": "stderr"
        },
        {
          "output_type": "stream",
          "text": [
            "Waste_Dataset//Images_merged//O_30.jpg\n"
          ],
          "name": "stdout"
        },
        {
          "output_type": "stream",
          "text": [
            "\r 56%|█████▌    | 449/800 [04:12<04:07,  1.42it/s]"
          ],
          "name": "stderr"
        },
        {
          "output_type": "stream",
          "text": [
            "Waste_Dataset//Images_merged//O_31.jpg\n"
          ],
          "name": "stdout"
        },
        {
          "output_type": "stream",
          "text": [
            "\r 56%|█████▋    | 450/800 [04:13<04:51,  1.20it/s]"
          ],
          "name": "stderr"
        },
        {
          "output_type": "stream",
          "text": [
            "Waste_Dataset//Images_merged//O_32.jpg\n"
          ],
          "name": "stdout"
        },
        {
          "output_type": "stream",
          "text": [
            "\r 56%|█████▋    | 451/800 [04:14<04:39,  1.25it/s]"
          ],
          "name": "stderr"
        },
        {
          "output_type": "stream",
          "text": [
            "Waste_Dataset//Images_merged//O_33.jpg\n"
          ],
          "name": "stdout"
        },
        {
          "output_type": "stream",
          "text": [
            "\r 56%|█████▋    | 452/800 [04:14<04:01,  1.44it/s]"
          ],
          "name": "stderr"
        },
        {
          "output_type": "stream",
          "text": [
            "Waste_Dataset//Images_merged//O_34.jpg\n"
          ],
          "name": "stdout"
        },
        {
          "output_type": "stream",
          "text": [
            "\r 57%|█████▋    | 453/800 [04:15<04:09,  1.39it/s]"
          ],
          "name": "stderr"
        },
        {
          "output_type": "stream",
          "text": [
            "Waste_Dataset//Images_merged//O_35.jpg\n"
          ],
          "name": "stdout"
        },
        {
          "output_type": "stream",
          "text": [
            "\r 57%|█████▋    | 454/800 [04:16<04:14,  1.36it/s]"
          ],
          "name": "stderr"
        },
        {
          "output_type": "stream",
          "text": [
            "Waste_Dataset//Images_merged//O_36.jpg\n"
          ],
          "name": "stdout"
        },
        {
          "output_type": "stream",
          "text": [
            "\r 57%|█████▋    | 455/800 [04:16<04:10,  1.38it/s]"
          ],
          "name": "stderr"
        },
        {
          "output_type": "stream",
          "text": [
            "Waste_Dataset//Images_merged//O_37.jpg\n"
          ],
          "name": "stdout"
        },
        {
          "output_type": "stream",
          "text": [
            "\r 57%|█████▋    | 456/800 [04:17<04:09,  1.38it/s]"
          ],
          "name": "stderr"
        },
        {
          "output_type": "stream",
          "text": [
            "Waste_Dataset//Images_merged//O_38.jpg\n"
          ],
          "name": "stdout"
        },
        {
          "output_type": "stream",
          "text": [
            "\r 57%|█████▋    | 457/800 [04:18<04:09,  1.37it/s]"
          ],
          "name": "stderr"
        },
        {
          "output_type": "stream",
          "text": [
            "Waste_Dataset//Images_merged//O_39.jpg\n"
          ],
          "name": "stdout"
        },
        {
          "output_type": "stream",
          "text": [
            "\r 57%|█████▋    | 458/800 [04:18<04:11,  1.36it/s]"
          ],
          "name": "stderr"
        },
        {
          "output_type": "stream",
          "text": [
            "Waste_Dataset//Images_merged//O_40.jpg\n"
          ],
          "name": "stdout"
        },
        {
          "output_type": "stream",
          "text": [
            "\r 57%|█████▋    | 459/800 [04:19<04:17,  1.32it/s]"
          ],
          "name": "stderr"
        },
        {
          "output_type": "stream",
          "text": [
            "Waste_Dataset//Images_merged//O_41.jpg\n"
          ],
          "name": "stdout"
        },
        {
          "output_type": "stream",
          "text": [
            "\r 57%|█████▊    | 460/800 [04:20<04:14,  1.34it/s]"
          ],
          "name": "stderr"
        },
        {
          "output_type": "stream",
          "text": [
            "Waste_Dataset//Images_merged//O_42.jpg\n"
          ],
          "name": "stdout"
        },
        {
          "output_type": "stream",
          "text": [
            "\r 58%|█████▊    | 461/800 [04:21<04:16,  1.32it/s]"
          ],
          "name": "stderr"
        },
        {
          "output_type": "stream",
          "text": [
            "Waste_Dataset//Images_merged//O_43.jpg\n"
          ],
          "name": "stdout"
        },
        {
          "output_type": "stream",
          "text": [
            "\r 58%|█████▊    | 462/800 [04:21<03:45,  1.50it/s]"
          ],
          "name": "stderr"
        },
        {
          "output_type": "stream",
          "text": [
            "Waste_Dataset//Images_merged//O_44.jpg\n"
          ],
          "name": "stdout"
        },
        {
          "output_type": "stream",
          "text": [
            "\r 58%|█████▊    | 463/800 [04:22<03:53,  1.44it/s]"
          ],
          "name": "stderr"
        },
        {
          "output_type": "stream",
          "text": [
            "Waste_Dataset//Images_merged//O_45.jpg\n"
          ],
          "name": "stdout"
        },
        {
          "output_type": "stream",
          "text": [
            "\r 58%|█████▊    | 464/800 [04:23<03:59,  1.40it/s]"
          ],
          "name": "stderr"
        },
        {
          "output_type": "stream",
          "text": [
            "Waste_Dataset//Images_merged//O_46.jpg\n"
          ],
          "name": "stdout"
        },
        {
          "output_type": "stream",
          "text": [
            "\r 58%|█████▊    | 465/800 [04:23<04:01,  1.38it/s]"
          ],
          "name": "stderr"
        },
        {
          "output_type": "stream",
          "text": [
            "Waste_Dataset//Images_merged//O_47.jpg\n"
          ],
          "name": "stdout"
        },
        {
          "output_type": "stream",
          "text": [
            "\r 58%|█████▊    | 466/800 [04:24<04:00,  1.39it/s]"
          ],
          "name": "stderr"
        },
        {
          "output_type": "stream",
          "text": [
            "Waste_Dataset//Images_merged//O_48.jpg\n"
          ],
          "name": "stdout"
        },
        {
          "output_type": "stream",
          "text": [
            "\r 58%|█████▊    | 467/800 [04:25<03:59,  1.39it/s]"
          ],
          "name": "stderr"
        },
        {
          "output_type": "stream",
          "text": [
            "Waste_Dataset//Images_merged//O_49.jpg\n"
          ],
          "name": "stdout"
        },
        {
          "output_type": "stream",
          "text": [
            "\r 58%|█████▊    | 468/800 [04:26<04:00,  1.38it/s]"
          ],
          "name": "stderr"
        },
        {
          "output_type": "stream",
          "text": [
            "Waste_Dataset//Images_merged//O_50.jpg\n"
          ],
          "name": "stdout"
        },
        {
          "output_type": "stream",
          "text": [
            "\r 59%|█████▊    | 469/800 [04:26<04:05,  1.35it/s]"
          ],
          "name": "stderr"
        },
        {
          "output_type": "stream",
          "text": [
            "Waste_Dataset//Images_merged//O_51.jpg\n"
          ],
          "name": "stdout"
        },
        {
          "output_type": "stream",
          "text": [
            "\r 59%|█████▉    | 470/800 [04:27<04:00,  1.37it/s]"
          ],
          "name": "stderr"
        },
        {
          "output_type": "stream",
          "text": [
            "Waste_Dataset//Images_merged//O_52.jpg\n"
          ],
          "name": "stdout"
        },
        {
          "output_type": "stream",
          "text": [
            "\r 59%|█████▉    | 471/800 [04:28<04:07,  1.33it/s]"
          ],
          "name": "stderr"
        },
        {
          "output_type": "stream",
          "text": [
            "Waste_Dataset//Images_merged//O_53.jpg\n"
          ],
          "name": "stdout"
        },
        {
          "output_type": "stream",
          "text": [
            "\r 59%|█████▉    | 472/800 [04:29<04:04,  1.34it/s]"
          ],
          "name": "stderr"
        },
        {
          "output_type": "stream",
          "text": [
            "Waste_Dataset//Images_merged//O_54.jpg\n"
          ],
          "name": "stdout"
        },
        {
          "output_type": "stream",
          "text": [
            "\r 59%|█████▉    | 473/800 [04:29<04:01,  1.35it/s]"
          ],
          "name": "stderr"
        },
        {
          "output_type": "stream",
          "text": [
            "Waste_Dataset//Images_merged//O_55.jpg\n"
          ],
          "name": "stdout"
        },
        {
          "output_type": "stream",
          "text": [
            "\r 59%|█████▉    | 474/800 [04:30<03:57,  1.37it/s]"
          ],
          "name": "stderr"
        },
        {
          "output_type": "stream",
          "text": [
            "Waste_Dataset//Images_merged//O_56.jpg\n"
          ],
          "name": "stdout"
        },
        {
          "output_type": "stream",
          "text": [
            "\r 59%|█████▉    | 475/800 [04:31<03:59,  1.36it/s]"
          ],
          "name": "stderr"
        },
        {
          "output_type": "stream",
          "text": [
            "Waste_Dataset//Images_merged//O_57.jpg\n"
          ],
          "name": "stdout"
        },
        {
          "output_type": "stream",
          "text": [
            "\r 60%|█████▉    | 476/800 [04:32<03:57,  1.37it/s]"
          ],
          "name": "stderr"
        },
        {
          "output_type": "stream",
          "text": [
            "Waste_Dataset//Images_merged//O_58.jpg\n"
          ],
          "name": "stdout"
        },
        {
          "output_type": "stream",
          "text": [
            "\r 60%|█████▉    | 477/800 [04:32<03:29,  1.54it/s]"
          ],
          "name": "stderr"
        },
        {
          "output_type": "stream",
          "text": [
            "Waste_Dataset//Images_merged//O_59.jpg\n"
          ],
          "name": "stdout"
        },
        {
          "output_type": "stream",
          "text": [
            "\r 60%|█████▉    | 478/800 [04:33<03:37,  1.48it/s]"
          ],
          "name": "stderr"
        },
        {
          "output_type": "stream",
          "text": [
            "Waste_Dataset//Images_merged//O_60.jpg\n"
          ],
          "name": "stdout"
        },
        {
          "output_type": "stream",
          "text": [
            "\r 60%|█████▉    | 479/800 [04:33<03:42,  1.44it/s]"
          ],
          "name": "stderr"
        },
        {
          "output_type": "stream",
          "text": [
            "Waste_Dataset//Images_merged//O_61.jpg\n"
          ],
          "name": "stdout"
        },
        {
          "output_type": "stream",
          "text": [
            "\r 60%|██████    | 480/800 [04:34<03:54,  1.37it/s]"
          ],
          "name": "stderr"
        },
        {
          "output_type": "stream",
          "text": [
            "Waste_Dataset//Images_merged//O_62.jpg\n"
          ],
          "name": "stdout"
        },
        {
          "output_type": "stream",
          "text": [
            "\r 60%|██████    | 481/800 [04:35<03:50,  1.38it/s]"
          ],
          "name": "stderr"
        },
        {
          "output_type": "stream",
          "text": [
            "Waste_Dataset//Images_merged//O_63.jpg\n"
          ],
          "name": "stdout"
        },
        {
          "output_type": "stream",
          "text": [
            "\r 60%|██████    | 482/800 [04:35<03:21,  1.58it/s]"
          ],
          "name": "stderr"
        },
        {
          "output_type": "stream",
          "text": [
            "Waste_Dataset//Images_merged//O_64.jpg\n"
          ],
          "name": "stdout"
        },
        {
          "output_type": "stream",
          "text": [
            "\r 60%|██████    | 483/800 [04:36<03:30,  1.51it/s]"
          ],
          "name": "stderr"
        },
        {
          "output_type": "stream",
          "text": [
            "Waste_Dataset//Images_merged//O_65.jpg\n"
          ],
          "name": "stdout"
        },
        {
          "output_type": "stream",
          "text": [
            "\r 60%|██████    | 484/800 [04:37<03:18,  1.59it/s]"
          ],
          "name": "stderr"
        },
        {
          "output_type": "stream",
          "text": [
            "Waste_Dataset//Images_merged//O_66.jpg\n"
          ],
          "name": "stdout"
        },
        {
          "output_type": "stream",
          "text": [
            "\r 61%|██████    | 485/800 [04:37<03:10,  1.66it/s]"
          ],
          "name": "stderr"
        },
        {
          "output_type": "stream",
          "text": [
            "Waste_Dataset//Images_merged//O_67.jpg\n"
          ],
          "name": "stdout"
        },
        {
          "output_type": "stream",
          "text": [
            "\r 61%|██████    | 486/800 [04:38<03:17,  1.59it/s]"
          ],
          "name": "stderr"
        },
        {
          "output_type": "stream",
          "text": [
            "Waste_Dataset//Images_merged//O_68.jpg\n"
          ],
          "name": "stdout"
        },
        {
          "output_type": "stream",
          "text": [
            "\r 61%|██████    | 487/800 [04:39<03:26,  1.51it/s]"
          ],
          "name": "stderr"
        },
        {
          "output_type": "stream",
          "text": [
            "Waste_Dataset//Images_merged//O_69.jpg\n"
          ],
          "name": "stdout"
        },
        {
          "output_type": "stream",
          "text": [
            "\r 61%|██████    | 488/800 [04:39<03:32,  1.47it/s]"
          ],
          "name": "stderr"
        },
        {
          "output_type": "stream",
          "text": [
            "Waste_Dataset//Images_merged//O_70.jpg\n"
          ],
          "name": "stdout"
        },
        {
          "output_type": "stream",
          "text": [
            "\r 61%|██████    | 489/800 [04:40<03:15,  1.59it/s]"
          ],
          "name": "stderr"
        },
        {
          "output_type": "stream",
          "text": [
            "Waste_Dataset//Images_merged//O_71.jpg\n"
          ],
          "name": "stdout"
        },
        {
          "output_type": "stream",
          "text": [
            "\r 61%|██████▏   | 490/800 [04:41<03:28,  1.49it/s]"
          ],
          "name": "stderr"
        },
        {
          "output_type": "stream",
          "text": [
            "Waste_Dataset//Images_merged//O_72.jpg\n"
          ],
          "name": "stdout"
        },
        {
          "output_type": "stream",
          "text": [
            "\r 61%|██████▏   | 491/800 [04:41<03:34,  1.44it/s]"
          ],
          "name": "stderr"
        },
        {
          "output_type": "stream",
          "text": [
            "Waste_Dataset//Images_merged//O_73.jpg\n"
          ],
          "name": "stdout"
        },
        {
          "output_type": "stream",
          "text": [
            "\r 62%|██████▏   | 492/800 [04:42<03:36,  1.42it/s]"
          ],
          "name": "stderr"
        },
        {
          "output_type": "stream",
          "text": [
            "Waste_Dataset//Images_merged//O_74.jpg\n"
          ],
          "name": "stdout"
        },
        {
          "output_type": "stream",
          "text": [
            "\r 62%|██████▏   | 493/800 [04:43<03:40,  1.39it/s]"
          ],
          "name": "stderr"
        },
        {
          "output_type": "stream",
          "text": [
            "Waste_Dataset//Images_merged//O_75.jpg\n"
          ],
          "name": "stdout"
        },
        {
          "output_type": "stream",
          "text": [
            "\r 62%|██████▏   | 494/800 [04:43<03:20,  1.53it/s]"
          ],
          "name": "stderr"
        },
        {
          "output_type": "stream",
          "text": [
            "Waste_Dataset//Images_merged//O_76.jpg\n"
          ],
          "name": "stdout"
        },
        {
          "output_type": "stream",
          "text": [
            "\r 62%|██████▏   | 495/800 [04:44<03:26,  1.48it/s]"
          ],
          "name": "stderr"
        },
        {
          "output_type": "stream",
          "text": [
            "Waste_Dataset//Images_merged//O_77.jpg\n"
          ],
          "name": "stdout"
        },
        {
          "output_type": "stream",
          "text": [
            "\r 62%|██████▏   | 496/800 [04:45<03:32,  1.43it/s]"
          ],
          "name": "stderr"
        },
        {
          "output_type": "stream",
          "text": [
            "Waste_Dataset//Images_merged//O_78.jpg\n"
          ],
          "name": "stdout"
        },
        {
          "output_type": "stream",
          "text": [
            "\r 62%|██████▏   | 497/800 [04:46<03:34,  1.41it/s]"
          ],
          "name": "stderr"
        },
        {
          "output_type": "stream",
          "text": [
            "Waste_Dataset//Images_merged//O_79.jpg\n"
          ],
          "name": "stdout"
        },
        {
          "output_type": "stream",
          "text": [
            "\r 62%|██████▏   | 498/800 [04:46<03:36,  1.39it/s]"
          ],
          "name": "stderr"
        },
        {
          "output_type": "stream",
          "text": [
            "Waste_Dataset//Images_merged//O_80.jpg\n"
          ],
          "name": "stdout"
        },
        {
          "output_type": "stream",
          "text": [
            "\r 62%|██████▏   | 499/800 [04:47<03:35,  1.40it/s]"
          ],
          "name": "stderr"
        },
        {
          "output_type": "stream",
          "text": [
            "Waste_Dataset//Images_merged//O_81.jpg\n"
          ],
          "name": "stdout"
        },
        {
          "output_type": "stream",
          "text": [
            "\r 62%|██████▎   | 500/800 [04:48<03:37,  1.38it/s]"
          ],
          "name": "stderr"
        },
        {
          "output_type": "stream",
          "text": [
            "Waste_Dataset//Images_merged//O_83.jpg\n"
          ],
          "name": "stdout"
        },
        {
          "output_type": "stream",
          "text": [
            "\r 63%|██████▎   | 501/800 [04:49<03:35,  1.39it/s]"
          ],
          "name": "stderr"
        },
        {
          "output_type": "stream",
          "text": [
            "Waste_Dataset//Images_merged//O_84.jpg\n"
          ],
          "name": "stdout"
        },
        {
          "output_type": "stream",
          "text": [
            "\r 63%|██████▎   | 502/800 [04:49<03:44,  1.33it/s]"
          ],
          "name": "stderr"
        },
        {
          "output_type": "stream",
          "text": [
            "Waste_Dataset//Images_merged//O_85.jpg\n"
          ],
          "name": "stdout"
        },
        {
          "output_type": "stream",
          "text": [
            "\r 63%|██████▎   | 503/800 [04:50<03:46,  1.31it/s]"
          ],
          "name": "stderr"
        },
        {
          "output_type": "stream",
          "text": [
            "Waste_Dataset//Images_merged//O_86.jpg\n"
          ],
          "name": "stdout"
        },
        {
          "output_type": "stream",
          "text": [
            "\r 63%|██████▎   | 504/800 [04:51<03:43,  1.32it/s]"
          ],
          "name": "stderr"
        },
        {
          "output_type": "stream",
          "text": [
            "Waste_Dataset//Images_merged//O_87.jpg\n"
          ],
          "name": "stdout"
        },
        {
          "output_type": "stream",
          "text": [
            "\r 63%|██████▎   | 505/800 [04:52<03:40,  1.34it/s]"
          ],
          "name": "stderr"
        },
        {
          "output_type": "stream",
          "text": [
            "Waste_Dataset//Images_merged//O_88.jpg\n"
          ],
          "name": "stdout"
        },
        {
          "output_type": "stream",
          "text": [
            "\r 63%|██████▎   | 506/800 [04:52<03:47,  1.29it/s]"
          ],
          "name": "stderr"
        },
        {
          "output_type": "stream",
          "text": [
            "Waste_Dataset//Images_merged//O_89.jpg\n"
          ],
          "name": "stdout"
        },
        {
          "output_type": "stream",
          "text": [
            "\r 63%|██████▎   | 507/800 [04:53<03:40,  1.33it/s]"
          ],
          "name": "stderr"
        },
        {
          "output_type": "stream",
          "text": [
            "Waste_Dataset//Images_merged//O_91.jpg\n"
          ],
          "name": "stdout"
        },
        {
          "output_type": "stream",
          "text": [
            "\r 64%|██████▎   | 508/800 [04:54<03:35,  1.36it/s]"
          ],
          "name": "stderr"
        },
        {
          "output_type": "stream",
          "text": [
            "Waste_Dataset//Images_merged//O_92.jpg\n"
          ],
          "name": "stdout"
        },
        {
          "output_type": "stream",
          "text": [
            "\r 64%|██████▎   | 509/800 [04:55<03:36,  1.35it/s]"
          ],
          "name": "stderr"
        },
        {
          "output_type": "stream",
          "text": [
            "Waste_Dataset//Images_merged//O_93.jpg\n"
          ],
          "name": "stdout"
        },
        {
          "output_type": "stream",
          "text": [
            "\r 64%|██████▍   | 510/800 [04:55<03:39,  1.32it/s]"
          ],
          "name": "stderr"
        },
        {
          "output_type": "stream",
          "text": [
            "Waste_Dataset//Images_merged//O_94.jpg\n"
          ],
          "name": "stdout"
        },
        {
          "output_type": "stream",
          "text": [
            "\r 64%|██████▍   | 511/800 [04:56<03:33,  1.35it/s]"
          ],
          "name": "stderr"
        },
        {
          "output_type": "stream",
          "text": [
            "Waste_Dataset//Images_merged//O_95.jpg\n"
          ],
          "name": "stdout"
        },
        {
          "output_type": "stream",
          "text": [
            "\r 64%|██████▍   | 512/800 [04:57<03:33,  1.35it/s]"
          ],
          "name": "stderr"
        },
        {
          "output_type": "stream",
          "text": [
            "Waste_Dataset//Images_merged//O_96.jpg\n"
          ],
          "name": "stdout"
        },
        {
          "output_type": "stream",
          "text": [
            "\r 64%|██████▍   | 513/800 [04:57<03:12,  1.49it/s]"
          ],
          "name": "stderr"
        },
        {
          "output_type": "stream",
          "text": [
            "Waste_Dataset//Images_merged//O_97.jpg\n"
          ],
          "name": "stdout"
        },
        {
          "output_type": "stream",
          "text": [
            "\r 64%|██████▍   | 514/800 [04:58<03:17,  1.45it/s]"
          ],
          "name": "stderr"
        },
        {
          "output_type": "stream",
          "text": [
            "Waste_Dataset//Images_merged//O_98.jpg\n"
          ],
          "name": "stdout"
        },
        {
          "output_type": "stream",
          "text": [
            "\r 64%|██████▍   | 515/800 [04:59<02:57,  1.61it/s]"
          ],
          "name": "stderr"
        },
        {
          "output_type": "stream",
          "text": [
            "Waste_Dataset//Images_merged//O_99.jpg\n"
          ],
          "name": "stdout"
        },
        {
          "output_type": "stream",
          "text": [
            "\r 64%|██████▍   | 516/800 [04:59<02:42,  1.75it/s]"
          ],
          "name": "stderr"
        },
        {
          "output_type": "stream",
          "text": [
            "Waste_Dataset//Images_merged//O_100.jpg\n"
          ],
          "name": "stdout"
        },
        {
          "output_type": "stream",
          "text": [
            "\r 65%|██████▍   | 517/800 [05:00<02:45,  1.71it/s]"
          ],
          "name": "stderr"
        },
        {
          "output_type": "stream",
          "text": [
            "Waste_Dataset//Images_merged//O_371.jpg\n"
          ],
          "name": "stdout"
        },
        {
          "output_type": "stream",
          "text": [
            "\r 65%|██████▍   | 518/800 [05:00<02:37,  1.79it/s]"
          ],
          "name": "stderr"
        },
        {
          "output_type": "stream",
          "text": [
            "Waste_Dataset//Images_merged//O_372.jpg\n"
          ],
          "name": "stdout"
        },
        {
          "output_type": "stream",
          "text": [
            "\r 65%|██████▍   | 519/800 [05:01<02:38,  1.77it/s]"
          ],
          "name": "stderr"
        },
        {
          "output_type": "stream",
          "text": [
            "Waste_Dataset//Images_merged//O_375.jpg\n"
          ],
          "name": "stdout"
        },
        {
          "output_type": "stream",
          "text": [
            "\r 65%|██████▌   | 520/800 [05:01<02:52,  1.62it/s]"
          ],
          "name": "stderr"
        },
        {
          "output_type": "stream",
          "text": [
            "Waste_Dataset//Images_merged//O_376.jpg\n"
          ],
          "name": "stdout"
        },
        {
          "output_type": "stream",
          "text": [
            "\r 65%|██████▌   | 521/800 [05:02<02:42,  1.71it/s]"
          ],
          "name": "stderr"
        },
        {
          "output_type": "stream",
          "text": [
            "Waste_Dataset//Images_merged//O_380.jpg\n"
          ],
          "name": "stdout"
        },
        {
          "output_type": "stream",
          "text": [
            "\r 65%|██████▌   | 522/800 [05:02<02:30,  1.85it/s]"
          ],
          "name": "stderr"
        },
        {
          "output_type": "stream",
          "text": [
            "Waste_Dataset//Images_merged//O_386.jpg\n"
          ],
          "name": "stdout"
        },
        {
          "output_type": "stream",
          "text": [
            "\r 65%|██████▌   | 523/800 [05:03<02:47,  1.65it/s]"
          ],
          "name": "stderr"
        },
        {
          "output_type": "stream",
          "text": [
            "Waste_Dataset//Images_merged//O_387.jpg\n"
          ],
          "name": "stdout"
        },
        {
          "output_type": "stream",
          "text": [
            "\r 66%|██████▌   | 524/800 [05:04<02:39,  1.73it/s]"
          ],
          "name": "stderr"
        },
        {
          "output_type": "stream",
          "text": [
            "Waste_Dataset//Images_merged//O_389.jpg\n"
          ],
          "name": "stdout"
        },
        {
          "output_type": "stream",
          "text": [
            "\r 66%|██████▌   | 525/800 [05:04<02:33,  1.79it/s]"
          ],
          "name": "stderr"
        },
        {
          "output_type": "stream",
          "text": [
            "Waste_Dataset//Images_merged//O_391.jpg\n"
          ],
          "name": "stdout"
        },
        {
          "output_type": "stream",
          "text": [
            "\r 66%|██████▌   | 526/800 [05:05<02:29,  1.83it/s]"
          ],
          "name": "stderr"
        },
        {
          "output_type": "stream",
          "text": [
            "Waste_Dataset//Images_merged//O_392.jpg\n"
          ],
          "name": "stdout"
        },
        {
          "output_type": "stream",
          "text": [
            "\r 66%|██████▌   | 527/800 [05:05<02:25,  1.87it/s]"
          ],
          "name": "stderr"
        },
        {
          "output_type": "stream",
          "text": [
            "Waste_Dataset//Images_merged//O_393.jpg\n"
          ],
          "name": "stdout"
        },
        {
          "output_type": "stream",
          "text": [
            "\r 66%|██████▌   | 528/800 [05:06<02:24,  1.88it/s]"
          ],
          "name": "stderr"
        },
        {
          "output_type": "stream",
          "text": [
            "Waste_Dataset//Images_merged//O_394.jpg\n"
          ],
          "name": "stdout"
        },
        {
          "output_type": "stream",
          "text": [
            "\r 66%|██████▌   | 529/800 [05:06<02:19,  1.94it/s]"
          ],
          "name": "stderr"
        },
        {
          "output_type": "stream",
          "text": [
            "Waste_Dataset//Images_merged//O_395.jpg\n"
          ],
          "name": "stdout"
        },
        {
          "output_type": "stream",
          "text": [
            "\r 66%|██████▋   | 530/800 [05:07<02:17,  1.96it/s]"
          ],
          "name": "stderr"
        },
        {
          "output_type": "stream",
          "text": [
            "Waste_Dataset//Images_merged//O_401.jpg\n"
          ],
          "name": "stdout"
        },
        {
          "output_type": "stream",
          "text": [
            "\r 66%|██████▋   | 531/800 [05:07<02:19,  1.93it/s]"
          ],
          "name": "stderr"
        },
        {
          "output_type": "stream",
          "text": [
            "Waste_Dataset//Images_merged//O_403.jpg\n"
          ],
          "name": "stdout"
        },
        {
          "output_type": "stream",
          "text": [
            "\r 66%|██████▋   | 532/800 [05:08<02:15,  1.98it/s]"
          ],
          "name": "stderr"
        },
        {
          "output_type": "stream",
          "text": [
            "Waste_Dataset//Images_merged//O_405.jpg\n"
          ],
          "name": "stdout"
        },
        {
          "output_type": "stream",
          "text": [
            "\r 67%|██████▋   | 533/800 [05:08<02:14,  1.99it/s]"
          ],
          "name": "stderr"
        },
        {
          "output_type": "stream",
          "text": [
            "Waste_Dataset//Images_merged//O_407.jpg\n"
          ],
          "name": "stdout"
        },
        {
          "output_type": "stream",
          "text": [
            "\r 67%|██████▋   | 534/800 [05:09<02:13,  2.00it/s]"
          ],
          "name": "stderr"
        },
        {
          "output_type": "stream",
          "text": [
            "Waste_Dataset//Images_merged//O_408.jpg\n"
          ],
          "name": "stdout"
        },
        {
          "output_type": "stream",
          "text": [
            "\r 67%|██████▋   | 535/800 [05:09<02:12,  2.00it/s]"
          ],
          "name": "stderr"
        },
        {
          "output_type": "stream",
          "text": [
            "Waste_Dataset//Images_merged//O_409.jpg\n"
          ],
          "name": "stdout"
        },
        {
          "output_type": "stream",
          "text": [
            "\r 67%|██████▋   | 536/800 [05:10<02:13,  1.98it/s]"
          ],
          "name": "stderr"
        },
        {
          "output_type": "stream",
          "text": [
            "Waste_Dataset//Images_merged//O_410.jpg\n"
          ],
          "name": "stdout"
        },
        {
          "output_type": "stream",
          "text": [
            "\r 67%|██████▋   | 537/800 [05:10<02:10,  2.02it/s]"
          ],
          "name": "stderr"
        },
        {
          "output_type": "stream",
          "text": [
            "Waste_Dataset//Images_merged//O_412.jpg\n"
          ],
          "name": "stdout"
        },
        {
          "output_type": "stream",
          "text": [
            "\r 67%|██████▋   | 538/800 [05:11<02:05,  2.08it/s]"
          ],
          "name": "stderr"
        },
        {
          "output_type": "stream",
          "text": [
            "Waste_Dataset//Images_merged//O_413.jpg\n"
          ],
          "name": "stdout"
        },
        {
          "output_type": "stream",
          "text": [
            "\r 67%|██████▋   | 539/800 [05:11<02:08,  2.03it/s]"
          ],
          "name": "stderr"
        },
        {
          "output_type": "stream",
          "text": [
            "Waste_Dataset//Images_merged//O_414.jpg\n"
          ],
          "name": "stdout"
        },
        {
          "output_type": "stream",
          "text": [
            "\r 68%|██████▊   | 540/800 [05:12<02:09,  2.01it/s]"
          ],
          "name": "stderr"
        },
        {
          "output_type": "stream",
          "text": [
            "Waste_Dataset//Images_merged//O_416.jpg\n"
          ],
          "name": "stdout"
        },
        {
          "output_type": "stream",
          "text": [
            "\r 68%|██████▊   | 541/800 [05:12<02:04,  2.08it/s]"
          ],
          "name": "stderr"
        },
        {
          "output_type": "stream",
          "text": [
            "Waste_Dataset//Images_merged//O_417.jpg\n"
          ],
          "name": "stdout"
        },
        {
          "output_type": "stream",
          "text": [
            "\r 68%|██████▊   | 542/800 [05:13<02:05,  2.06it/s]"
          ],
          "name": "stderr"
        },
        {
          "output_type": "stream",
          "text": [
            "Waste_Dataset//Images_merged//O_418.jpg\n"
          ],
          "name": "stdout"
        },
        {
          "output_type": "stream",
          "text": [
            "\r 68%|██████▊   | 543/800 [05:13<02:06,  2.03it/s]"
          ],
          "name": "stderr"
        },
        {
          "output_type": "stream",
          "text": [
            "Waste_Dataset//Images_merged//O_419.jpg\n"
          ],
          "name": "stdout"
        },
        {
          "output_type": "stream",
          "text": [
            "\r 68%|██████▊   | 544/800 [05:14<02:05,  2.04it/s]"
          ],
          "name": "stderr"
        },
        {
          "output_type": "stream",
          "text": [
            "Waste_Dataset//Images_merged//O_420.jpg\n"
          ],
          "name": "stdout"
        },
        {
          "output_type": "stream",
          "text": [
            "\r 68%|██████▊   | 545/800 [05:14<02:10,  1.96it/s]"
          ],
          "name": "stderr"
        },
        {
          "output_type": "stream",
          "text": [
            "Waste_Dataset//Images_merged//O_421.jpg\n"
          ],
          "name": "stdout"
        },
        {
          "output_type": "stream",
          "text": [
            "\r 68%|██████▊   | 546/800 [05:15<02:09,  1.96it/s]"
          ],
          "name": "stderr"
        },
        {
          "output_type": "stream",
          "text": [
            "Waste_Dataset//Images_merged//O_423.jpg\n"
          ],
          "name": "stdout"
        },
        {
          "output_type": "stream",
          "text": [
            "\r 68%|██████▊   | 547/800 [05:15<02:08,  1.97it/s]"
          ],
          "name": "stderr"
        },
        {
          "output_type": "stream",
          "text": [
            "Waste_Dataset//Images_merged//O_425.jpg\n"
          ],
          "name": "stdout"
        },
        {
          "output_type": "stream",
          "text": [
            "\r 68%|██████▊   | 548/800 [05:16<02:10,  1.94it/s]"
          ],
          "name": "stderr"
        },
        {
          "output_type": "stream",
          "text": [
            "Waste_Dataset//Images_merged//O_426.jpg\n"
          ],
          "name": "stdout"
        },
        {
          "output_type": "stream",
          "text": [
            "\r 69%|██████▊   | 549/800 [05:16<02:07,  1.97it/s]"
          ],
          "name": "stderr"
        },
        {
          "output_type": "stream",
          "text": [
            "Waste_Dataset//Images_merged//O_427.jpg\n"
          ],
          "name": "stdout"
        },
        {
          "output_type": "stream",
          "text": [
            "\r 69%|██████▉   | 550/800 [05:17<02:05,  2.00it/s]"
          ],
          "name": "stderr"
        },
        {
          "output_type": "stream",
          "text": [
            "Waste_Dataset//Images_merged//O_428.jpg\n"
          ],
          "name": "stdout"
        },
        {
          "output_type": "stream",
          "text": [
            "\r 69%|██████▉   | 551/800 [05:17<02:05,  1.98it/s]"
          ],
          "name": "stderr"
        },
        {
          "output_type": "stream",
          "text": [
            "Waste_Dataset//Images_merged//O_429.jpg\n"
          ],
          "name": "stdout"
        },
        {
          "output_type": "stream",
          "text": [
            "\r 69%|██████▉   | 552/800 [05:18<02:05,  1.98it/s]"
          ],
          "name": "stderr"
        },
        {
          "output_type": "stream",
          "text": [
            "Waste_Dataset//Images_merged//O_432.jpg\n"
          ],
          "name": "stdout"
        },
        {
          "output_type": "stream",
          "text": [
            "\r 69%|██████▉   | 553/800 [05:18<02:02,  2.01it/s]"
          ],
          "name": "stderr"
        },
        {
          "output_type": "stream",
          "text": [
            "Waste_Dataset//Images_merged//O_433.jpg\n"
          ],
          "name": "stdout"
        },
        {
          "output_type": "stream",
          "text": [
            "\r 69%|██████▉   | 554/800 [05:19<02:01,  2.02it/s]"
          ],
          "name": "stderr"
        },
        {
          "output_type": "stream",
          "text": [
            "Waste_Dataset//Images_merged//O_437.jpg\n"
          ],
          "name": "stdout"
        },
        {
          "output_type": "stream",
          "text": [
            "\r 69%|██████▉   | 555/800 [05:19<02:03,  1.98it/s]"
          ],
          "name": "stderr"
        },
        {
          "output_type": "stream",
          "text": [
            "Waste_Dataset//Images_merged//O_438.jpg\n"
          ],
          "name": "stdout"
        },
        {
          "output_type": "stream",
          "text": [
            "\r 70%|██████▉   | 556/800 [05:20<02:12,  1.84it/s]"
          ],
          "name": "stderr"
        },
        {
          "output_type": "stream",
          "text": [
            "Waste_Dataset//Images_merged//O_441.jpg\n"
          ],
          "name": "stdout"
        },
        {
          "output_type": "stream",
          "text": [
            "\r 70%|██████▉   | 557/800 [05:20<02:11,  1.85it/s]"
          ],
          "name": "stderr"
        },
        {
          "output_type": "stream",
          "text": [
            "Waste_Dataset//Images_merged//O_444.jpg\n"
          ],
          "name": "stdout"
        },
        {
          "output_type": "stream",
          "text": [
            "\r 70%|██████▉   | 558/800 [05:21<02:07,  1.89it/s]"
          ],
          "name": "stderr"
        },
        {
          "output_type": "stream",
          "text": [
            "Waste_Dataset//Images_merged//O_447.jpg\n"
          ],
          "name": "stdout"
        },
        {
          "output_type": "stream",
          "text": [
            "\r 70%|██████▉   | 559/800 [05:21<02:04,  1.94it/s]"
          ],
          "name": "stderr"
        },
        {
          "output_type": "stream",
          "text": [
            "Waste_Dataset//Images_merged//O_448.jpg\n"
          ],
          "name": "stdout"
        },
        {
          "output_type": "stream",
          "text": [
            "\r 70%|███████   | 560/800 [05:22<02:02,  1.96it/s]"
          ],
          "name": "stderr"
        },
        {
          "output_type": "stream",
          "text": [
            "Waste_Dataset//Images_merged//O_450.jpg\n"
          ],
          "name": "stdout"
        },
        {
          "output_type": "stream",
          "text": [
            "\r 70%|███████   | 561/800 [05:22<02:01,  1.97it/s]"
          ],
          "name": "stderr"
        },
        {
          "output_type": "stream",
          "text": [
            "Waste_Dataset//Images_merged//O_451.jpg\n"
          ],
          "name": "stdout"
        },
        {
          "output_type": "stream",
          "text": [
            "\r 70%|███████   | 562/800 [05:23<02:01,  1.95it/s]"
          ],
          "name": "stderr"
        },
        {
          "output_type": "stream",
          "text": [
            "Waste_Dataset//Images_merged//O_461.jpg\n"
          ],
          "name": "stdout"
        },
        {
          "output_type": "stream",
          "text": [
            "\r 70%|███████   | 563/800 [05:23<01:58,  2.00it/s]"
          ],
          "name": "stderr"
        },
        {
          "output_type": "stream",
          "text": [
            "Waste_Dataset//Images_merged//O_462.jpg\n"
          ],
          "name": "stdout"
        },
        {
          "output_type": "stream",
          "text": [
            "\r 70%|███████   | 564/800 [05:24<01:56,  2.02it/s]"
          ],
          "name": "stderr"
        },
        {
          "output_type": "stream",
          "text": [
            "Waste_Dataset//Images_merged//O_463.jpg\n"
          ],
          "name": "stdout"
        },
        {
          "output_type": "stream",
          "text": [
            "\r 71%|███████   | 565/800 [05:24<01:55,  2.03it/s]"
          ],
          "name": "stderr"
        },
        {
          "output_type": "stream",
          "text": [
            "Waste_Dataset//Images_merged//O_464.jpg\n"
          ],
          "name": "stdout"
        },
        {
          "output_type": "stream",
          "text": [
            "\r 71%|███████   | 566/800 [05:25<02:14,  1.74it/s]"
          ],
          "name": "stderr"
        },
        {
          "output_type": "stream",
          "text": [
            "Waste_Dataset//Images_merged//O_465.jpg\n"
          ],
          "name": "stdout"
        },
        {
          "output_type": "stream",
          "text": [
            "\r 71%|███████   | 567/800 [05:26<02:07,  1.83it/s]"
          ],
          "name": "stderr"
        },
        {
          "output_type": "stream",
          "text": [
            "Waste_Dataset//Images_merged//O_466.jpg\n"
          ],
          "name": "stdout"
        },
        {
          "output_type": "stream",
          "text": [
            "\r 71%|███████   | 568/800 [05:26<02:10,  1.78it/s]"
          ],
          "name": "stderr"
        },
        {
          "output_type": "stream",
          "text": [
            "Waste_Dataset//Images_merged//O_467.jpg\n"
          ],
          "name": "stdout"
        },
        {
          "output_type": "stream",
          "text": [
            "\r 71%|███████   | 569/800 [05:27<02:05,  1.85it/s]"
          ],
          "name": "stderr"
        },
        {
          "output_type": "stream",
          "text": [
            "Waste_Dataset//Images_merged//O_469.jpg\n"
          ],
          "name": "stdout"
        },
        {
          "output_type": "stream",
          "text": [
            "\r 71%|███████▏  | 570/800 [05:27<02:22,  1.62it/s]"
          ],
          "name": "stderr"
        },
        {
          "output_type": "stream",
          "text": [
            "Waste_Dataset//Images_merged//O_470.jpg\n"
          ],
          "name": "stdout"
        },
        {
          "output_type": "stream",
          "text": [
            "\r 71%|███████▏  | 571/800 [05:28<02:15,  1.69it/s]"
          ],
          "name": "stderr"
        },
        {
          "output_type": "stream",
          "text": [
            "Waste_Dataset//Images_merged//O_13603.jpg\n"
          ],
          "name": "stdout"
        },
        {
          "output_type": "stream",
          "text": [
            "\r 72%|███████▏  | 572/800 [05:29<02:27,  1.55it/s]"
          ],
          "name": "stderr"
        },
        {
          "output_type": "stream",
          "text": [
            "Waste_Dataset//Images_merged//O_13604.jpg\n"
          ],
          "name": "stdout"
        },
        {
          "output_type": "stream",
          "text": [
            "\r 72%|███████▏  | 573/800 [05:29<02:31,  1.49it/s]"
          ],
          "name": "stderr"
        },
        {
          "output_type": "stream",
          "text": [
            "Waste_Dataset//Images_merged//O_13605.jpg\n"
          ],
          "name": "stdout"
        },
        {
          "output_type": "stream",
          "text": [
            "\r 72%|███████▏  | 574/800 [05:30<02:20,  1.61it/s]"
          ],
          "name": "stderr"
        },
        {
          "output_type": "stream",
          "text": [
            "Waste_Dataset//Images_merged//O_13606.jpg\n"
          ],
          "name": "stdout"
        },
        {
          "output_type": "stream",
          "text": [
            "\r 72%|███████▏  | 575/800 [05:30<02:10,  1.72it/s]"
          ],
          "name": "stderr"
        },
        {
          "output_type": "stream",
          "text": [
            "Waste_Dataset//Images_merged//O_13607.jpg\n"
          ],
          "name": "stdout"
        },
        {
          "output_type": "stream",
          "text": [
            "\r 72%|███████▏  | 576/800 [05:31<02:18,  1.61it/s]"
          ],
          "name": "stderr"
        },
        {
          "output_type": "stream",
          "text": [
            "Waste_Dataset//Images_merged//O_13608.jpg\n"
          ],
          "name": "stdout"
        },
        {
          "output_type": "stream",
          "text": [
            "\r 72%|███████▏  | 577/800 [05:32<02:09,  1.72it/s]"
          ],
          "name": "stderr"
        },
        {
          "output_type": "stream",
          "text": [
            "Waste_Dataset//Images_merged//O_13609.jpg\n"
          ],
          "name": "stdout"
        },
        {
          "output_type": "stream",
          "text": [
            "\r 72%|███████▏  | 578/800 [05:32<01:59,  1.86it/s]"
          ],
          "name": "stderr"
        },
        {
          "output_type": "stream",
          "text": [
            "Waste_Dataset//Images_merged//O_13610.jpg\n"
          ],
          "name": "stdout"
        },
        {
          "output_type": "stream",
          "text": [
            "\r 72%|███████▏  | 579/800 [05:33<01:57,  1.88it/s]"
          ],
          "name": "stderr"
        },
        {
          "output_type": "stream",
          "text": [
            "Waste_Dataset//Images_merged//O_13611.jpg\n"
          ],
          "name": "stdout"
        },
        {
          "output_type": "stream",
          "text": [
            "\r 72%|███████▎  | 580/800 [05:33<02:16,  1.61it/s]"
          ],
          "name": "stderr"
        },
        {
          "output_type": "stream",
          "text": [
            "Waste_Dataset//Images_merged//O_13612.jpg\n"
          ],
          "name": "stdout"
        },
        {
          "output_type": "stream",
          "text": [
            "\r 73%|███████▎  | 581/800 [05:34<02:24,  1.52it/s]"
          ],
          "name": "stderr"
        },
        {
          "output_type": "stream",
          "text": [
            "Waste_Dataset//Images_merged//O_13613.jpg\n"
          ],
          "name": "stdout"
        },
        {
          "output_type": "stream",
          "text": [
            "\r 73%|███████▎  | 582/800 [05:35<02:27,  1.48it/s]"
          ],
          "name": "stderr"
        },
        {
          "output_type": "stream",
          "text": [
            "Waste_Dataset//Images_merged//O_13614.jpg\n"
          ],
          "name": "stdout"
        },
        {
          "output_type": "stream",
          "text": [
            "\r 73%|███████▎  | 583/800 [05:36<02:29,  1.45it/s]"
          ],
          "name": "stderr"
        },
        {
          "output_type": "stream",
          "text": [
            "Waste_Dataset//Images_merged//O_13615.jpg\n"
          ],
          "name": "stdout"
        },
        {
          "output_type": "stream",
          "text": [
            "\r 73%|███████▎  | 584/800 [05:36<02:30,  1.43it/s]"
          ],
          "name": "stderr"
        },
        {
          "output_type": "stream",
          "text": [
            "Waste_Dataset//Images_merged//O_13616.jpg\n"
          ],
          "name": "stdout"
        },
        {
          "output_type": "stream",
          "text": [
            "\r 73%|███████▎  | 585/800 [05:37<02:32,  1.41it/s]"
          ],
          "name": "stderr"
        },
        {
          "output_type": "stream",
          "text": [
            "Waste_Dataset//Images_merged//O_13617.jpg\n"
          ],
          "name": "stdout"
        },
        {
          "output_type": "stream",
          "text": [
            "\r 73%|███████▎  | 586/800 [05:38<02:14,  1.59it/s]"
          ],
          "name": "stderr"
        },
        {
          "output_type": "stream",
          "text": [
            "Waste_Dataset//Images_merged//O_13618.jpg\n"
          ],
          "name": "stdout"
        },
        {
          "output_type": "stream",
          "text": [
            "\r 73%|███████▎  | 587/800 [05:38<02:02,  1.74it/s]"
          ],
          "name": "stderr"
        },
        {
          "output_type": "stream",
          "text": [
            "Waste_Dataset//Images_merged//O_13619.jpg\n"
          ],
          "name": "stdout"
        },
        {
          "output_type": "stream",
          "text": [
            "\r 74%|███████▎  | 588/800 [05:38<01:52,  1.89it/s]"
          ],
          "name": "stderr"
        },
        {
          "output_type": "stream",
          "text": [
            "Waste_Dataset//Images_merged//O_13620.jpg\n"
          ],
          "name": "stdout"
        },
        {
          "output_type": "stream",
          "text": [
            "\r 74%|███████▎  | 589/800 [05:39<02:04,  1.70it/s]"
          ],
          "name": "stderr"
        },
        {
          "output_type": "stream",
          "text": [
            "Waste_Dataset//Images_merged//O_13621.jpg\n"
          ],
          "name": "stdout"
        },
        {
          "output_type": "stream",
          "text": [
            "\r 74%|███████▍  | 590/800 [05:40<01:57,  1.79it/s]"
          ],
          "name": "stderr"
        },
        {
          "output_type": "stream",
          "text": [
            "Waste_Dataset//Images_merged//O_13622.jpg\n"
          ],
          "name": "stdout"
        },
        {
          "output_type": "stream",
          "text": [
            "\r 74%|███████▍  | 591/800 [05:40<01:52,  1.87it/s]"
          ],
          "name": "stderr"
        },
        {
          "output_type": "stream",
          "text": [
            "Waste_Dataset//Images_merged//O_13623.jpg\n"
          ],
          "name": "stdout"
        },
        {
          "output_type": "stream",
          "text": [
            "\r 74%|███████▍  | 592/800 [05:41<01:49,  1.89it/s]"
          ],
          "name": "stderr"
        },
        {
          "output_type": "stream",
          "text": [
            "Waste_Dataset//Images_merged//O_13624.jpg\n"
          ],
          "name": "stdout"
        },
        {
          "output_type": "stream",
          "text": [
            "\r 74%|███████▍  | 593/800 [05:41<02:03,  1.67it/s]"
          ],
          "name": "stderr"
        },
        {
          "output_type": "stream",
          "text": [
            "Waste_Dataset//Images_merged//O_13625.jpg\n"
          ],
          "name": "stdout"
        },
        {
          "output_type": "stream",
          "text": [
            "\r 74%|███████▍  | 594/800 [05:42<02:12,  1.56it/s]"
          ],
          "name": "stderr"
        },
        {
          "output_type": "stream",
          "text": [
            "Waste_Dataset//Images_merged//O_13626.jpg\n"
          ],
          "name": "stdout"
        },
        {
          "output_type": "stream",
          "text": [
            "\r 74%|███████▍  | 595/800 [05:43<02:17,  1.49it/s]"
          ],
          "name": "stderr"
        },
        {
          "output_type": "stream",
          "text": [
            "Waste_Dataset//Images_merged//O_13627.jpg\n"
          ],
          "name": "stdout"
        },
        {
          "output_type": "stream",
          "text": [
            "\r 74%|███████▍  | 596/800 [05:44<02:21,  1.44it/s]"
          ],
          "name": "stderr"
        },
        {
          "output_type": "stream",
          "text": [
            "Waste_Dataset//Images_merged//O_13628.jpg\n"
          ],
          "name": "stdout"
        },
        {
          "output_type": "stream",
          "text": [
            "\r 75%|███████▍  | 597/800 [05:44<02:07,  1.60it/s]"
          ],
          "name": "stderr"
        },
        {
          "output_type": "stream",
          "text": [
            "Waste_Dataset//Images_merged//O_13629.jpg\n"
          ],
          "name": "stdout"
        },
        {
          "output_type": "stream",
          "text": [
            "\r 75%|███████▍  | 598/800 [05:45<02:13,  1.51it/s]"
          ],
          "name": "stderr"
        },
        {
          "output_type": "stream",
          "text": [
            "Waste_Dataset//Images_merged//O_13630.jpg\n"
          ],
          "name": "stdout"
        },
        {
          "output_type": "stream",
          "text": [
            "\r 75%|███████▍  | 599/800 [05:45<02:01,  1.65it/s]"
          ],
          "name": "stderr"
        },
        {
          "output_type": "stream",
          "text": [
            "Waste_Dataset//Images_merged//O_13631.jpg\n"
          ],
          "name": "stdout"
        },
        {
          "output_type": "stream",
          "text": [
            "\r 75%|███████▌  | 600/800 [05:46<01:53,  1.76it/s]"
          ],
          "name": "stderr"
        },
        {
          "output_type": "stream",
          "text": [
            "Waste_Dataset//Images_merged//O_13632.jpg\n"
          ],
          "name": "stdout"
        },
        {
          "output_type": "stream",
          "text": [
            "\r 75%|███████▌  | 601/800 [05:46<02:02,  1.62it/s]"
          ],
          "name": "stderr"
        },
        {
          "output_type": "stream",
          "text": [
            "Waste_Dataset//Images_merged//O_13633.jpg\n"
          ],
          "name": "stdout"
        },
        {
          "output_type": "stream",
          "text": [
            "\r 75%|███████▌  | 602/800 [05:47<02:11,  1.51it/s]"
          ],
          "name": "stderr"
        },
        {
          "output_type": "stream",
          "text": [
            "Waste_Dataset//Images_merged//O_13634.jpg\n"
          ],
          "name": "stdout"
        },
        {
          "output_type": "stream",
          "text": [
            "\r 75%|███████▌  | 603/800 [05:48<02:11,  1.50it/s]"
          ],
          "name": "stderr"
        },
        {
          "output_type": "stream",
          "text": [
            "Waste_Dataset//Images_merged//O_13635.jpg\n"
          ],
          "name": "stdout"
        },
        {
          "output_type": "stream",
          "text": [
            "\r 76%|███████▌  | 604/800 [05:48<02:00,  1.62it/s]"
          ],
          "name": "stderr"
        },
        {
          "output_type": "stream",
          "text": [
            "Waste_Dataset//Images_merged//O_13636.jpg\n"
          ],
          "name": "stdout"
        },
        {
          "output_type": "stream",
          "text": [
            "\r 76%|███████▌  | 605/800 [05:49<02:05,  1.55it/s]"
          ],
          "name": "stderr"
        },
        {
          "output_type": "stream",
          "text": [
            "Waste_Dataset//Images_merged//O_13637.jpg\n"
          ],
          "name": "stdout"
        },
        {
          "output_type": "stream",
          "text": [
            "\r 76%|███████▌  | 606/800 [05:50<02:08,  1.51it/s]"
          ],
          "name": "stderr"
        },
        {
          "output_type": "stream",
          "text": [
            "Waste_Dataset//Images_merged//O_13638.jpg\n"
          ],
          "name": "stdout"
        },
        {
          "output_type": "stream",
          "text": [
            "\r 76%|███████▌  | 607/800 [05:51<02:13,  1.45it/s]"
          ],
          "name": "stderr"
        },
        {
          "output_type": "stream",
          "text": [
            "Waste_Dataset//Images_merged//O_13639.jpg\n"
          ],
          "name": "stdout"
        },
        {
          "output_type": "stream",
          "text": [
            "\r 76%|███████▌  | 608/800 [05:51<02:16,  1.41it/s]"
          ],
          "name": "stderr"
        },
        {
          "output_type": "stream",
          "text": [
            "Waste_Dataset//Images_merged//O_13640.jpg\n"
          ],
          "name": "stdout"
        },
        {
          "output_type": "stream",
          "text": [
            "\r 76%|███████▌  | 609/800 [05:52<02:15,  1.41it/s]"
          ],
          "name": "stderr"
        },
        {
          "output_type": "stream",
          "text": [
            "Waste_Dataset//Images_merged//O_13641.jpg\n"
          ],
          "name": "stdout"
        },
        {
          "output_type": "stream",
          "text": [
            "\r 76%|███████▋  | 610/800 [05:53<02:14,  1.41it/s]"
          ],
          "name": "stderr"
        },
        {
          "output_type": "stream",
          "text": [
            "Waste_Dataset//Images_merged//O_13642.jpg\n"
          ],
          "name": "stdout"
        },
        {
          "output_type": "stream",
          "text": [
            "\r 76%|███████▋  | 611/800 [05:53<02:01,  1.55it/s]"
          ],
          "name": "stderr"
        },
        {
          "output_type": "stream",
          "text": [
            "Waste_Dataset//Images_merged//O_13643.jpg\n"
          ],
          "name": "stdout"
        },
        {
          "output_type": "stream",
          "text": [
            "\r 76%|███████▋  | 612/800 [05:54<01:54,  1.64it/s]"
          ],
          "name": "stderr"
        },
        {
          "output_type": "stream",
          "text": [
            "Waste_Dataset//Images_merged//O_13644.jpg\n"
          ],
          "name": "stdout"
        },
        {
          "output_type": "stream",
          "text": [
            "\r 77%|███████▋  | 613/800 [05:54<01:47,  1.75it/s]"
          ],
          "name": "stderr"
        },
        {
          "output_type": "stream",
          "text": [
            "Waste_Dataset//Images_merged//O_13645.jpg\n"
          ],
          "name": "stdout"
        },
        {
          "output_type": "stream",
          "text": [
            "\r 77%|███████▋  | 614/800 [05:55<01:42,  1.81it/s]"
          ],
          "name": "stderr"
        },
        {
          "output_type": "stream",
          "text": [
            "Waste_Dataset//Images_merged//O_13646.jpg\n"
          ],
          "name": "stdout"
        },
        {
          "output_type": "stream",
          "text": [
            "\r 77%|███████▋  | 615/800 [05:55<01:40,  1.84it/s]"
          ],
          "name": "stderr"
        },
        {
          "output_type": "stream",
          "text": [
            "Waste_Dataset//Images_merged//O_13648.jpg\n"
          ],
          "name": "stdout"
        },
        {
          "output_type": "stream",
          "text": [
            "\r 77%|███████▋  | 616/800 [05:56<01:33,  1.97it/s]"
          ],
          "name": "stderr"
        },
        {
          "output_type": "stream",
          "text": [
            "Waste_Dataset//Images_merged//O_13649.jpg\n"
          ],
          "name": "stdout"
        },
        {
          "output_type": "stream",
          "text": [
            "\r 77%|███████▋  | 617/800 [05:56<01:42,  1.79it/s]"
          ],
          "name": "stderr"
        },
        {
          "output_type": "stream",
          "text": [
            "Waste_Dataset//Images_merged//O_13650.jpg\n"
          ],
          "name": "stdout"
        },
        {
          "output_type": "stream",
          "text": [
            "\r 77%|███████▋  | 618/800 [05:57<01:40,  1.81it/s]"
          ],
          "name": "stderr"
        },
        {
          "output_type": "stream",
          "text": [
            "Waste_Dataset//Images_merged//O_13651.jpg\n"
          ],
          "name": "stdout"
        },
        {
          "output_type": "stream",
          "text": [
            "\r 77%|███████▋  | 619/800 [05:58<01:55,  1.56it/s]"
          ],
          "name": "stderr"
        },
        {
          "output_type": "stream",
          "text": [
            "Waste_Dataset//Images_merged//O_13652.jpg\n"
          ],
          "name": "stdout"
        },
        {
          "output_type": "stream",
          "text": [
            "\r 78%|███████▊  | 620/800 [05:59<02:02,  1.47it/s]"
          ],
          "name": "stderr"
        },
        {
          "output_type": "stream",
          "text": [
            "Waste_Dataset//Images_merged//O_13653.jpg\n"
          ],
          "name": "stdout"
        },
        {
          "output_type": "stream",
          "text": [
            "\r 78%|███████▊  | 621/800 [05:59<01:52,  1.59it/s]"
          ],
          "name": "stderr"
        },
        {
          "output_type": "stream",
          "text": [
            "Waste_Dataset//Images_merged//O_13654.jpg\n"
          ],
          "name": "stdout"
        },
        {
          "output_type": "stream",
          "text": [
            "\r 78%|███████▊  | 622/800 [06:00<01:58,  1.50it/s]"
          ],
          "name": "stderr"
        },
        {
          "output_type": "stream",
          "text": [
            "Waste_Dataset//Images_merged//O_13655.jpg\n"
          ],
          "name": "stdout"
        },
        {
          "output_type": "stream",
          "text": [
            "\r 78%|███████▊  | 623/800 [06:01<02:00,  1.47it/s]"
          ],
          "name": "stderr"
        },
        {
          "output_type": "stream",
          "text": [
            "Waste_Dataset//Images_merged//O_13656.jpg\n"
          ],
          "name": "stdout"
        },
        {
          "output_type": "stream",
          "text": [
            "\r 78%|███████▊  | 624/800 [06:01<01:58,  1.49it/s]"
          ],
          "name": "stderr"
        },
        {
          "output_type": "stream",
          "text": [
            "Waste_Dataset//Images_merged//O_13658.jpg\n"
          ],
          "name": "stdout"
        },
        {
          "output_type": "stream",
          "text": [
            "\r 78%|███████▊  | 625/800 [06:02<01:59,  1.46it/s]"
          ],
          "name": "stderr"
        },
        {
          "output_type": "stream",
          "text": [
            "Waste_Dataset//Images_merged//O_13659.jpg\n"
          ],
          "name": "stdout"
        },
        {
          "output_type": "stream",
          "text": [
            "\r 78%|███████▊  | 626/800 [06:02<01:50,  1.58it/s]"
          ],
          "name": "stderr"
        },
        {
          "output_type": "stream",
          "text": [
            "Waste_Dataset//Images_merged//O_13660.jpg\n"
          ],
          "name": "stdout"
        },
        {
          "output_type": "stream",
          "text": [
            "\r 78%|███████▊  | 627/800 [06:03<01:58,  1.46it/s]"
          ],
          "name": "stderr"
        },
        {
          "output_type": "stream",
          "text": [
            "Waste_Dataset//Images_merged//O_13661.jpg\n"
          ],
          "name": "stdout"
        },
        {
          "output_type": "stream",
          "text": [
            "\r 78%|███████▊  | 628/800 [06:04<01:59,  1.44it/s]"
          ],
          "name": "stderr"
        },
        {
          "output_type": "stream",
          "text": [
            "Waste_Dataset//Images_merged//O_13662.jpg\n"
          ],
          "name": "stdout"
        },
        {
          "output_type": "stream",
          "text": [
            "\r 79%|███████▊  | 629/800 [06:05<02:02,  1.40it/s]"
          ],
          "name": "stderr"
        },
        {
          "output_type": "stream",
          "text": [
            "Waste_Dataset//Images_merged//O_13663.jpg\n"
          ],
          "name": "stdout"
        },
        {
          "output_type": "stream",
          "text": [
            "\r 79%|███████▉  | 630/800 [06:05<02:04,  1.37it/s]"
          ],
          "name": "stderr"
        },
        {
          "output_type": "stream",
          "text": [
            "Waste_Dataset//Images_merged//O_13664.jpg\n"
          ],
          "name": "stdout"
        },
        {
          "output_type": "stream",
          "text": [
            "\r 79%|███████▉  | 631/800 [06:06<01:50,  1.52it/s]"
          ],
          "name": "stderr"
        },
        {
          "output_type": "stream",
          "text": [
            "Waste_Dataset//Images_merged//O_13665.jpg\n"
          ],
          "name": "stdout"
        },
        {
          "output_type": "stream",
          "text": [
            "\r 79%|███████▉  | 632/800 [06:07<01:53,  1.48it/s]"
          ],
          "name": "stderr"
        },
        {
          "output_type": "stream",
          "text": [
            "Waste_Dataset//Images_merged//O_13666.jpg\n"
          ],
          "name": "stdout"
        },
        {
          "output_type": "stream",
          "text": [
            "\r 79%|███████▉  | 633/800 [06:07<01:40,  1.66it/s]"
          ],
          "name": "stderr"
        },
        {
          "output_type": "stream",
          "text": [
            "Waste_Dataset//Images_merged//O_13667.jpg\n"
          ],
          "name": "stdout"
        },
        {
          "output_type": "stream",
          "text": [
            "\r 79%|███████▉  | 634/800 [06:08<01:36,  1.72it/s]"
          ],
          "name": "stderr"
        },
        {
          "output_type": "stream",
          "text": [
            "Waste_Dataset//Images_merged//O_13668.jpg\n"
          ],
          "name": "stdout"
        },
        {
          "output_type": "stream",
          "text": [
            "\r 79%|███████▉  | 635/800 [06:08<01:30,  1.83it/s]"
          ],
          "name": "stderr"
        },
        {
          "output_type": "stream",
          "text": [
            "Waste_Dataset//Images_merged//O_13669.jpg\n"
          ],
          "name": "stdout"
        },
        {
          "output_type": "stream",
          "text": [
            "\r 80%|███████▉  | 636/800 [06:09<01:38,  1.66it/s]"
          ],
          "name": "stderr"
        },
        {
          "output_type": "stream",
          "text": [
            "Waste_Dataset//Images_merged//O_13670.jpg\n"
          ],
          "name": "stdout"
        },
        {
          "output_type": "stream",
          "text": [
            "\r 80%|███████▉  | 637/800 [06:09<01:34,  1.73it/s]"
          ],
          "name": "stderr"
        },
        {
          "output_type": "stream",
          "text": [
            "Waste_Dataset//Images_merged//O_13671.jpg\n"
          ],
          "name": "stdout"
        },
        {
          "output_type": "stream",
          "text": [
            "\r 80%|███████▉  | 638/800 [06:10<01:29,  1.82it/s]"
          ],
          "name": "stderr"
        },
        {
          "output_type": "stream",
          "text": [
            "Waste_Dataset//Images_merged//O_13672.jpg\n"
          ],
          "name": "stdout"
        },
        {
          "output_type": "stream",
          "text": [
            "\r 80%|███████▉  | 639/800 [06:11<01:39,  1.62it/s]"
          ],
          "name": "stderr"
        },
        {
          "output_type": "stream",
          "text": [
            "Waste_Dataset//Images_merged//O_13673.jpg\n"
          ],
          "name": "stdout"
        },
        {
          "output_type": "stream",
          "text": [
            "\r 80%|████████  | 640/800 [06:11<01:50,  1.45it/s]"
          ],
          "name": "stderr"
        },
        {
          "output_type": "stream",
          "text": [
            "Waste_Dataset//Images_merged//O_13674.jpg\n"
          ],
          "name": "stdout"
        },
        {
          "output_type": "stream",
          "text": [
            "\r 80%|████████  | 641/800 [06:12<01:41,  1.57it/s]"
          ],
          "name": "stderr"
        },
        {
          "output_type": "stream",
          "text": [
            "Waste_Dataset//Images_merged//O_13675.jpg\n"
          ],
          "name": "stdout"
        },
        {
          "output_type": "stream",
          "text": [
            "\r 80%|████████  | 642/800 [06:13<01:35,  1.65it/s]"
          ],
          "name": "stderr"
        },
        {
          "output_type": "stream",
          "text": [
            "Waste_Dataset//Images_merged//O_13676.jpg\n"
          ],
          "name": "stdout"
        },
        {
          "output_type": "stream",
          "text": [
            "\r 80%|████████  | 643/800 [06:13<01:44,  1.50it/s]"
          ],
          "name": "stderr"
        },
        {
          "output_type": "stream",
          "text": [
            "Waste_Dataset//Images_merged//O_13677.jpg\n"
          ],
          "name": "stdout"
        },
        {
          "output_type": "stream",
          "text": [
            "\r 80%|████████  | 644/800 [06:14<01:48,  1.43it/s]"
          ],
          "name": "stderr"
        },
        {
          "output_type": "stream",
          "text": [
            "Waste_Dataset//Images_merged//O_13678.jpg\n"
          ],
          "name": "stdout"
        },
        {
          "output_type": "stream",
          "text": [
            "\r 81%|████████  | 645/800 [06:15<01:49,  1.42it/s]"
          ],
          "name": "stderr"
        },
        {
          "output_type": "stream",
          "text": [
            "Waste_Dataset//Images_merged//O_13679.jpg\n"
          ],
          "name": "stdout"
        },
        {
          "output_type": "stream",
          "text": [
            "\r 81%|████████  | 646/800 [06:16<01:51,  1.38it/s]"
          ],
          "name": "stderr"
        },
        {
          "output_type": "stream",
          "text": [
            "Waste_Dataset//Images_merged//O_13680.jpg\n"
          ],
          "name": "stdout"
        },
        {
          "output_type": "stream",
          "text": [
            "\r 81%|████████  | 647/800 [06:16<01:37,  1.57it/s]"
          ],
          "name": "stderr"
        },
        {
          "output_type": "stream",
          "text": [
            "Waste_Dataset//Images_merged//O_13681.jpg\n"
          ],
          "name": "stdout"
        },
        {
          "output_type": "stream",
          "text": [
            "\r 81%|████████  | 648/800 [06:17<01:33,  1.63it/s]"
          ],
          "name": "stderr"
        },
        {
          "output_type": "stream",
          "text": [
            "Waste_Dataset//Images_merged//O_13682.jpg\n"
          ],
          "name": "stdout"
        },
        {
          "output_type": "stream",
          "text": [
            "\r 81%|████████  | 649/800 [06:17<01:28,  1.71it/s]"
          ],
          "name": "stderr"
        },
        {
          "output_type": "stream",
          "text": [
            "Waste_Dataset//Images_merged//plastic158.jpg\n"
          ],
          "name": "stdout"
        },
        {
          "output_type": "stream",
          "text": [
            "\r 81%|████████▏ | 650/800 [06:18<01:25,  1.76it/s]"
          ],
          "name": "stderr"
        },
        {
          "output_type": "stream",
          "text": [
            "Waste_Dataset//Images_merged//plastic159.jpg\n"
          ],
          "name": "stdout"
        },
        {
          "output_type": "stream",
          "text": [
            "\r 81%|████████▏ | 651/800 [06:18<01:28,  1.67it/s]"
          ],
          "name": "stderr"
        },
        {
          "output_type": "stream",
          "text": [
            "Waste_Dataset//Images_merged//plastic160.jpg\n"
          ],
          "name": "stdout"
        },
        {
          "output_type": "stream",
          "text": [
            "\r 82%|████████▏ | 652/800 [06:19<01:25,  1.73it/s]"
          ],
          "name": "stderr"
        },
        {
          "output_type": "stream",
          "text": [
            "Waste_Dataset//Images_merged//plastic161.jpg\n"
          ],
          "name": "stdout"
        },
        {
          "output_type": "stream",
          "text": [
            "\r 82%|████████▏ | 653/800 [06:19<01:21,  1.80it/s]"
          ],
          "name": "stderr"
        },
        {
          "output_type": "stream",
          "text": [
            "Waste_Dataset//Images_merged//plastic162.jpg\n"
          ],
          "name": "stdout"
        },
        {
          "output_type": "stream",
          "text": [
            "\r 82%|████████▏ | 654/800 [06:20<01:17,  1.88it/s]"
          ],
          "name": "stderr"
        },
        {
          "output_type": "stream",
          "text": [
            "Waste_Dataset//Images_merged//plastic163.jpg\n"
          ],
          "name": "stdout"
        },
        {
          "output_type": "stream",
          "text": [
            "\r 82%|████████▏ | 655/800 [06:20<01:15,  1.92it/s]"
          ],
          "name": "stderr"
        },
        {
          "output_type": "stream",
          "text": [
            "Waste_Dataset//Images_merged//plastic164.jpg\n"
          ],
          "name": "stdout"
        },
        {
          "output_type": "stream",
          "text": [
            "\r 82%|████████▏ | 656/800 [06:21<01:14,  1.94it/s]"
          ],
          "name": "stderr"
        },
        {
          "output_type": "stream",
          "text": [
            "Waste_Dataset//Images_merged//plastic165.jpg\n"
          ],
          "name": "stdout"
        },
        {
          "output_type": "stream",
          "text": [
            "\r 82%|████████▏ | 657/800 [06:21<01:12,  1.98it/s]"
          ],
          "name": "stderr"
        },
        {
          "output_type": "stream",
          "text": [
            "Waste_Dataset//Images_merged//plastic166.jpg\n"
          ],
          "name": "stdout"
        },
        {
          "output_type": "stream",
          "text": [
            "\r 82%|████████▏ | 658/800 [06:22<01:23,  1.70it/s]"
          ],
          "name": "stderr"
        },
        {
          "output_type": "stream",
          "text": [
            "Waste_Dataset//Images_merged//plastic167.jpg\n"
          ],
          "name": "stdout"
        },
        {
          "output_type": "stream",
          "text": [
            "\r 82%|████████▏ | 659/800 [06:23<01:19,  1.77it/s]"
          ],
          "name": "stderr"
        },
        {
          "output_type": "stream",
          "text": [
            "Waste_Dataset//Images_merged//plastic168.jpg\n"
          ],
          "name": "stdout"
        },
        {
          "output_type": "stream",
          "text": [
            "\r 82%|████████▎ | 660/800 [06:23<01:27,  1.61it/s]"
          ],
          "name": "stderr"
        },
        {
          "output_type": "stream",
          "text": [
            "Waste_Dataset//Images_merged//plastic169.jpg\n"
          ],
          "name": "stdout"
        },
        {
          "output_type": "stream",
          "text": [
            "\r 83%|████████▎ | 661/800 [06:24<01:18,  1.78it/s]"
          ],
          "name": "stderr"
        },
        {
          "output_type": "stream",
          "text": [
            "Waste_Dataset//Images_merged//plastic170.jpg\n"
          ],
          "name": "stdout"
        },
        {
          "output_type": "stream",
          "text": [
            "\r 83%|████████▎ | 662/800 [06:24<01:12,  1.90it/s]"
          ],
          "name": "stderr"
        },
        {
          "output_type": "stream",
          "text": [
            "Waste_Dataset//Images_merged//plastic171.jpg\n"
          ],
          "name": "stdout"
        },
        {
          "output_type": "stream",
          "text": [
            "\r 83%|████████▎ | 663/800 [06:25<01:09,  1.97it/s]"
          ],
          "name": "stderr"
        },
        {
          "output_type": "stream",
          "text": [
            "Waste_Dataset//Images_merged//plastic172.jpg\n"
          ],
          "name": "stdout"
        },
        {
          "output_type": "stream",
          "text": [
            "\r 83%|████████▎ | 664/800 [06:25<01:07,  2.02it/s]"
          ],
          "name": "stderr"
        },
        {
          "output_type": "stream",
          "text": [
            "Waste_Dataset//Images_merged//plastic173.jpg\n"
          ],
          "name": "stdout"
        },
        {
          "output_type": "stream",
          "text": [
            "\r 83%|████████▎ | 665/800 [06:26<01:03,  2.12it/s]"
          ],
          "name": "stderr"
        },
        {
          "output_type": "stream",
          "text": [
            "Waste_Dataset//Images_merged//plastic174.jpg\n"
          ],
          "name": "stdout"
        },
        {
          "output_type": "stream",
          "text": [
            "\r 83%|████████▎ | 666/800 [06:26<01:03,  2.11it/s]"
          ],
          "name": "stderr"
        },
        {
          "output_type": "stream",
          "text": [
            "Waste_Dataset//Images_merged//plastic175.jpg\n"
          ],
          "name": "stdout"
        },
        {
          "output_type": "stream",
          "text": [
            "\r 83%|████████▎ | 667/800 [06:26<01:02,  2.13it/s]"
          ],
          "name": "stderr"
        },
        {
          "output_type": "stream",
          "text": [
            "Waste_Dataset//Images_merged//plastic176.jpg\n"
          ],
          "name": "stdout"
        },
        {
          "output_type": "stream",
          "text": [
            "\r 84%|████████▎ | 668/800 [06:27<01:04,  2.04it/s]"
          ],
          "name": "stderr"
        },
        {
          "output_type": "stream",
          "text": [
            "Waste_Dataset//Images_merged//plastic177.jpg\n"
          ],
          "name": "stdout"
        },
        {
          "output_type": "stream",
          "text": [
            "\r 84%|████████▎ | 669/800 [06:27<01:01,  2.11it/s]"
          ],
          "name": "stderr"
        },
        {
          "output_type": "stream",
          "text": [
            "Waste_Dataset//Images_merged//plastic178.jpg\n"
          ],
          "name": "stdout"
        },
        {
          "output_type": "stream",
          "text": [
            "\r 84%|████████▍ | 670/800 [06:28<01:08,  1.90it/s]"
          ],
          "name": "stderr"
        },
        {
          "output_type": "stream",
          "text": [
            "Waste_Dataset//Images_merged//plastic179.jpg\n"
          ],
          "name": "stdout"
        },
        {
          "output_type": "stream",
          "text": [
            "\r 84%|████████▍ | 671/800 [06:29<01:06,  1.93it/s]"
          ],
          "name": "stderr"
        },
        {
          "output_type": "stream",
          "text": [
            "Waste_Dataset//Images_merged//plastic180.jpg\n"
          ],
          "name": "stdout"
        },
        {
          "output_type": "stream",
          "text": [
            "\r 84%|████████▍ | 672/800 [06:29<01:04,  1.98it/s]"
          ],
          "name": "stderr"
        },
        {
          "output_type": "stream",
          "text": [
            "Waste_Dataset//Images_merged//plastic181.jpg\n"
          ],
          "name": "stdout"
        },
        {
          "output_type": "stream",
          "text": [
            "\r 84%|████████▍ | 673/800 [06:30<01:04,  1.98it/s]"
          ],
          "name": "stderr"
        },
        {
          "output_type": "stream",
          "text": [
            "Waste_Dataset//Images_merged//plastic182.jpg\n"
          ],
          "name": "stdout"
        },
        {
          "output_type": "stream",
          "text": [
            "\r 84%|████████▍ | 674/800 [06:30<01:11,  1.76it/s]"
          ],
          "name": "stderr"
        },
        {
          "output_type": "stream",
          "text": [
            "Waste_Dataset//Images_merged//plastic183.jpg\n"
          ],
          "name": "stdout"
        },
        {
          "output_type": "stream",
          "text": [
            "\r 84%|████████▍ | 675/800 [06:31<01:16,  1.64it/s]"
          ],
          "name": "stderr"
        },
        {
          "output_type": "stream",
          "text": [
            "Waste_Dataset//Images_merged//plastic184.jpg\n"
          ],
          "name": "stdout"
        },
        {
          "output_type": "stream",
          "text": [
            "\r 84%|████████▍ | 676/800 [06:31<01:10,  1.77it/s]"
          ],
          "name": "stderr"
        },
        {
          "output_type": "stream",
          "text": [
            "Waste_Dataset//Images_merged//plastic185.jpg\n"
          ],
          "name": "stdout"
        },
        {
          "output_type": "stream",
          "text": [
            "\r 85%|████████▍ | 677/800 [06:32<01:11,  1.72it/s]"
          ],
          "name": "stderr"
        },
        {
          "output_type": "stream",
          "text": [
            "Waste_Dataset//Images_merged//plastic186.jpg\n"
          ],
          "name": "stdout"
        },
        {
          "output_type": "stream",
          "text": [
            "\r 85%|████████▍ | 678/800 [06:33<01:05,  1.87it/s]"
          ],
          "name": "stderr"
        },
        {
          "output_type": "stream",
          "text": [
            "Waste_Dataset//Images_merged//plastic187.jpg\n"
          ],
          "name": "stdout"
        },
        {
          "output_type": "stream",
          "text": [
            "\r 85%|████████▍ | 679/800 [06:33<01:09,  1.73it/s]"
          ],
          "name": "stderr"
        },
        {
          "output_type": "stream",
          "text": [
            "Waste_Dataset//Images_merged//plastic188.jpg\n"
          ],
          "name": "stdout"
        },
        {
          "output_type": "stream",
          "text": [
            "\r 85%|████████▌ | 680/800 [06:34<01:05,  1.83it/s]"
          ],
          "name": "stderr"
        },
        {
          "output_type": "stream",
          "text": [
            "Waste_Dataset//Images_merged//plastic189.jpg\n"
          ],
          "name": "stdout"
        },
        {
          "output_type": "stream",
          "text": [
            "\r 85%|████████▌ | 681/800 [06:34<01:01,  1.93it/s]"
          ],
          "name": "stderr"
        },
        {
          "output_type": "stream",
          "text": [
            "Waste_Dataset//Images_merged//plastic190.jpg\n"
          ],
          "name": "stdout"
        },
        {
          "output_type": "stream",
          "text": [
            "\r 85%|████████▌ | 682/800 [06:35<01:09,  1.69it/s]"
          ],
          "name": "stderr"
        },
        {
          "output_type": "stream",
          "text": [
            "Waste_Dataset//Images_merged//plastic191.jpg\n"
          ],
          "name": "stdout"
        },
        {
          "output_type": "stream",
          "text": [
            "\r 85%|████████▌ | 683/800 [06:36<01:14,  1.58it/s]"
          ],
          "name": "stderr"
        },
        {
          "output_type": "stream",
          "text": [
            "Waste_Dataset//Images_merged//plastic192.jpg\n"
          ],
          "name": "stdout"
        },
        {
          "output_type": "stream",
          "text": [
            "\r 86%|████████▌ | 684/800 [06:36<01:07,  1.71it/s]"
          ],
          "name": "stderr"
        },
        {
          "output_type": "stream",
          "text": [
            "Waste_Dataset//Images_merged//plastic193.jpg\n"
          ],
          "name": "stdout"
        },
        {
          "output_type": "stream",
          "text": [
            "\r 86%|████████▌ | 685/800 [06:37<01:02,  1.85it/s]"
          ],
          "name": "stderr"
        },
        {
          "output_type": "stream",
          "text": [
            "Waste_Dataset//Images_merged//plastic194.jpg\n"
          ],
          "name": "stdout"
        },
        {
          "output_type": "stream",
          "text": [
            "\r 86%|████████▌ | 686/800 [06:37<00:59,  1.92it/s]"
          ],
          "name": "stderr"
        },
        {
          "output_type": "stream",
          "text": [
            "Waste_Dataset//Images_merged//plastic195.jpg\n"
          ],
          "name": "stdout"
        },
        {
          "output_type": "stream",
          "text": [
            "\r 86%|████████▌ | 687/800 [06:38<01:03,  1.78it/s]"
          ],
          "name": "stderr"
        },
        {
          "output_type": "stream",
          "text": [
            "Waste_Dataset//Images_merged//plastic196.jpg\n"
          ],
          "name": "stdout"
        },
        {
          "output_type": "stream",
          "text": [
            "\r 86%|████████▌ | 688/800 [06:38<01:00,  1.85it/s]"
          ],
          "name": "stderr"
        },
        {
          "output_type": "stream",
          "text": [
            "Waste_Dataset//Images_merged//plastic197.jpg\n"
          ],
          "name": "stdout"
        },
        {
          "output_type": "stream",
          "text": [
            "\r 86%|████████▌ | 689/800 [06:39<01:08,  1.63it/s]"
          ],
          "name": "stderr"
        },
        {
          "output_type": "stream",
          "text": [
            "Waste_Dataset//Images_merged//plastic198.jpg\n"
          ],
          "name": "stdout"
        },
        {
          "output_type": "stream",
          "text": [
            "\r 86%|████████▋ | 690/800 [06:40<01:09,  1.58it/s]"
          ],
          "name": "stderr"
        },
        {
          "output_type": "stream",
          "text": [
            "Waste_Dataset//Images_merged//plastic199.jpg\n"
          ],
          "name": "stdout"
        },
        {
          "output_type": "stream",
          "text": [
            "\r 86%|████████▋ | 691/800 [06:40<01:12,  1.50it/s]"
          ],
          "name": "stderr"
        },
        {
          "output_type": "stream",
          "text": [
            "Waste_Dataset//Images_merged//plastic200.jpg\n"
          ],
          "name": "stdout"
        },
        {
          "output_type": "stream",
          "text": [
            "\r 86%|████████▋ | 692/800 [06:41<01:14,  1.44it/s]"
          ],
          "name": "stderr"
        },
        {
          "output_type": "stream",
          "text": [
            "Waste_Dataset//Images_merged//plastic201.jpg\n"
          ],
          "name": "stdout"
        },
        {
          "output_type": "stream",
          "text": [
            "\r 87%|████████▋ | 693/800 [06:42<01:06,  1.62it/s]"
          ],
          "name": "stderr"
        },
        {
          "output_type": "stream",
          "text": [
            "Waste_Dataset//Images_merged//plastic202.jpg\n"
          ],
          "name": "stdout"
        },
        {
          "output_type": "stream",
          "text": [
            "\r 87%|████████▋ | 694/800 [06:42<01:00,  1.77it/s]"
          ],
          "name": "stderr"
        },
        {
          "output_type": "stream",
          "text": [
            "Waste_Dataset//Images_merged//plastic203.jpg\n"
          ],
          "name": "stdout"
        },
        {
          "output_type": "stream",
          "text": [
            "\r 87%|████████▋ | 695/800 [06:42<00:57,  1.83it/s]"
          ],
          "name": "stderr"
        },
        {
          "output_type": "stream",
          "text": [
            "Waste_Dataset//Images_merged//plastic204.jpg\n"
          ],
          "name": "stdout"
        },
        {
          "output_type": "stream",
          "text": [
            "\r 87%|████████▋ | 696/800 [06:43<00:53,  1.94it/s]"
          ],
          "name": "stderr"
        },
        {
          "output_type": "stream",
          "text": [
            "Waste_Dataset//Images_merged//plastic205.jpg\n"
          ],
          "name": "stdout"
        },
        {
          "output_type": "stream",
          "text": [
            "\r 87%|████████▋ | 697/800 [06:43<00:53,  1.92it/s]"
          ],
          "name": "stderr"
        },
        {
          "output_type": "stream",
          "text": [
            "Waste_Dataset//Images_merged//plastic206.jpg\n"
          ],
          "name": "stdout"
        },
        {
          "output_type": "stream",
          "text": [
            "\r 87%|████████▋ | 698/800 [06:44<00:50,  2.02it/s]"
          ],
          "name": "stderr"
        },
        {
          "output_type": "stream",
          "text": [
            "Waste_Dataset//Images_merged//plastic207.jpg\n"
          ],
          "name": "stdout"
        },
        {
          "output_type": "stream",
          "text": [
            "\r 87%|████████▋ | 699/800 [06:45<00:54,  1.86it/s]"
          ],
          "name": "stderr"
        },
        {
          "output_type": "stream",
          "text": [
            "Waste_Dataset//Images_merged//plastic208.jpg\n"
          ],
          "name": "stdout"
        },
        {
          "output_type": "stream",
          "text": [
            "\r 88%|████████▊ | 700/800 [06:45<00:51,  1.95it/s]"
          ],
          "name": "stderr"
        },
        {
          "output_type": "stream",
          "text": [
            "Waste_Dataset//Images_merged//plastic209.jpg\n"
          ],
          "name": "stdout"
        },
        {
          "output_type": "stream",
          "text": [
            "\r 88%|████████▊ | 701/800 [06:46<00:50,  1.95it/s]"
          ],
          "name": "stderr"
        },
        {
          "output_type": "stream",
          "text": [
            "Waste_Dataset//Images_merged//plastic210.jpg\n"
          ],
          "name": "stdout"
        },
        {
          "output_type": "stream",
          "text": [
            "\r 88%|████████▊ | 702/800 [06:46<00:48,  2.04it/s]"
          ],
          "name": "stderr"
        },
        {
          "output_type": "stream",
          "text": [
            "Waste_Dataset//Images_merged//plastic211.jpg\n"
          ],
          "name": "stdout"
        },
        {
          "output_type": "stream",
          "text": [
            "\r 88%|████████▊ | 703/800 [06:47<00:55,  1.74it/s]"
          ],
          "name": "stderr"
        },
        {
          "output_type": "stream",
          "text": [
            "Waste_Dataset//Images_merged//plastic212.jpg\n"
          ],
          "name": "stdout"
        },
        {
          "output_type": "stream",
          "text": [
            "\r 88%|████████▊ | 704/800 [06:47<00:59,  1.61it/s]"
          ],
          "name": "stderr"
        },
        {
          "output_type": "stream",
          "text": [
            "Waste_Dataset//Images_merged//plastic213.jpg\n"
          ],
          "name": "stdout"
        },
        {
          "output_type": "stream",
          "text": [
            "\r 88%|████████▊ | 705/800 [06:48<00:55,  1.72it/s]"
          ],
          "name": "stderr"
        },
        {
          "output_type": "stream",
          "text": [
            "Waste_Dataset//Images_merged//plastic214.jpg\n"
          ],
          "name": "stdout"
        },
        {
          "output_type": "stream",
          "text": [
            "\r 88%|████████▊ | 706/800 [06:48<00:50,  1.86it/s]"
          ],
          "name": "stderr"
        },
        {
          "output_type": "stream",
          "text": [
            "Waste_Dataset//Images_merged//plastic215.jpg\n"
          ],
          "name": "stdout"
        },
        {
          "output_type": "stream",
          "text": [
            "\r 88%|████████▊ | 707/800 [06:49<00:47,  1.94it/s]"
          ],
          "name": "stderr"
        },
        {
          "output_type": "stream",
          "text": [
            "Waste_Dataset//Images_merged//plastic216.jpg\n"
          ],
          "name": "stdout"
        },
        {
          "output_type": "stream",
          "text": [
            "\r 88%|████████▊ | 708/800 [06:49<00:46,  1.96it/s]"
          ],
          "name": "stderr"
        },
        {
          "output_type": "stream",
          "text": [
            "Waste_Dataset//Images_merged//plastic217.jpg\n"
          ],
          "name": "stdout"
        },
        {
          "output_type": "stream",
          "text": [
            "\r 89%|████████▊ | 709/800 [06:50<00:43,  2.07it/s]"
          ],
          "name": "stderr"
        },
        {
          "output_type": "stream",
          "text": [
            "Waste_Dataset//Images_merged//plastic218.jpg\n"
          ],
          "name": "stdout"
        },
        {
          "output_type": "stream",
          "text": [
            "\r 89%|████████▉ | 710/800 [06:50<00:41,  2.15it/s]"
          ],
          "name": "stderr"
        },
        {
          "output_type": "stream",
          "text": [
            "Waste_Dataset//Images_merged//plastic219.jpg\n"
          ],
          "name": "stdout"
        },
        {
          "output_type": "stream",
          "text": [
            "\r 89%|████████▉ | 711/800 [06:51<00:42,  2.08it/s]"
          ],
          "name": "stderr"
        },
        {
          "output_type": "stream",
          "text": [
            "Waste_Dataset//Images_merged//plastic220.jpg\n"
          ],
          "name": "stdout"
        },
        {
          "output_type": "stream",
          "text": [
            "\r 89%|████████▉ | 712/800 [06:51<00:41,  2.12it/s]"
          ],
          "name": "stderr"
        },
        {
          "output_type": "stream",
          "text": [
            "Waste_Dataset//Images_merged//plastic221.jpg\n"
          ],
          "name": "stdout"
        },
        {
          "output_type": "stream",
          "text": [
            "\r 89%|████████▉ | 713/800 [06:52<00:39,  2.18it/s]"
          ],
          "name": "stderr"
        },
        {
          "output_type": "stream",
          "text": [
            "Waste_Dataset//Images_merged//plastic222.jpg\n"
          ],
          "name": "stdout"
        },
        {
          "output_type": "stream",
          "text": [
            "\r 89%|████████▉ | 714/800 [06:52<00:44,  1.92it/s]"
          ],
          "name": "stderr"
        },
        {
          "output_type": "stream",
          "text": [
            "Waste_Dataset//Images_merged//plastic223.jpg\n"
          ],
          "name": "stdout"
        },
        {
          "output_type": "stream",
          "text": [
            "\r 89%|████████▉ | 715/800 [06:53<00:42,  2.01it/s]"
          ],
          "name": "stderr"
        },
        {
          "output_type": "stream",
          "text": [
            "Waste_Dataset//Images_merged//plastic224.jpg\n"
          ],
          "name": "stdout"
        },
        {
          "output_type": "stream",
          "text": [
            "\r 90%|████████▉ | 716/800 [06:53<00:40,  2.09it/s]"
          ],
          "name": "stderr"
        },
        {
          "output_type": "stream",
          "text": [
            "Waste_Dataset//Images_merged//plastic225.jpg\n"
          ],
          "name": "stdout"
        },
        {
          "output_type": "stream",
          "text": [
            "\r 90%|████████▉ | 717/800 [06:54<00:46,  1.78it/s]"
          ],
          "name": "stderr"
        },
        {
          "output_type": "stream",
          "text": [
            "Waste_Dataset//Images_merged//plastic226.jpg\n"
          ],
          "name": "stdout"
        },
        {
          "output_type": "stream",
          "text": [
            "\r 90%|████████▉ | 718/800 [06:54<00:44,  1.86it/s]"
          ],
          "name": "stderr"
        },
        {
          "output_type": "stream",
          "text": [
            "Waste_Dataset//Images_merged//plastic227.jpg\n"
          ],
          "name": "stdout"
        },
        {
          "output_type": "stream",
          "text": [
            "\r 90%|████████▉ | 719/800 [06:55<00:41,  1.95it/s]"
          ],
          "name": "stderr"
        },
        {
          "output_type": "stream",
          "text": [
            "Waste_Dataset//Images_merged//plastic228.jpg\n"
          ],
          "name": "stdout"
        },
        {
          "output_type": "stream",
          "text": [
            "\r 90%|█████████ | 720/800 [06:55<00:39,  2.02it/s]"
          ],
          "name": "stderr"
        },
        {
          "output_type": "stream",
          "text": [
            "Waste_Dataset//Images_merged//plastic229.jpg\n"
          ],
          "name": "stdout"
        },
        {
          "output_type": "stream",
          "text": [
            "\r 90%|█████████ | 721/800 [06:56<00:38,  2.06it/s]"
          ],
          "name": "stderr"
        },
        {
          "output_type": "stream",
          "text": [
            "Waste_Dataset//Images_merged//plastic230.jpg\n"
          ],
          "name": "stdout"
        },
        {
          "output_type": "stream",
          "text": [
            "\r 90%|█████████ | 722/800 [06:56<00:40,  1.95it/s]"
          ],
          "name": "stderr"
        },
        {
          "output_type": "stream",
          "text": [
            "Waste_Dataset//Images_merged//plastic231.jpg\n"
          ],
          "name": "stdout"
        },
        {
          "output_type": "stream",
          "text": [
            "\r 90%|█████████ | 723/800 [06:57<00:39,  1.96it/s]"
          ],
          "name": "stderr"
        },
        {
          "output_type": "stream",
          "text": [
            "Waste_Dataset//Images_merged//plastic232.jpg\n"
          ],
          "name": "stdout"
        },
        {
          "output_type": "stream",
          "text": [
            "\r 90%|█████████ | 724/800 [06:57<00:39,  1.91it/s]"
          ],
          "name": "stderr"
        },
        {
          "output_type": "stream",
          "text": [
            "Waste_Dataset//Images_merged//plastic233.jpg\n"
          ],
          "name": "stdout"
        },
        {
          "output_type": "stream",
          "text": [
            "\r 91%|█████████ | 725/800 [06:58<00:37,  2.01it/s]"
          ],
          "name": "stderr"
        },
        {
          "output_type": "stream",
          "text": [
            "Waste_Dataset//Images_merged//plastic234.jpg\n"
          ],
          "name": "stdout"
        },
        {
          "output_type": "stream",
          "text": [
            "\r 91%|█████████ | 726/800 [06:59<00:42,  1.75it/s]"
          ],
          "name": "stderr"
        },
        {
          "output_type": "stream",
          "text": [
            "Waste_Dataset//Images_merged//plastic235.jpg\n"
          ],
          "name": "stdout"
        },
        {
          "output_type": "stream",
          "text": [
            "\r 91%|█████████ | 727/800 [06:59<00:38,  1.87it/s]"
          ],
          "name": "stderr"
        },
        {
          "output_type": "stream",
          "text": [
            "Waste_Dataset//Images_merged//plastic236.jpg\n"
          ],
          "name": "stdout"
        },
        {
          "output_type": "stream",
          "text": [
            "\r 91%|█████████ | 728/800 [07:00<00:43,  1.65it/s]"
          ],
          "name": "stderr"
        },
        {
          "output_type": "stream",
          "text": [
            "Waste_Dataset//Images_merged//plastic237.jpg\n"
          ],
          "name": "stdout"
        },
        {
          "output_type": "stream",
          "text": [
            "\r 91%|█████████ | 729/800 [07:00<00:45,  1.55it/s]"
          ],
          "name": "stderr"
        },
        {
          "output_type": "stream",
          "text": [
            "Waste_Dataset//Images_merged//plastic238.jpg\n"
          ],
          "name": "stdout"
        },
        {
          "output_type": "stream",
          "text": [
            "\r 91%|█████████▏| 730/800 [07:01<00:42,  1.66it/s]"
          ],
          "name": "stderr"
        },
        {
          "output_type": "stream",
          "text": [
            "Waste_Dataset//Images_merged//plastic239.jpg\n"
          ],
          "name": "stdout"
        },
        {
          "output_type": "stream",
          "text": [
            "\r 91%|█████████▏| 731/800 [07:02<00:39,  1.74it/s]"
          ],
          "name": "stderr"
        },
        {
          "output_type": "stream",
          "text": [
            "Waste_Dataset//Images_merged//plastic240.jpg\n"
          ],
          "name": "stdout"
        },
        {
          "output_type": "stream",
          "text": [
            "\r 92%|█████████▏| 732/800 [07:02<00:36,  1.87it/s]"
          ],
          "name": "stderr"
        },
        {
          "output_type": "stream",
          "text": [
            "Waste_Dataset//Images_merged//plastic241.jpg\n"
          ],
          "name": "stdout"
        },
        {
          "output_type": "stream",
          "text": [
            "\r 92%|█████████▏| 733/800 [07:02<00:34,  1.95it/s]"
          ],
          "name": "stderr"
        },
        {
          "output_type": "stream",
          "text": [
            "Waste_Dataset//Images_merged//plastic242.jpg\n"
          ],
          "name": "stdout"
        },
        {
          "output_type": "stream",
          "text": [
            "\r 92%|█████████▏| 734/800 [07:03<00:38,  1.70it/s]"
          ],
          "name": "stderr"
        },
        {
          "output_type": "stream",
          "text": [
            "Waste_Dataset//Images_merged//plastic243.jpg\n"
          ],
          "name": "stdout"
        },
        {
          "output_type": "stream",
          "text": [
            "\r 92%|█████████▏| 735/800 [07:04<00:41,  1.56it/s]"
          ],
          "name": "stderr"
        },
        {
          "output_type": "stream",
          "text": [
            "Waste_Dataset//Images_merged//plastic244.jpg\n"
          ],
          "name": "stdout"
        },
        {
          "output_type": "stream",
          "text": [
            "\r 92%|█████████▏| 736/800 [07:05<00:40,  1.59it/s]"
          ],
          "name": "stderr"
        },
        {
          "output_type": "stream",
          "text": [
            "Waste_Dataset//Images_merged//plastic245.jpg\n"
          ],
          "name": "stdout"
        },
        {
          "output_type": "stream",
          "text": [
            "\r 92%|█████████▏| 737/800 [07:05<00:37,  1.70it/s]"
          ],
          "name": "stderr"
        },
        {
          "output_type": "stream",
          "text": [
            "Waste_Dataset//Images_merged//plastic246.jpg\n"
          ],
          "name": "stdout"
        },
        {
          "output_type": "stream",
          "text": [
            "\r 92%|█████████▏| 738/800 [07:06<00:35,  1.74it/s]"
          ],
          "name": "stderr"
        },
        {
          "output_type": "stream",
          "text": [
            "Waste_Dataset//Images_merged//plastic247.jpg\n"
          ],
          "name": "stdout"
        },
        {
          "output_type": "stream",
          "text": [
            "\r 92%|█████████▏| 739/800 [07:06<00:32,  1.87it/s]"
          ],
          "name": "stderr"
        },
        {
          "output_type": "stream",
          "text": [
            "Waste_Dataset//Images_merged//plastic248.jpg\n"
          ],
          "name": "stdout"
        },
        {
          "output_type": "stream",
          "text": [
            "\r 92%|█████████▎| 740/800 [07:06<00:30,  1.96it/s]"
          ],
          "name": "stderr"
        },
        {
          "output_type": "stream",
          "text": [
            "Waste_Dataset//Images_merged//plastic249.jpg\n"
          ],
          "name": "stdout"
        },
        {
          "output_type": "stream",
          "text": [
            "\r 93%|█████████▎| 741/800 [07:07<00:29,  1.97it/s]"
          ],
          "name": "stderr"
        },
        {
          "output_type": "stream",
          "text": [
            "Waste_Dataset//Images_merged//plastic250.jpg\n"
          ],
          "name": "stdout"
        },
        {
          "output_type": "stream",
          "text": [
            "\r 93%|█████████▎| 742/800 [07:07<00:29,  2.00it/s]"
          ],
          "name": "stderr"
        },
        {
          "output_type": "stream",
          "text": [
            "Waste_Dataset//Images_merged//plastic251.jpg\n"
          ],
          "name": "stdout"
        },
        {
          "output_type": "stream",
          "text": [
            "\r 93%|█████████▎| 743/800 [07:08<00:27,  2.07it/s]"
          ],
          "name": "stderr"
        },
        {
          "output_type": "stream",
          "text": [
            "Waste_Dataset//Images_merged//plastic252.jpg\n"
          ],
          "name": "stdout"
        },
        {
          "output_type": "stream",
          "text": [
            "\r 93%|█████████▎| 744/800 [07:08<00:28,  1.96it/s]"
          ],
          "name": "stderr"
        },
        {
          "output_type": "stream",
          "text": [
            "Waste_Dataset//Images_merged//plastic253.jpg\n"
          ],
          "name": "stdout"
        },
        {
          "output_type": "stream",
          "text": [
            "\r 93%|█████████▎| 745/800 [07:09<00:27,  1.99it/s]"
          ],
          "name": "stderr"
        },
        {
          "output_type": "stream",
          "text": [
            "Waste_Dataset//Images_merged//plastic254.jpg\n"
          ],
          "name": "stdout"
        },
        {
          "output_type": "stream",
          "text": [
            "\r 93%|█████████▎| 746/800 [07:10<00:30,  1.76it/s]"
          ],
          "name": "stderr"
        },
        {
          "output_type": "stream",
          "text": [
            "Waste_Dataset//Images_merged//plastic255.jpg\n"
          ],
          "name": "stdout"
        },
        {
          "output_type": "stream",
          "text": [
            "\r 93%|█████████▎| 747/800 [07:10<00:28,  1.89it/s]"
          ],
          "name": "stderr"
        },
        {
          "output_type": "stream",
          "text": [
            "Waste_Dataset//Images_merged//plastic257.jpg\n"
          ],
          "name": "stdout"
        },
        {
          "output_type": "stream",
          "text": [
            "\r 94%|█████████▎| 748/800 [07:11<00:26,  1.99it/s]"
          ],
          "name": "stderr"
        },
        {
          "output_type": "stream",
          "text": [
            "Waste_Dataset//Images_merged//plastic258.jpg\n"
          ],
          "name": "stdout"
        },
        {
          "output_type": "stream",
          "text": [
            "\r 94%|█████████▎| 749/800 [07:11<00:24,  2.08it/s]"
          ],
          "name": "stderr"
        },
        {
          "output_type": "stream",
          "text": [
            "Waste_Dataset//Images_merged//O_12869.jpg\n"
          ],
          "name": "stdout"
        },
        {
          "output_type": "stream",
          "text": [
            "\r 94%|█████████▍| 750/800 [07:11<00:24,  2.08it/s]"
          ],
          "name": "stderr"
        },
        {
          "output_type": "stream",
          "text": [
            "Waste_Dataset//Images_merged//download 1.jpg\n"
          ],
          "name": "stdout"
        },
        {
          "output_type": "stream",
          "text": [
            "\r 94%|█████████▍| 751/800 [07:12<00:23,  2.04it/s]"
          ],
          "name": "stderr"
        },
        {
          "output_type": "stream",
          "text": [
            "Waste_Dataset//Images_merged//download 2.jpg\n"
          ],
          "name": "stdout"
        },
        {
          "output_type": "stream",
          "text": [
            "\r 94%|█████████▍| 752/800 [07:12<00:23,  2.04it/s]"
          ],
          "name": "stderr"
        },
        {
          "output_type": "stream",
          "text": [
            "Waste_Dataset//Images_merged//image_01.jpg\n"
          ],
          "name": "stdout"
        },
        {
          "output_type": "stream",
          "text": [
            "\r 94%|█████████▍| 753/800 [07:13<00:23,  2.04it/s]"
          ],
          "name": "stderr"
        },
        {
          "output_type": "stream",
          "text": [
            "Waste_Dataset//Images_merged//image_010.jpg\n"
          ],
          "name": "stdout"
        },
        {
          "output_type": "stream",
          "text": [
            "\r 94%|█████████▍| 754/800 [07:14<00:23,  1.96it/s]"
          ],
          "name": "stderr"
        },
        {
          "output_type": "stream",
          "text": [
            "Waste_Dataset//Images_merged//image_02.jpg\n"
          ],
          "name": "stdout"
        },
        {
          "output_type": "stream",
          "text": [
            "\r 94%|█████████▍| 755/800 [07:14<00:23,  1.93it/s]"
          ],
          "name": "stderr"
        },
        {
          "output_type": "stream",
          "text": [
            "Waste_Dataset//Images_merged//image_03.jpg\n"
          ],
          "name": "stdout"
        },
        {
          "output_type": "stream",
          "text": [
            "\r 94%|█████████▍| 756/800 [07:15<00:22,  1.96it/s]"
          ],
          "name": "stderr"
        },
        {
          "output_type": "stream",
          "text": [
            "Waste_Dataset//Images_merged//image_04.jpg\n"
          ],
          "name": "stdout"
        },
        {
          "output_type": "stream",
          "text": [
            "\r 95%|█████████▍| 757/800 [07:15<00:22,  1.93it/s]"
          ],
          "name": "stderr"
        },
        {
          "output_type": "stream",
          "text": [
            "Waste_Dataset//Images_merged//image_05.jpg\n"
          ],
          "name": "stdout"
        },
        {
          "output_type": "stream",
          "text": [
            "\r 95%|█████████▍| 758/800 [07:16<00:21,  1.94it/s]"
          ],
          "name": "stderr"
        },
        {
          "output_type": "stream",
          "text": [
            "Waste_Dataset//Images_merged//image_06.jpg\n"
          ],
          "name": "stdout"
        },
        {
          "output_type": "stream",
          "text": [
            "\r 95%|█████████▍| 759/800 [07:16<00:20,  1.98it/s]"
          ],
          "name": "stderr"
        },
        {
          "output_type": "stream",
          "text": [
            "Waste_Dataset//Images_merged//image_07.jpg\n"
          ],
          "name": "stdout"
        },
        {
          "output_type": "stream",
          "text": [
            "\r 95%|█████████▌| 760/800 [07:17<00:20,  1.96it/s]"
          ],
          "name": "stderr"
        },
        {
          "output_type": "stream",
          "text": [
            "Waste_Dataset//Images_merged//image_08.jpg\n"
          ],
          "name": "stdout"
        },
        {
          "output_type": "stream",
          "text": [
            "\r 95%|█████████▌| 761/800 [07:17<00:19,  1.95it/s]"
          ],
          "name": "stderr"
        },
        {
          "output_type": "stream",
          "text": [
            "Waste_Dataset//Images_merged//image_09.jpg\n"
          ],
          "name": "stdout"
        },
        {
          "output_type": "stream",
          "text": [
            "\r 95%|█████████▌| 762/800 [07:18<00:19,  1.97it/s]"
          ],
          "name": "stderr"
        },
        {
          "output_type": "stream",
          "text": [
            "Waste_Dataset//Images_merged//image_11.jpg\n"
          ],
          "name": "stdout"
        },
        {
          "output_type": "stream",
          "text": [
            "\r 95%|█████████▌| 763/800 [07:18<00:17,  2.06it/s]"
          ],
          "name": "stderr"
        },
        {
          "output_type": "stream",
          "text": [
            "Waste_Dataset//Images_merged//image_12.jpg\n"
          ],
          "name": "stdout"
        },
        {
          "output_type": "stream",
          "text": [
            "\r 96%|█████████▌| 764/800 [07:19<00:17,  2.09it/s]"
          ],
          "name": "stderr"
        },
        {
          "output_type": "stream",
          "text": [
            "Waste_Dataset//Images_merged//image_13.jpg\n"
          ],
          "name": "stdout"
        },
        {
          "output_type": "stream",
          "text": [
            "\r 96%|█████████▌| 765/800 [07:19<00:16,  2.09it/s]"
          ],
          "name": "stderr"
        },
        {
          "output_type": "stream",
          "text": [
            "Waste_Dataset//Images_merged//image_14.jpg\n"
          ],
          "name": "stdout"
        },
        {
          "output_type": "stream",
          "text": [
            "\r 96%|█████████▌| 766/800 [07:20<00:18,  1.81it/s]"
          ],
          "name": "stderr"
        },
        {
          "output_type": "stream",
          "text": [
            "Waste_Dataset//Images_merged//image_15.jpg\n"
          ],
          "name": "stdout"
        },
        {
          "output_type": "stream",
          "text": [
            "\r 96%|█████████▌| 767/800 [07:20<00:17,  1.88it/s]"
          ],
          "name": "stderr"
        },
        {
          "output_type": "stream",
          "text": [
            "Waste_Dataset//Images_merged//image_16.jpg\n"
          ],
          "name": "stdout"
        },
        {
          "output_type": "stream",
          "text": [
            "\r 96%|█████████▌| 768/800 [07:21<00:16,  1.92it/s]"
          ],
          "name": "stderr"
        },
        {
          "output_type": "stream",
          "text": [
            "Waste_Dataset//Images_merged//image_17.jpg\n"
          ],
          "name": "stdout"
        },
        {
          "output_type": "stream",
          "text": [
            "\r 96%|█████████▌| 769/800 [07:21<00:15,  1.96it/s]"
          ],
          "name": "stderr"
        },
        {
          "output_type": "stream",
          "text": [
            "Waste_Dataset//Images_merged//image_18.jpg\n"
          ],
          "name": "stdout"
        },
        {
          "output_type": "stream",
          "text": [
            "\r 96%|█████████▋| 770/800 [07:22<00:15,  2.00it/s]"
          ],
          "name": "stderr"
        },
        {
          "output_type": "stream",
          "text": [
            "Waste_Dataset//Images_merged//image_19.jpg\n"
          ],
          "name": "stdout"
        },
        {
          "output_type": "stream",
          "text": [
            "\r 96%|█████████▋| 771/800 [07:22<00:15,  1.90it/s]"
          ],
          "name": "stderr"
        },
        {
          "output_type": "stream",
          "text": [
            "Waste_Dataset//Images_merged//image_20.jpg\n"
          ],
          "name": "stdout"
        },
        {
          "output_type": "stream",
          "text": [
            "\r 96%|█████████▋| 772/800 [07:23<00:14,  1.94it/s]"
          ],
          "name": "stderr"
        },
        {
          "output_type": "stream",
          "text": [
            "Waste_Dataset//Images_merged//image_21.jpg\n"
          ],
          "name": "stdout"
        },
        {
          "output_type": "stream",
          "text": [
            "\r 97%|█████████▋| 773/800 [07:23<00:13,  1.97it/s]"
          ],
          "name": "stderr"
        },
        {
          "output_type": "stream",
          "text": [
            "Waste_Dataset//Images_merged//image_22.jpg\n"
          ],
          "name": "stdout"
        },
        {
          "output_type": "stream",
          "text": [
            "\r 97%|█████████▋| 774/800 [07:24<00:13,  1.89it/s]"
          ],
          "name": "stderr"
        },
        {
          "output_type": "stream",
          "text": [
            "Waste_Dataset//Images_merged//image_23.jpg\n"
          ],
          "name": "stdout"
        },
        {
          "output_type": "stream",
          "text": [
            "\r 97%|█████████▋| 775/800 [07:24<00:13,  1.91it/s]"
          ],
          "name": "stderr"
        },
        {
          "output_type": "stream",
          "text": [
            "Waste_Dataset//Images_merged//image_24.jpg\n"
          ],
          "name": "stdout"
        },
        {
          "output_type": "stream",
          "text": [
            "\r 97%|█████████▋| 776/800 [07:25<00:12,  1.95it/s]"
          ],
          "name": "stderr"
        },
        {
          "output_type": "stream",
          "text": [
            "Waste_Dataset//Images_merged//image_25.jpg\n"
          ],
          "name": "stdout"
        },
        {
          "output_type": "stream",
          "text": [
            "\r 97%|█████████▋| 777/800 [07:25<00:11,  1.98it/s]"
          ],
          "name": "stderr"
        },
        {
          "output_type": "stream",
          "text": [
            "Waste_Dataset//Images_merged//image_26.jpg\n"
          ],
          "name": "stdout"
        },
        {
          "output_type": "stream",
          "text": [
            "\r 97%|█████████▋| 778/800 [07:26<00:11,  2.00it/s]"
          ],
          "name": "stderr"
        },
        {
          "output_type": "stream",
          "text": [
            "Waste_Dataset//Images_merged//image_27.jpg\n"
          ],
          "name": "stdout"
        },
        {
          "output_type": "stream",
          "text": [
            "\r 97%|█████████▋| 779/800 [07:26<00:10,  2.05it/s]"
          ],
          "name": "stderr"
        },
        {
          "output_type": "stream",
          "text": [
            "Waste_Dataset//Images_merged//image_28.jpg\n"
          ],
          "name": "stdout"
        },
        {
          "output_type": "stream",
          "text": [
            "\r 98%|█████████▊| 780/800 [07:27<00:09,  2.04it/s]"
          ],
          "name": "stderr"
        },
        {
          "output_type": "stream",
          "text": [
            "Waste_Dataset//Images_merged//image_29.jpg\n"
          ],
          "name": "stdout"
        },
        {
          "output_type": "stream",
          "text": [
            "\r 98%|█████████▊| 781/800 [07:27<00:09,  2.06it/s]"
          ],
          "name": "stderr"
        },
        {
          "output_type": "stream",
          "text": [
            "Waste_Dataset//Images_merged//image_30.jpg\n"
          ],
          "name": "stdout"
        },
        {
          "output_type": "stream",
          "text": [
            "\r 98%|█████████▊| 782/800 [07:28<00:08,  2.02it/s]"
          ],
          "name": "stderr"
        },
        {
          "output_type": "stream",
          "text": [
            "Waste_Dataset//Images_merged//image_31.jpg\n"
          ],
          "name": "stdout"
        },
        {
          "output_type": "stream",
          "text": [
            "\r 98%|█████████▊| 783/800 [07:28<00:08,  1.98it/s]"
          ],
          "name": "stderr"
        },
        {
          "output_type": "stream",
          "text": [
            "Waste_Dataset//Images_merged//image_32.jpg\n"
          ],
          "name": "stdout"
        },
        {
          "output_type": "stream",
          "text": [
            "\r 98%|█████████▊| 784/800 [07:29<00:07,  2.03it/s]"
          ],
          "name": "stderr"
        },
        {
          "output_type": "stream",
          "text": [
            "Waste_Dataset//Images_merged//image_33.jpg\n"
          ],
          "name": "stdout"
        },
        {
          "output_type": "stream",
          "text": [
            "\r 98%|█████████▊| 785/800 [07:29<00:07,  2.05it/s]"
          ],
          "name": "stderr"
        },
        {
          "output_type": "stream",
          "text": [
            "Waste_Dataset//Images_merged//image_34.jpg\n"
          ],
          "name": "stdout"
        },
        {
          "output_type": "stream",
          "text": [
            "\r 98%|█████████▊| 786/800 [07:30<00:06,  2.06it/s]"
          ],
          "name": "stderr"
        },
        {
          "output_type": "stream",
          "text": [
            "Waste_Dataset//Images_merged//image_35.jpg\n"
          ],
          "name": "stdout"
        },
        {
          "output_type": "stream",
          "text": [
            "\r 98%|█████████▊| 787/800 [07:30<00:06,  2.05it/s]"
          ],
          "name": "stderr"
        },
        {
          "output_type": "stream",
          "text": [
            "Waste_Dataset//Images_merged//image_36.jpg\n"
          ],
          "name": "stdout"
        },
        {
          "output_type": "stream",
          "text": [
            "\r 98%|█████████▊| 788/800 [07:31<00:05,  2.04it/s]"
          ],
          "name": "stderr"
        },
        {
          "output_type": "stream",
          "text": [
            "Waste_Dataset//Images_merged//image_37.jpg\n"
          ],
          "name": "stdout"
        },
        {
          "output_type": "stream",
          "text": [
            "\r 99%|█████████▊| 789/800 [07:31<00:05,  1.99it/s]"
          ],
          "name": "stderr"
        },
        {
          "output_type": "stream",
          "text": [
            "Waste_Dataset//Images_merged//image_38.jpg\n"
          ],
          "name": "stdout"
        },
        {
          "output_type": "stream",
          "text": [
            "\r 99%|█████████▉| 790/800 [07:32<00:04,  2.09it/s]"
          ],
          "name": "stderr"
        },
        {
          "output_type": "stream",
          "text": [
            "Waste_Dataset//Images_merged//image_39.jpg\n"
          ],
          "name": "stdout"
        },
        {
          "output_type": "stream",
          "text": [
            "\r 99%|█████████▉| 791/800 [07:32<00:04,  2.11it/s]"
          ],
          "name": "stderr"
        },
        {
          "output_type": "stream",
          "text": [
            "Waste_Dataset//Images_merged//image_40.jpg\n"
          ],
          "name": "stdout"
        },
        {
          "output_type": "stream",
          "text": [
            "\r 99%|█████████▉| 792/800 [07:33<00:03,  2.06it/s]"
          ],
          "name": "stderr"
        },
        {
          "output_type": "stream",
          "text": [
            "Waste_Dataset//Images_merged//image_41.jpg\n"
          ],
          "name": "stdout"
        },
        {
          "output_type": "stream",
          "text": [
            "\r 99%|█████████▉| 793/800 [07:33<00:03,  2.01it/s]"
          ],
          "name": "stderr"
        },
        {
          "output_type": "stream",
          "text": [
            "Waste_Dataset//Images_merged//image_42.jpg\n"
          ],
          "name": "stdout"
        },
        {
          "output_type": "stream",
          "text": [
            "\r 99%|█████████▉| 794/800 [07:34<00:02,  2.02it/s]"
          ],
          "name": "stderr"
        },
        {
          "output_type": "stream",
          "text": [
            "Waste_Dataset//Images_merged//image_43.jpg\n"
          ],
          "name": "stdout"
        },
        {
          "output_type": "stream",
          "text": [
            "\r 99%|█████████▉| 795/800 [07:34<00:02,  2.00it/s]"
          ],
          "name": "stderr"
        },
        {
          "output_type": "stream",
          "text": [
            "Waste_Dataset//Images_merged//image_44.jpg\n"
          ],
          "name": "stdout"
        },
        {
          "output_type": "stream",
          "text": [
            "\r100%|█████████▉| 796/800 [07:35<00:02,  2.00it/s]"
          ],
          "name": "stderr"
        },
        {
          "output_type": "stream",
          "text": [
            "Waste_Dataset//Images_merged//image_45.jpg\n"
          ],
          "name": "stdout"
        },
        {
          "output_type": "stream",
          "text": [
            "\r100%|█████████▉| 797/800 [07:35<00:01,  1.99it/s]"
          ],
          "name": "stderr"
        },
        {
          "output_type": "stream",
          "text": [
            "Waste_Dataset//Images_merged//image_46.jpg\n"
          ],
          "name": "stdout"
        },
        {
          "output_type": "stream",
          "text": [
            "\r100%|█████████▉| 798/800 [07:36<00:01,  1.86it/s]"
          ],
          "name": "stderr"
        },
        {
          "output_type": "stream",
          "text": [
            "Waste_Dataset//Images_merged//image_47.jpg\n"
          ],
          "name": "stdout"
        },
        {
          "output_type": "stream",
          "text": [
            "\r100%|█████████▉| 799/800 [07:36<00:00,  1.89it/s]"
          ],
          "name": "stderr"
        },
        {
          "output_type": "stream",
          "text": [
            "Waste_Dataset//Images_merged//image_48.jpg\n"
          ],
          "name": "stdout"
        },
        {
          "output_type": "stream",
          "text": [
            "100%|██████████| 800/800 [07:37<00:00,  1.75it/s]\n"
          ],
          "name": "stderr"
        }
      ]
    },
    {
      "cell_type": "code",
      "metadata": {
        "id": "RSAdBuOYztku",
        "colab": {
          "base_uri": "https://localhost:8080/",
          "height": 35
        },
        "outputId": "86bee337-51d5-4cd6-8b4b-a1a03c841e44"
      },
      "source": [
        "import os\n",
        "import sys\n",
        "print(sys.path.append(\"Monk_Object_Detection/5_pytorch_retinanet/lib/\"))"
      ],
      "execution_count": null,
      "outputs": [
        {
          "output_type": "stream",
          "text": [
            "None\n"
          ],
          "name": "stdout"
        }
      ]
    },
    {
      "cell_type": "code",
      "metadata": {
        "id": "giAKVDLN1nDR"
      },
      "source": [
        "from train_detector import Detector\n",
        "gtf = Detector();"
      ],
      "execution_count": null,
      "outputs": []
    },
    {
      "cell_type": "code",
      "metadata": {
        "id": "86ZY6ekw1p1O"
      },
      "source": [
        ""
      ],
      "execution_count": null,
      "outputs": []
    },
    {
      "cell_type": "code",
      "metadata": {
        "id": "-yXaUYUp1r20"
      },
      "source": [
        "root_dir = \"./\";\n",
        "coco_dir=\"Waste_Dataset\";\n",
        "img_dir = \"./\";\n",
        "set_dir = \"Images_merged\";"
      ],
      "execution_count": null,
      "outputs": []
    },
    {
      "cell_type": "code",
      "metadata": {
        "id": "-rAM8v-j1ut9",
        "colab": {
          "base_uri": "https://localhost:8080/",
          "height": 105
        },
        "outputId": "d3caaf63-6591-4165-91d1-86d79038c2b9"
      },
      "source": [
        "gtf.Train_Dataset(root_dir,coco_dir, img_dir, set_dir, batch_size=2, use_gpu=True)"
      ],
      "execution_count": null,
      "outputs": [
        {
          "output_type": "stream",
          "text": [
            "loading annotations into memory...\n",
            "Done (t=0.01s)\n",
            "creating index...\n",
            "index created!\n",
            "Num training images: 800\n"
          ],
          "name": "stdout"
        }
      ]
    },
    {
      "cell_type": "code",
      "metadata": {
        "id": "fKwZPWal1xhD",
        "colab": {
          "base_uri": "https://localhost:8080/",
          "height": 35
        },
        "outputId": "93c0a0f1-ce8c-47a4-e272-03ffe0b25739"
      },
      "source": [
        "gtf.system_dict[\"local\"][\"dataset_train\"].classes"
      ],
      "execution_count": null,
      "outputs": [
        {
          "output_type": "execute_result",
          "data": {
            "text/plain": [
              "{'dry_waste': 0, 'wet_waste': 1}"
            ]
          },
          "metadata": {
            "tags": []
          },
          "execution_count": 24
        }
      ]
    },
    {
      "cell_type": "code",
      "metadata": {
        "id": "8P2GunYz1yNu"
      },
      "source": [
        "gtf.Model(model_name=\"resnet50\");"
      ],
      "execution_count": null,
      "outputs": []
    },
    {
      "cell_type": "code",
      "metadata": {
        "id": "E2FRtfwP12Om"
      },
      "source": [
        "gtf.Set_Hyperparams(lr=0.0001, print_interval=20)"
      ],
      "execution_count": null,
      "outputs": []
    },
    {
      "cell_type": "code",
      "metadata": {
        "id": "UZ4sBukF16xg",
        "colab": {
          "base_uri": "https://localhost:8080/",
          "height": 1000
        },
        "outputId": "e3ddf856-83f3-41c1-b827-83f071f07521"
      },
      "source": [
        "gtf.Train(num_epochs=8, output_model_name=\"final_model.pt\");"
      ],
      "execution_count": null,
      "outputs": [
        {
          "output_type": "stream",
          "text": [
            "Epoch: 0 | Iteration: 0 | Classification loss: 1.13300 | Regression loss: 1.03699 | Running loss: 2.16999\n",
            "Epoch: 0 | Iteration: 20 | Classification loss: 0.59477 | Regression loss: 0.95496 | Running loss: 1.91750\n",
            "Epoch: 0 | Iteration: 40 | Classification loss: 0.68764 | Regression loss: 0.94722 | Running loss: 1.75317\n",
            "Epoch: 0 | Iteration: 60 | Classification loss: 0.27461 | Regression loss: 0.73759 | Running loss: 1.61685\n",
            "Epoch: 0 | Iteration: 80 | Classification loss: 0.51147 | Regression loss: 0.68049 | Running loss: 1.58126\n",
            "Epoch: 0 | Iteration: 100 | Classification loss: 0.44071 | Regression loss: 0.62353 | Running loss: 1.51193\n",
            "Epoch: 0 | Iteration: 120 | Classification loss: 0.64894 | Regression loss: 0.76611 | Running loss: 1.46671\n",
            "Epoch: 0 | Iteration: 140 | Classification loss: 0.22301 | Regression loss: 0.51655 | Running loss: 1.41406\n",
            "Epoch: 0 | Iteration: 160 | Classification loss: 0.42292 | Regression loss: 0.66847 | Running loss: 1.38947\n",
            "Epoch: 0 | Iteration: 180 | Classification loss: 0.48412 | Regression loss: 0.80733 | Running loss: 1.36451\n",
            "Epoch: 0 | Iteration: 200 | Classification loss: 0.46396 | Regression loss: 1.00253 | Running loss: 1.35508\n",
            "Epoch: 0 | Iteration: 220 | Classification loss: 0.43404 | Regression loss: 0.75188 | Running loss: 1.33943\n",
            "Epoch: 0 | Iteration: 240 | Classification loss: 0.32747 | Regression loss: 0.41751 | Running loss: 1.31066\n",
            "Epoch: 0 | Iteration: 260 | Classification loss: 0.36033 | Regression loss: 0.67285 | Running loss: 1.28555\n",
            "Epoch: 0 | Iteration: 280 | Classification loss: 0.32167 | Regression loss: 0.62324 | Running loss: 1.27091\n",
            "Epoch: 0 | Iteration: 300 | Classification loss: 0.48458 | Regression loss: 0.96595 | Running loss: 1.25801\n",
            "Epoch: 0 | Iteration: 320 | Classification loss: 0.44682 | Regression loss: 0.68268 | Running loss: 1.25032\n",
            "Epoch: 0 | Iteration: 340 | Classification loss: 0.26587 | Regression loss: 0.34071 | Running loss: 1.23761\n",
            "Epoch: 0 | Iteration: 360 | Classification loss: 0.45203 | Regression loss: 0.75815 | Running loss: 1.22671\n",
            "Epoch: 0 | Iteration: 380 | Classification loss: 0.23572 | Regression loss: 0.54016 | Running loss: 1.21947\n",
            "Epoch: 1 | Iteration: 0 | Classification loss: 0.49743 | Regression loss: 0.47089 | Running loss: 1.20401\n",
            "Epoch: 1 | Iteration: 20 | Classification loss: 0.25320 | Regression loss: 0.35115 | Running loss: 1.19287\n",
            "Epoch: 1 | Iteration: 40 | Classification loss: 0.37808 | Regression loss: 0.73157 | Running loss: 1.17988\n",
            "Epoch: 1 | Iteration: 60 | Classification loss: 0.49736 | Regression loss: 0.69215 | Running loss: 1.17256\n",
            "Epoch: 1 | Iteration: 80 | Classification loss: 0.34993 | Regression loss: 0.88624 | Running loss: 1.16464\n",
            "Epoch: 1 | Iteration: 100 | Classification loss: 0.22655 | Regression loss: 0.49458 | Running loss: 1.15911\n",
            "Epoch: 1 | Iteration: 120 | Classification loss: 0.42327 | Regression loss: 0.61326 | Running loss: 1.12031\n",
            "Epoch: 1 | Iteration: 140 | Classification loss: 0.24597 | Regression loss: 0.79113 | Running loss: 1.10169\n",
            "Epoch: 1 | Iteration: 160 | Classification loss: 0.34223 | Regression loss: 0.58690 | Running loss: 1.09187\n",
            "Epoch: 1 | Iteration: 180 | Classification loss: 0.15381 | Regression loss: 0.46519 | Running loss: 1.06743\n",
            "Epoch: 1 | Iteration: 200 | Classification loss: 0.33535 | Regression loss: 0.68351 | Running loss: 1.05187\n",
            "Epoch: 1 | Iteration: 220 | Classification loss: 0.28530 | Regression loss: 0.32383 | Running loss: 1.03725\n",
            "Epoch: 1 | Iteration: 240 | Classification loss: 0.12684 | Regression loss: 0.47865 | Running loss: 1.02487\n",
            "Epoch: 1 | Iteration: 260 | Classification loss: 0.53706 | Regression loss: 0.78446 | Running loss: 1.01056\n",
            "Epoch: 1 | Iteration: 280 | Classification loss: 0.24941 | Regression loss: 0.35337 | Running loss: 1.00030\n",
            "Epoch: 1 | Iteration: 300 | Classification loss: 0.15422 | Regression loss: 0.50947 | Running loss: 0.98861\n",
            "Epoch: 1 | Iteration: 320 | Classification loss: 0.17503 | Regression loss: 0.61712 | Running loss: 0.97151\n",
            "Epoch: 1 | Iteration: 340 | Classification loss: 0.26091 | Regression loss: 0.44878 | Running loss: 0.96463\n",
            "Epoch: 1 | Iteration: 360 | Classification loss: 0.35989 | Regression loss: 0.52146 | Running loss: 0.95820\n",
            "Epoch: 1 | Iteration: 380 | Classification loss: 0.37398 | Regression loss: 0.53979 | Running loss: 0.94539\n",
            "Epoch: 2 | Iteration: 0 | Classification loss: 0.35111 | Regression loss: 0.74855 | Running loss: 0.93256\n",
            "Epoch: 2 | Iteration: 20 | Classification loss: 0.14879 | Regression loss: 0.38369 | Running loss: 0.91587\n",
            "Epoch: 2 | Iteration: 40 | Classification loss: 0.11282 | Regression loss: 0.38406 | Running loss: 0.91136\n",
            "Epoch: 2 | Iteration: 60 | Classification loss: 0.51680 | Regression loss: 0.84046 | Running loss: 0.90893\n",
            "Epoch: 2 | Iteration: 80 | Classification loss: 0.11902 | Regression loss: 0.24148 | Running loss: 0.89847\n",
            "Epoch: 2 | Iteration: 100 | Classification loss: 0.27664 | Regression loss: 0.34160 | Running loss: 0.89322\n",
            "Epoch: 2 | Iteration: 120 | Classification loss: 0.25436 | Regression loss: 0.58315 | Running loss: 0.88432\n",
            "Epoch: 2 | Iteration: 140 | Classification loss: 0.35324 | Regression loss: 0.33276 | Running loss: 0.88085\n",
            "Epoch: 2 | Iteration: 160 | Classification loss: 0.04993 | Regression loss: 0.33201 | Running loss: 0.87118\n",
            "Epoch: 2 | Iteration: 180 | Classification loss: 0.05750 | Regression loss: 0.31547 | Running loss: 0.86266\n",
            "Epoch: 2 | Iteration: 200 | Classification loss: 0.23203 | Regression loss: 0.36591 | Running loss: 0.83754\n",
            "Epoch: 2 | Iteration: 220 | Classification loss: 0.52805 | Regression loss: 0.73726 | Running loss: 0.83182\n",
            "Epoch: 2 | Iteration: 240 | Classification loss: 0.31142 | Regression loss: 0.52757 | Running loss: 0.81355\n",
            "Epoch: 2 | Iteration: 260 | Classification loss: 1.22667 | Regression loss: 0.94402 | Running loss: 0.80027\n",
            "Epoch: 2 | Iteration: 280 | Classification loss: 0.06653 | Regression loss: 0.22298 | Running loss: 0.80172\n",
            "Epoch: 2 | Iteration: 300 | Classification loss: 0.16995 | Regression loss: 0.46829 | Running loss: 0.80197\n",
            "Epoch: 2 | Iteration: 320 | Classification loss: 0.40680 | Regression loss: 0.63048 | Running loss: 0.79782\n",
            "Epoch: 2 | Iteration: 340 | Classification loss: 0.10377 | Regression loss: 0.29530 | Running loss: 0.79674\n",
            "Epoch: 2 | Iteration: 360 | Classification loss: 0.09402 | Regression loss: 0.30425 | Running loss: 0.79009\n",
            "Epoch: 2 | Iteration: 380 | Classification loss: 0.64861 | Regression loss: 0.84838 | Running loss: 0.78066\n",
            "Epoch: 3 | Iteration: 0 | Classification loss: 0.45414 | Regression loss: 0.86262 | Running loss: 0.77217\n",
            "Epoch: 3 | Iteration: 20 | Classification loss: 0.26500 | Regression loss: 0.54064 | Running loss: 0.76714\n",
            "Epoch: 3 | Iteration: 40 | Classification loss: 0.04619 | Regression loss: 0.20495 | Running loss: 0.76084\n",
            "Epoch: 3 | Iteration: 60 | Classification loss: 0.28570 | Regression loss: 0.35256 | Running loss: 0.75297\n",
            "Epoch: 3 | Iteration: 80 | Classification loss: 0.25155 | Regression loss: 0.49885 | Running loss: 0.75188\n",
            "Epoch: 3 | Iteration: 100 | Classification loss: 0.09383 | Regression loss: 0.30641 | Running loss: 0.74431\n",
            "Epoch: 3 | Iteration: 120 | Classification loss: 0.27841 | Regression loss: 0.53151 | Running loss: 0.74468\n",
            "Epoch: 3 | Iteration: 140 | Classification loss: 0.11984 | Regression loss: 0.34934 | Running loss: 0.73253\n",
            "Epoch: 3 | Iteration: 160 | Classification loss: 0.10371 | Regression loss: 0.25876 | Running loss: 0.71923\n",
            "Epoch: 3 | Iteration: 180 | Classification loss: 0.04011 | Regression loss: 0.29529 | Running loss: 0.70937\n",
            "Epoch: 3 | Iteration: 200 | Classification loss: 0.50531 | Regression loss: 0.63742 | Running loss: 0.71249\n",
            "Epoch: 3 | Iteration: 220 | Classification loss: 0.04414 | Regression loss: 0.24398 | Running loss: 0.71034\n",
            "Epoch: 3 | Iteration: 240 | Classification loss: 0.07835 | Regression loss: 0.26856 | Running loss: 0.70170\n",
            "Epoch: 3 | Iteration: 260 | Classification loss: 0.34411 | Regression loss: 0.55990 | Running loss: 0.70476\n",
            "Epoch: 3 | Iteration: 280 | Classification loss: 0.68352 | Regression loss: 0.54487 | Running loss: 0.69767\n",
            "Epoch: 3 | Iteration: 300 | Classification loss: 0.27932 | Regression loss: 0.56983 | Running loss: 0.71016\n",
            "Epoch: 3 | Iteration: 320 | Classification loss: 0.33669 | Regression loss: 0.31393 | Running loss: 0.71346\n",
            "Epoch: 3 | Iteration: 340 | Classification loss: 0.06376 | Regression loss: 0.34301 | Running loss: 0.71383\n",
            "Epoch: 3 | Iteration: 360 | Classification loss: 0.08582 | Regression loss: 0.41467 | Running loss: 0.70948\n",
            "Epoch: 3 | Iteration: 380 | Classification loss: 0.10565 | Regression loss: 0.24806 | Running loss: 0.70261\n",
            "Epoch: 4 | Iteration: 0 | Classification loss: 0.12605 | Regression loss: 0.46510 | Running loss: 0.69711\n",
            "Epoch: 4 | Iteration: 20 | Classification loss: 0.32854 | Regression loss: 0.53483 | Running loss: 0.68857\n",
            "Epoch: 4 | Iteration: 40 | Classification loss: 0.37692 | Regression loss: 0.77434 | Running loss: 0.68468\n",
            "Epoch: 4 | Iteration: 60 | Classification loss: 0.04989 | Regression loss: 0.25499 | Running loss: 0.67929\n",
            "Epoch: 4 | Iteration: 80 | Classification loss: 0.54994 | Regression loss: 0.72463 | Running loss: 0.67763\n",
            "Epoch: 4 | Iteration: 100 | Classification loss: 0.33149 | Regression loss: 0.67882 | Running loss: 0.67091\n",
            "Epoch: 4 | Iteration: 120 | Classification loss: 0.24532 | Regression loss: 0.56065 | Running loss: 0.67018\n",
            "Epoch: 4 | Iteration: 140 | Classification loss: 0.07132 | Regression loss: 0.19757 | Running loss: 0.66469\n",
            "Epoch: 4 | Iteration: 160 | Classification loss: 0.47486 | Regression loss: 0.72059 | Running loss: 0.66706\n",
            "Epoch: 4 | Iteration: 180 | Classification loss: 0.29625 | Regression loss: 0.28360 | Running loss: 0.66026\n",
            "Epoch: 4 | Iteration: 200 | Classification loss: 0.13776 | Regression loss: 0.19138 | Running loss: 0.66590\n",
            "Epoch: 4 | Iteration: 220 | Classification loss: 0.23477 | Regression loss: 0.50640 | Running loss: 0.66151\n",
            "Epoch: 4 | Iteration: 240 | Classification loss: 0.07744 | Regression loss: 0.40416 | Running loss: 0.66369\n",
            "Epoch: 4 | Iteration: 260 | Classification loss: 0.06166 | Regression loss: 0.18400 | Running loss: 0.66492\n",
            "Epoch: 4 | Iteration: 280 | Classification loss: 0.10669 | Regression loss: 0.33130 | Running loss: 0.66539\n",
            "Epoch: 4 | Iteration: 300 | Classification loss: 0.45042 | Regression loss: 0.63536 | Running loss: 0.65516\n",
            "Epoch: 4 | Iteration: 320 | Classification loss: 0.26483 | Regression loss: 0.57137 | Running loss: 0.65068\n",
            "Epoch: 4 | Iteration: 340 | Classification loss: 0.34244 | Regression loss: 0.47610 | Running loss: 0.64737\n",
            "Epoch: 4 | Iteration: 360 | Classification loss: 0.04286 | Regression loss: 0.25981 | Running loss: 0.64129\n",
            "Epoch: 4 | Iteration: 380 | Classification loss: 0.06097 | Regression loss: 0.30468 | Running loss: 0.64821\n",
            "Epoch: 5 | Iteration: 0 | Classification loss: 0.15531 | Regression loss: 0.40454 | Running loss: 0.63523\n",
            "Epoch: 5 | Iteration: 20 | Classification loss: 0.33465 | Regression loss: 0.24633 | Running loss: 0.62050\n",
            "Epoch: 5 | Iteration: 40 | Classification loss: 0.35663 | Regression loss: 0.83529 | Running loss: 0.61727\n",
            "Epoch: 5 | Iteration: 60 | Classification loss: 0.02900 | Regression loss: 0.26575 | Running loss: 0.60941\n",
            "Epoch: 5 | Iteration: 80 | Classification loss: 0.49722 | Regression loss: 0.63557 | Running loss: 0.60389\n",
            "Epoch: 5 | Iteration: 100 | Classification loss: 0.17470 | Regression loss: 0.48849 | Running loss: 0.59354\n",
            "Epoch: 5 | Iteration: 120 | Classification loss: 0.14603 | Regression loss: 0.35448 | Running loss: 0.59304\n",
            "Epoch: 5 | Iteration: 140 | Classification loss: 0.23747 | Regression loss: 0.47914 | Running loss: 0.59100\n",
            "Epoch: 5 | Iteration: 160 | Classification loss: 0.25694 | Regression loss: 0.56399 | Running loss: 0.59459\n",
            "Epoch: 5 | Iteration: 180 | Classification loss: 0.03074 | Regression loss: 0.25104 | Running loss: 0.59554\n",
            "Epoch: 5 | Iteration: 200 | Classification loss: 0.07299 | Regression loss: 0.25401 | Running loss: 0.59241\n",
            "Epoch: 5 | Iteration: 220 | Classification loss: 0.38483 | Regression loss: 0.70861 | Running loss: 0.59296\n",
            "Epoch: 5 | Iteration: 240 | Classification loss: 0.11976 | Regression loss: 0.28142 | Running loss: 0.59523\n",
            "Epoch: 5 | Iteration: 260 | Classification loss: 0.04996 | Regression loss: 0.37394 | Running loss: 0.58620\n",
            "Epoch: 5 | Iteration: 280 | Classification loss: 0.11792 | Regression loss: 0.24109 | Running loss: 0.58685\n",
            "Epoch: 5 | Iteration: 300 | Classification loss: 0.02605 | Regression loss: 0.17235 | Running loss: 0.58100\n",
            "Epoch: 5 | Iteration: 320 | Classification loss: 0.47962 | Regression loss: 0.68074 | Running loss: 0.57791\n",
            "Epoch: 5 | Iteration: 340 | Classification loss: 0.30931 | Regression loss: 0.67870 | Running loss: 0.57875\n",
            "Epoch: 5 | Iteration: 360 | Classification loss: 0.03385 | Regression loss: 0.22177 | Running loss: 0.57556\n",
            "Epoch: 5 | Iteration: 380 | Classification loss: 0.36743 | Regression loss: 0.45638 | Running loss: 0.57630\n",
            "Epoch: 6 | Iteration: 0 | Classification loss: 0.02796 | Regression loss: 0.26609 | Running loss: 0.57762\n",
            "Epoch: 6 | Iteration: 20 | Classification loss: 0.15518 | Regression loss: 0.26491 | Running loss: 0.57725\n",
            "Epoch: 6 | Iteration: 40 | Classification loss: 0.02277 | Regression loss: 0.16008 | Running loss: 0.57604\n",
            "Epoch: 6 | Iteration: 60 | Classification loss: 0.20501 | Regression loss: 0.53396 | Running loss: 0.56910\n",
            "Epoch: 6 | Iteration: 80 | Classification loss: 0.50490 | Regression loss: 0.66931 | Running loss: 0.55631\n",
            "Epoch: 6 | Iteration: 100 | Classification loss: 0.05271 | Regression loss: 0.18192 | Running loss: 0.55708\n",
            "Epoch: 6 | Iteration: 120 | Classification loss: 0.04926 | Regression loss: 0.15556 | Running loss: 0.56359\n",
            "Epoch: 6 | Iteration: 140 | Classification loss: 0.03948 | Regression loss: 0.26707 | Running loss: 0.56002\n",
            "Epoch: 6 | Iteration: 160 | Classification loss: 0.24048 | Regression loss: 0.39744 | Running loss: 0.56051\n",
            "Epoch: 6 | Iteration: 180 | Classification loss: 0.01817 | Regression loss: 0.23699 | Running loss: 0.55917\n",
            "Epoch: 6 | Iteration: 200 | Classification loss: 0.38874 | Regression loss: 0.48555 | Running loss: 0.56419\n",
            "Epoch: 6 | Iteration: 220 | Classification loss: 0.03445 | Regression loss: 0.24631 | Running loss: 0.56378\n",
            "Epoch: 6 | Iteration: 240 | Classification loss: 0.09814 | Regression loss: 0.43076 | Running loss: 0.55956\n",
            "Epoch: 6 | Iteration: 260 | Classification loss: 0.31785 | Regression loss: 0.73061 | Running loss: 0.56005\n",
            "Epoch: 6 | Iteration: 280 | Classification loss: 0.30782 | Regression loss: 0.28259 | Running loss: 0.55294\n",
            "Epoch: 6 | Iteration: 300 | Classification loss: 0.28484 | Regression loss: 0.54057 | Running loss: 0.55771\n",
            "Epoch: 6 | Iteration: 320 | Classification loss: 0.01650 | Regression loss: 0.17203 | Running loss: 0.55785\n",
            "Epoch: 6 | Iteration: 340 | Classification loss: 0.23161 | Regression loss: 0.27580 | Running loss: 0.55359\n",
            "Epoch: 6 | Iteration: 360 | Classification loss: 0.04134 | Regression loss: 0.16144 | Running loss: 0.55362\n",
            "Epoch: 6 | Iteration: 380 | Classification loss: 0.41005 | Regression loss: 0.37934 | Running loss: 0.55225\n",
            "Epoch: 7 | Iteration: 0 | Classification loss: 0.04160 | Regression loss: 0.20956 | Running loss: 0.55082\n",
            "Epoch: 7 | Iteration: 20 | Classification loss: 0.21797 | Regression loss: 0.42689 | Running loss: 0.55060\n",
            "Epoch: 7 | Iteration: 40 | Classification loss: 0.05627 | Regression loss: 0.18930 | Running loss: 0.53869\n",
            "Epoch: 7 | Iteration: 60 | Classification loss: 0.21631 | Regression loss: 0.60081 | Running loss: 0.53722\n",
            "Epoch: 7 | Iteration: 80 | Classification loss: 0.26524 | Regression loss: 0.63582 | Running loss: 0.53139\n",
            "Epoch: 7 | Iteration: 100 | Classification loss: 0.02426 | Regression loss: 0.15209 | Running loss: 0.52280\n",
            "Epoch: 7 | Iteration: 120 | Classification loss: 0.17400 | Regression loss: 0.16911 | Running loss: 0.52152\n",
            "Epoch: 7 | Iteration: 140 | Classification loss: 0.01832 | Regression loss: 0.12238 | Running loss: 0.51827\n",
            "Epoch: 7 | Iteration: 160 | Classification loss: 0.03820 | Regression loss: 0.20554 | Running loss: 0.51493\n",
            "Epoch: 7 | Iteration: 180 | Classification loss: 0.17815 | Regression loss: 0.25434 | Running loss: 0.51210\n",
            "Epoch: 7 | Iteration: 200 | Classification loss: 0.05492 | Regression loss: 0.39706 | Running loss: 0.51504\n",
            "Epoch: 7 | Iteration: 220 | Classification loss: 0.02222 | Regression loss: 0.14664 | Running loss: 0.50807\n",
            "Epoch: 7 | Iteration: 240 | Classification loss: 0.34985 | Regression loss: 0.73114 | Running loss: 0.50936\n",
            "Epoch: 7 | Iteration: 260 | Classification loss: 0.17220 | Regression loss: 0.19593 | Running loss: 0.51339\n",
            "Epoch: 7 | Iteration: 280 | Classification loss: 0.44364 | Regression loss: 0.68465 | Running loss: 0.51286\n",
            "Epoch: 7 | Iteration: 300 | Classification loss: 0.02835 | Regression loss: 0.23514 | Running loss: 0.50627\n",
            "Epoch: 7 | Iteration: 320 | Classification loss: 0.25652 | Regression loss: 0.43849 | Running loss: 0.50474\n",
            "Epoch: 7 | Iteration: 340 | Classification loss: 0.10457 | Regression loss: 0.26485 | Running loss: 0.50466\n",
            "Epoch: 7 | Iteration: 360 | Classification loss: 0.68486 | Regression loss: 0.50414 | Running loss: 0.50073\n",
            "Epoch: 7 | Iteration: 380 | Classification loss: 0.52958 | Regression loss: 0.33666 | Running loss: 0.50284\n"
          ],
          "name": "stdout"
        }
      ]
    },
    {
      "cell_type": "code",
      "metadata": {
        "id": "3qYn7Zmq17j1"
      },
      "source": [
        "import os\n",
        "import sys\n",
        "sys.path.append(\"Monk_Object_Detection/5_pytorch_retinanet/lib/\");"
      ],
      "execution_count": null,
      "outputs": []
    },
    {
      "cell_type": "code",
      "metadata": {
        "id": "CKIfDUcP1-Zj"
      },
      "source": [
        "from infer_detector import Infer"
      ],
      "execution_count": null,
      "outputs": []
    },
    {
      "cell_type": "code",
      "metadata": {
        "id": "vKpbhPOo2BBw"
      },
      "source": [
        "gtf = Infer();"
      ],
      "execution_count": null,
      "outputs": []
    },
    {
      "cell_type": "code",
      "metadata": {
        "id": "Uei4jWJV2DXP",
        "colab": {
          "base_uri": "https://localhost:8080/",
          "height": 35
        },
        "outputId": "46f5046f-b6ac-4d58-8ac5-00b42e349d5e"
      },
      "source": [
        "print(gtf.Model(model_path=\"final_model.pt\"))"
      ],
      "execution_count": null,
      "outputs": [
        {
          "output_type": "stream",
          "text": [
            "None\n"
          ],
          "name": "stdout"
        }
      ]
    },
    {
      "cell_type": "code",
      "metadata": {
        "id": "2kvNJxsO2GGE"
      },
      "source": [
        "f = open(\"Waste_Dataset/annotations/classes.txt\", 'r');\n",
        "class_list = f.readlines();\n",
        "f.close();\n",
        "for i in range(len(class_list)):\n",
        "    class_list[i] = class_list[i][:-1]"
      ],
      "execution_count": null,
      "outputs": []
    },
    {
      "cell_type": "code",
      "metadata": {
        "id": "PF98JUVt2IXd",
        "colab": {
          "base_uri": "https://localhost:8080/",
          "height": 35
        },
        "outputId": "92188532-85e7-42f8-cd24-a44931505cc0"
      },
      "source": [
        "len(class_list)"
      ],
      "execution_count": null,
      "outputs": [
        {
          "output_type": "execute_result",
          "data": {
            "text/plain": [
              "2"
            ]
          },
          "metadata": {
            "tags": []
          },
          "execution_count": 33
        }
      ]
    },
    {
      "cell_type": "code",
      "metadata": {
        "id": "XGkTbU652KxZ",
        "colab": {
          "base_uri": "https://localhost:8080/",
          "height": 401
        },
        "outputId": "cbeaff55-33f8-4754-d57a-4ba56dca4397"
      },
      "source": [
        "img_path = \"Waste_Dataset/Images_merged/plastic251.jpg\";\n",
        "scores, labels, boxes = gtf.Predict(img_path, class_list, vis_threshold=0.4);\n",
        "from IPython.display import Image\n",
        "Image(filename='output.jpg')"
      ],
      "execution_count": null,
      "outputs": [
        {
          "output_type": "execute_result",
          "data": {
            "image/jpeg": "[encoded data removed]",
            "text/plain": [
              "<IPython.core.display.Image object>"
            ]
          },
          "metadata": {
            "tags": []
          },
          "execution_count": 35
        }
      ]
    },
    {
      "cell_type": "code",
      "metadata": {
        "id": "RJPESwdlH-11",
        "colab": {
          "base_uri": "https://localhost:8080/",
          "height": 401
        },
        "outputId": "c37ab85a-8e92-4386-8f86-31423bdd494e"
      },
      "source": [
        "img_path = \"Waste_Dataset/Images_merged/plastic258.jpg\";\n",
        "scores, labels, boxes = gtf.Predict(img_path, class_list, vis_threshold=0.4);\n",
        "from IPython.display import Image\n",
        "Image(filename='output.jpg')"
      ],
      "execution_count": null,
      "outputs": [
        {
          "output_type": "execute_result",
          "data": {
            "image/jpeg": "[encoded data removed]",
            "text/plain": [
              "<IPython.core.display.Image object>"
            ]
          },
          "metadata": {
            "tags": []
          },
          "execution_count": 36
        }
      ]
    },
    {
      "cell_type": "code",
      "metadata": {
        "id": "nvqJcFhrICf3",
        "colab": {
          "base_uri": "https://localhost:8080/",
          "height": 401
        },
        "outputId": "6d9c11be-68b4-47fe-fd9d-cd519e72b428"
      },
      "source": [
        "img_path = \"Waste_Dataset/Images_merged/plastic249.jpg\";\n",
        "scores, labels, boxes = gtf.Predict(img_path, class_list, vis_threshold=0.4);\n",
        "from IPython.display import Image\n",
        "Image(filename='output.jpg')"
      ],
      "execution_count": null,
      "outputs": [
        {
          "output_type": "execute_result",
          "data": {
            "image/jpeg": "[encoded data removed]",
            "text/plain": [
              "<IPython.core.display.Image object>"
            ]
          },
          "metadata": {
            "tags": []
          },
          "execution_count": 37
        }
      ]
    },
    {
      "cell_type": "code",
      "metadata": {
        "id": "R8jqTTYtIJdO",
        "colab": {
          "base_uri": "https://localhost:8080/",
          "height": 401
        },
        "outputId": "194bac3e-505c-4172-ba3e-02af77ace2b4"
      },
      "source": [
        "img_path = \"Waste_Dataset/Images_merged/plastic236.jpg\";\n",
        "scores, labels, boxes = gtf.Predict(img_path, class_list, vis_threshold=0.4);\n",
        "from IPython.display import Image\n",
        "Image(filename='output.jpg')"
      ],
      "execution_count": null,
      "outputs": [
        {
          "output_type": "execute_result",
          "data": {
            "image/jpeg": "[encoded data removed]",
            "text/plain": [
              "<IPython.core.display.Image object>"
            ]
          },
          "metadata": {
            "tags": []
          },
          "execution_count": 38
        }
      ]
    },
    {
      "cell_type": "code",
      "metadata": {
        "id": "CPAn8XUxINsP",
        "colab": {
          "base_uri": "https://localhost:8080/",
          "height": 239
        },
        "outputId": "70b56ce8-6fed-4406-a557-2dbc30bce9e9"
      },
      "source": [
        "img_path = \"Waste_Dataset/Images_merged/O_41.jpg\";\n",
        "scores, labels, boxes = gtf.Predict(img_path, class_list, vis_threshold=0.4);\n",
        "from IPython.display import Image\n",
        "Image(filename='output.jpg')"
      ],
      "execution_count": null,
      "outputs": [
        {
          "output_type": "execute_result",
          "data": {
            "image/jpeg": "[encoded data removed]",
            "text/plain": [
              "<IPython.core.display.Image object>"
            ]
          },
          "metadata": {
            "tags": []
          },
          "execution_count": 39
        }
      ]
    },
    {
      "cell_type": "code",
      "metadata": {
        "id": "EuOyrGwJIkb-",
        "colab": {
          "base_uri": "https://localhost:8080/",
          "height": 207
        },
        "outputId": "10d7234e-4f29-4658-bee8-8e5130348f66"
      },
      "source": [
        "img_path = \"Waste_Dataset/Images_merged/O_37.jpg\";\n",
        "scores, labels, boxes = gtf.Predict(img_path, class_list, vis_threshold=0.4);\n",
        "from IPython.display import Image\n",
        "Image(filename='output.jpg')"
      ],
      "execution_count": null,
      "outputs": [
        {
          "output_type": "execute_result",
          "data": {
            "image/jpeg": "[encoded data removed]",
            "text/plain": [
              "<IPython.core.display.Image object>"
            ]
          },
          "metadata": {
            "tags": []
          },
          "execution_count": 40
        }
      ]
    },
    {
      "cell_type": "code",
      "metadata": {
        "id": "_u-jM7AxIpMl",
        "colab": {
          "base_uri": "https://localhost:8080/",
          "height": 401
        },
        "outputId": "ac520692-2df6-4d16-d1d8-16500c179d55"
      },
      "source": [
        "img_path = \"Waste_Dataset/Images_merged/metal170.jpg\";\n",
        "scores, labels, boxes = gtf.Predict(img_path, class_list, vis_threshold=0.4);\n",
        "from IPython.display import Image\n",
        "Image(filename='output.jpg')"
      ],
      "execution_count": null,
      "outputs": [
        {
          "output_type": "execute_result",
          "data": {
            "image/jpeg": "[encoded data removed]",
            "text/plain": [
              "<IPython.core.display.Image object>"
            ]
          },
          "metadata": {
            "tags": []
          },
          "execution_count": 41
        }
      ]
    },
    {
      "cell_type": "code",
      "metadata": {
        "id": "bKxHKKryIvei",
        "colab": {
          "base_uri": "https://localhost:8080/",
          "height": 211
        },
        "outputId": "c6931879-a66b-4f54-882c-6886f0af3e6a"
      },
      "source": [
        "img_path = \"Waste_Dataset/Images_merged/image104.jpg\";\n",
        "scores, labels, boxes = gtf.Predict(img_path, class_list, vis_threshold=0.4);\n",
        "from IPython.display import Image\n",
        "Image(filename='output.jpg')"
      ],
      "execution_count": null,
      "outputs": [
        {
          "output_type": "execute_result",
          "data": {
            "image/jpeg": "[encoded data removed]",
            "text/plain": [
              "<IPython.core.display.Image object>"
            ]
          },
          "metadata": {
            "tags": []
          },
          "execution_count": 42
        }
      ]
    },
    {
      "cell_type": "code",
      "metadata": {
        "id": "YZIM6NEiI5yK",
        "colab": {
          "base_uri": "https://localhost:8080/",
          "height": 200
        },
        "outputId": "7d088b9b-bb87-429c-e411-23074bf3e04b"
      },
      "source": [
        "img_path = \"Waste_Dataset/Images_merged/image107.jpg\";\n",
        "scores, labels, boxes = gtf.Predict(img_path, class_list, vis_threshold=0.4);\n",
        "from IPython.display import Image\n",
        "Image(filename='output.jpg')"
      ],
      "execution_count": null,
      "outputs": [
        {
          "output_type": "execute_result",
          "data": {
            "image/jpeg": "[encoded data removed]",
            "text/plain": [
              "<IPython.core.display.Image object>"
            ]
          },
          "metadata": {
            "tags": []
          },
          "execution_count": 43
        }
      ]
    },
    {
      "cell_type": "code",
      "metadata": {
        "id": "0TiwV5JeJDgt",
        "colab": {
          "base_uri": "https://localhost:8080/",
          "height": 211
        },
        "outputId": "36a94956-4fd9-4abe-dc70-1eb34450f214"
      },
      "source": [
        "img_path = \"Waste_Dataset/Images_merged/image117.jpg\";\n",
        "scores, labels, boxes = gtf.Predict(img_path, class_list, vis_threshold=0.4);\n",
        "from IPython.display import Image\n",
        "Image(filename='output.jpg')"
      ],
      "execution_count": null,
      "outputs": [
        {
          "output_type": "execute_result",
          "data": {
            "image/jpeg": "[encoded data removed]",
            "text/plain": [
              "<IPython.core.display.Image object>"
            ]
          },
          "metadata": {
            "tags": []
          },
          "execution_count": 45
        }
      ]
    }
  ]
}